{
 "cells": [
  {
   "cell_type": "markdown",
   "id": "f59d59d4",
   "metadata": {},
   "source": [
    "### Install the libraries"
   ]
  },
  {
   "cell_type": "code",
   "execution_count": 2,
   "id": "0792a566",
   "metadata": {},
   "outputs": [
    {
     "name": "stdout",
     "output_type": "stream",
     "text": [
      "Collecting SpeechRecognition\n",
      "  Using cached SpeechRecognition-3.10.4-py2.py3-none-any.whl.metadata (28 kB)\n",
      "Collecting PyAudio\n",
      "  Downloading PyAudio-0.2.14-cp311-cp311-win_amd64.whl.metadata (2.7 kB)\n",
      "Requirement already satisfied: requests>=2.26.0 in d:\\anaconda\\lib\\site-packages (from SpeechRecognition) (2.31.0)\n",
      "Requirement already satisfied: typing-extensions in d:\\anaconda\\lib\\site-packages (from SpeechRecognition) (4.9.0)\n",
      "Requirement already satisfied: charset-normalizer<4,>=2 in d:\\anaconda\\lib\\site-packages (from requests>=2.26.0->SpeechRecognition) (2.0.4)\n",
      "Requirement already satisfied: idna<4,>=2.5 in d:\\anaconda\\lib\\site-packages (from requests>=2.26.0->SpeechRecognition) (3.4)\n",
      "Requirement already satisfied: urllib3<3,>=1.21.1 in d:\\anaconda\\lib\\site-packages (from requests>=2.26.0->SpeechRecognition) (2.0.7)\n",
      "Requirement already satisfied: certifi>=2017.4.17 in d:\\anaconda\\lib\\site-packages (from requests>=2.26.0->SpeechRecognition) (2024.6.2)\n",
      "Downloading SpeechRecognition-3.10.4-py2.py3-none-any.whl (32.8 MB)\n",
      "   ---------------------------------------- 0.0/32.8 MB ? eta -:--:--\n",
      "   ---------------------------------------- 0.1/32.8 MB 2.6 MB/s eta 0:00:13\n",
      "   ---------------------------------------- 0.3/32.8 MB 3.5 MB/s eta 0:00:10\n",
      "   - -------------------------------------- 1.0/32.8 MB 6.7 MB/s eta 0:00:05\n",
      "   --- ------------------------------------ 2.6/32.8 MB 13.6 MB/s eta 0:00:03\n",
      "   ------ --------------------------------- 5.5/32.8 MB 23.4 MB/s eta 0:00:02\n",
      "   ------------ --------------------------- 10.3/32.8 MB 40.9 MB/s eta 0:00:01\n",
      "   ---------------- ----------------------- 13.5/32.8 MB 81.8 MB/s eta 0:00:01\n",
      "   --------------------- ------------------ 17.3/32.8 MB 93.0 MB/s eta 0:00:01\n",
      "   --------------------- ------------------ 17.6/32.8 MB 72.6 MB/s eta 0:00:01\n",
      "   ------------------------- -------------- 21.2/32.8 MB 59.5 MB/s eta 0:00:01\n",
      "   ------------------------------ --------- 24.9/32.8 MB 59.5 MB/s eta 0:00:01\n",
      "   ------------------------------- -------- 25.7/32.8 MB 46.7 MB/s eta 0:00:01\n",
      "   ---------------------------------- ----- 28.7/32.8 MB 59.5 MB/s eta 0:00:01\n",
      "   ---------------------------------------  32.8/32.8 MB 65.6 MB/s eta 0:00:01\n",
      "   ---------------------------------------  32.8/32.8 MB 65.6 MB/s eta 0:00:01\n",
      "   ---------------------------------------  32.8/32.8 MB 65.6 MB/s eta 0:00:01\n",
      "   ---------------------------------------- 32.8/32.8 MB 32.8 MB/s eta 0:00:00\n",
      "Downloading PyAudio-0.2.14-cp311-cp311-win_amd64.whl (164 kB)\n",
      "   ---------------------------------------- 0.0/164.1 kB ? eta -:--:--\n",
      "   ---------------------------------------- 164.1/164.1 kB 5.0 MB/s eta 0:00:00\n",
      "Installing collected packages: PyAudio, SpeechRecognition\n",
      "Successfully installed PyAudio-0.2.14 SpeechRecognition-3.10.4\n"
     ]
    }
   ],
   "source": [
    "!pip install SpeechRecognition PyAudio"
   ]
  },
  {
   "cell_type": "markdown",
   "id": "6ecd6f83",
   "metadata": {},
   "source": [
    "### Import the package"
   ]
  },
  {
   "cell_type": "code",
   "execution_count": 3,
   "id": "ca3474ea",
   "metadata": {},
   "outputs": [],
   "source": [
    "import speech_recognition as sr"
   ]
  },
  {
   "cell_type": "markdown",
   "id": "6bdae84a",
   "metadata": {},
   "source": [
    "### Create the object of microphone"
   ]
  },
  {
   "cell_type": "code",
   "execution_count": 4,
   "id": "b4f82740",
   "metadata": {},
   "outputs": [],
   "source": [
    "r = sr.Recognizer()"
   ]
  },
  {
   "cell_type": "markdown",
   "id": "6ca1bfe5",
   "metadata": {},
   "source": [
    "### Open Microphone, Recognize and Convert"
   ]
  },
  {
   "cell_type": "code",
   "execution_count": 6,
   "id": "31fd65c9",
   "metadata": {},
   "outputs": [
    {
     "name": "stdout",
     "output_type": "stream",
     "text": [
      "Speak:\n",
      "You said: hello\n"
     ]
    }
   ],
   "source": [
    "with sr.Microphone() as source:\n",
    "    r.adjust_for_ambient_noise(source)\n",
    "    print('Speak:')\n",
    "    audio = r.listen(source)\n",
    "    print('You said:', r.recognize_google(audio))"
   ]
  },
  {
   "cell_type": "code",
   "execution_count": null,
   "id": "53073d36",
   "metadata": {},
   "outputs": [],
   "source": []
  }
 ],
 "metadata": {
  "kernelspec": {
   "display_name": "Python 3 (ipykernel)",
   "language": "python",
   "name": "python3"
  },
  "language_info": {
   "codemirror_mode": {
    "name": "ipython",
    "version": 3
   },
   "file_extension": ".py",
   "mimetype": "text/x-python",
   "name": "python",
   "nbconvert_exporter": "python",
   "pygments_lexer": "ipython3",
   "version": "3.11.7"
  }
 },
 "nbformat": 4,
 "nbformat_minor": 5
}
