{
 "cells": [
  {
   "cell_type": "code",
   "execution_count": 1,
   "metadata": {
    "colab": {
     "base_uri": "https://localhost:8080/",
     "height": 391
    },
    "id": "zoJXj-e7v8lO",
    "outputId": "28166ddd-42a2-43be-f9af-602eea430dc3"
   },
   "outputs": [
    {
     "name": "stdout",
     "output_type": "stream",
     "text": [
      "Collecting goslate\n",
      "  Downloading goslate-1.5.4.tar.gz (14 kB)\n",
      "  Preparing metadata (setup.py) ... \u001b[?25l\u001b[?25hdone\n",
      "Collecting futures (from goslate)\n",
      "  Downloading futures-3.0.5.tar.gz (25 kB)\n",
      "  Preparing metadata (setup.py) ... \u001b[?25l\u001b[?25hdone\n",
      "Building wheels for collected packages: goslate, futures\n",
      "  Building wheel for goslate (setup.py) ... \u001b[?25l\u001b[?25hdone\n",
      "  Created wheel for goslate: filename=goslate-1.5.4-py3-none-any.whl size=11577 sha256=1f152cc91a2db27a97519316dda4a3da50d24d843c87eef27b390d3bdd504b2c\n",
      "  Stored in directory: /root/.cache/pip/wheels/b5/30/e9/63b6de83667be2977ee793a146a2c80f8e588d5c0203b39dc9\n",
      "  Building wheel for futures (setup.py) ... \u001b[?25l\u001b[?25hdone\n",
      "  Created wheel for futures: filename=futures-3.0.5-py3-none-any.whl size=14067 sha256=3bbf2cb5c95067b76235c7c020fdd1d46fd4d357b9be8f3bad10c445810682a1\n",
      "  Stored in directory: /root/.cache/pip/wheels/ef/af/93/48739d464ba97d4cdc77c627d282f9794c8d276e42aaa92160\n",
      "Successfully built goslate futures\n",
      "Installing collected packages: futures, goslate\n",
      "Successfully installed futures-3.0.5 goslate-1.5.4\n"
     ]
    },
    {
     "data": {
      "application/vnd.colab-display-data+json": {
       "id": "78b2700269bf4d38ac4c5bfb05b12f2e",
       "pip_warning": {
        "packages": [
         "concurrent"
        ]
       }
      }
     },
     "metadata": {},
     "output_type": "display_data"
    }
   ],
   "source": [
    "!pip install goslate"
   ]
  },
  {
   "cell_type": "code",
   "execution_count": 1,
   "metadata": {
    "id": "5itf9TPgv_k7"
   },
   "outputs": [],
   "source": [
    "from goslate import Goslate"
   ]
  },
  {
   "cell_type": "code",
   "execution_count": 2,
   "metadata": {
    "id": "xIIAZKEmwqxq"
   },
   "outputs": [],
   "source": [
    "text='Hello friends. How are you all?'"
   ]
  },
  {
   "cell_type": "code",
   "execution_count": 3,
   "metadata": {
    "id": "VQgSelBmwyh1"
   },
   "outputs": [],
   "source": [
    "trans= Goslate()"
   ]
  },
  {
   "cell_type": "code",
   "execution_count": 6,
   "metadata": {
    "colab": {
     "base_uri": "https://localhost:8080/",
     "height": 36
    },
    "id": "Ild9-2uzw0dE",
    "outputId": "29668da4-1f77-4185-e0f3-7d3ebd0cbe7c"
   },
   "outputs": [
    {
     "data": {
      "application/vnd.google.colaboratory.intrinsic+json": {
       "type": "string"
      },
      "text/plain": [
       "'नमस्कार दोस्तों। आप सब कैसे हैं?'"
      ]
     },
     "execution_count": 6,
     "metadata": {},
     "output_type": "execute_result"
    }
   ],
   "source": [
    "trans.translate(text,target_language='hi')"
   ]
  },
  {
   "cell_type": "code",
   "execution_count": 10,
   "metadata": {
    "colab": {
     "base_uri": "https://localhost:8080/"
    },
    "id": "GD1jtUPYxheL",
    "outputId": "bc5adb64-68fc-44be-a6c7-effd24f4b411"
   },
   "outputs": [
    {
     "name": "stderr",
     "output_type": "stream",
     "text": [
      "[nltk_data] Downloading package punkt to /root/nltk_data...\n",
      "[nltk_data]   Unzipping tokenizers/punkt.zip.\n"
     ]
    },
    {
     "data": {
      "text/plain": [
       "True"
      ]
     },
     "execution_count": 10,
     "metadata": {},
     "output_type": "execute_result"
    }
   ],
   "source": [
    "from textblob import TextBlob\n",
    "import nltk\n",
    "nltk.download('punkt')"
   ]
  },
  {
   "cell_type": "code",
   "execution_count": 11,
   "metadata": {
    "colab": {
     "base_uri": "https://localhost:8080/"
    },
    "id": "VZRiSS81xvOj",
    "outputId": "a963c89b-af47-4793-f80c-e87bb12873f1"
   },
   "outputs": [
    {
     "data": {
      "text/plain": [
       "['नमस्कार मित्रांनो.', 'तुम्ही सगळे कसे आहात?']"
      ]
     },
     "execution_count": 11,
     "metadata": {},
     "output_type": "execute_result"
    }
   ],
   "source": [
    "TextBlob(text).translate(from_lang='en',to='mr').raw_sentences"
   ]
  },
  {
   "cell_type": "code",
   "execution_count": 13,
   "metadata": {
    "colab": {
     "base_uri": "https://localhost:8080/"
    },
    "id": "EGRrt35cx_Ny",
    "outputId": "beb769b2-78c1-4249-da0b-eb53c2746ea1"
   },
   "outputs": [
    {
     "data": {
      "text/plain": [
       "['कार्यक्रम कधी पूर्ण करायचा?']"
      ]
     },
     "execution_count": 13,
     "metadata": {},
     "output_type": "execute_result"
    }
   ],
   "source": [
    "TextBlob('When to finish the program?').translate(from_lang= 'en',to='mr').raw_sentences"
   ]
  },
  {
   "cell_type": "code",
   "execution_count": 20,
   "metadata": {
    "id": "kBxhriLiyI1l"
   },
   "outputs": [],
   "source": [
    "mtext= 'नमस्कार मित्रांनो. तुम्ही सगळे कसे आहात?'"
   ]
  },
  {
   "cell_type": "code",
   "execution_count": 21,
   "metadata": {
    "colab": {
     "base_uri": "https://localhost:8080/"
    },
    "id": "jzDn1ht8zRsp",
    "outputId": "c4ce64e3-5c9a-4696-b443-a0006b7704de"
   },
   "outputs": [
    {
     "data": {
      "text/plain": [
       "['नमस्कार दोस्तों। आप सब कैसे हैं?']"
      ]
     },
     "execution_count": 21,
     "metadata": {},
     "output_type": "execute_result"
    }
   ],
   "source": [
    "TextBlob(mtext).translate(from_lang= 'mr',to='hi').raw_sentences"
   ]
  },
  {
   "cell_type": "code",
   "execution_count": 22,
   "metadata": {
    "colab": {
     "base_uri": "https://localhost:8080/"
    },
    "id": "Oij3y4d2zV-I",
    "outputId": "3fcbf035-ea2c-406d-a0a7-5ac382c6544e"
   },
   "outputs": [
    {
     "data": {
      "text/plain": [
       "['হ্যালো বন্ধুরা.', 'তোমরা সবাই কেমন আছ?']"
      ]
     },
     "execution_count": 22,
     "metadata": {},
     "output_type": "execute_result"
    }
   ],
   "source": [
    "TextBlob(mtext).translate(from_lang= 'mr',to='bn').raw_sentences"
   ]
  },
  {
   "cell_type": "code",
   "execution_count": null,
   "metadata": {
    "id": "Zx1UEASozu_o"
   },
   "outputs": [],
   "source": []
  }
 ],
 "metadata": {
  "colab": {
   "provenance": []
  },
  "kernelspec": {
   "display_name": "Python 3",
   "name": "python3"
  },
  "language_info": {
   "name": "python"
  }
 },
 "nbformat": 4,
 "nbformat_minor": 0
}
