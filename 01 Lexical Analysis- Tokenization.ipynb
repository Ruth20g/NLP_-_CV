{
 "cells": [
  {
   "cell_type": "markdown",
   "id": "54cb46ba",
   "metadata": {},
   "source": [
    "# Library installation"
   ]
  },
  {
   "cell_type": "code",
   "execution_count": 1,
   "id": "0376c6a3",
   "metadata": {},
   "outputs": [
    {
     "name": "stdout",
     "output_type": "stream",
     "text": [
      "Requirement already satisfied: nltk in d:\\anaconda\\lib\\site-packages (3.8.1)\n",
      "Requirement already satisfied: spacy in d:\\anaconda\\lib\\site-packages (3.7.4)\n",
      "Requirement already satisfied: textblob in d:\\anaconda\\lib\\site-packages (0.18.0.post0)\n",
      "Requirement already satisfied: click in d:\\anaconda\\lib\\site-packages (from nltk) (8.1.7)\n",
      "Requirement already satisfied: joblib in d:\\anaconda\\lib\\site-packages (from nltk) (1.2.0)\n",
      "Requirement already satisfied: regex>=2021.8.3 in d:\\anaconda\\lib\\site-packages (from nltk) (2023.10.3)\n",
      "Requirement already satisfied: tqdm in d:\\anaconda\\lib\\site-packages (from nltk) (4.66.4)\n",
      "Requirement already satisfied: spacy-legacy<3.1.0,>=3.0.11 in d:\\anaconda\\lib\\site-packages (from spacy) (3.0.12)\n",
      "Requirement already satisfied: spacy-loggers<2.0.0,>=1.0.0 in d:\\anaconda\\lib\\site-packages (from spacy) (1.0.5)\n",
      "Requirement already satisfied: murmurhash<1.1.0,>=0.28.0 in d:\\anaconda\\lib\\site-packages (from spacy) (1.0.10)\n",
      "Requirement already satisfied: cymem<2.1.0,>=2.0.2 in d:\\anaconda\\lib\\site-packages (from spacy) (2.0.8)\n",
      "Requirement already satisfied: preshed<3.1.0,>=3.0.2 in d:\\anaconda\\lib\\site-packages (from spacy) (3.0.9)\n",
      "Requirement already satisfied: thinc<8.3.0,>=8.2.2 in d:\\anaconda\\lib\\site-packages (from spacy) (8.2.3)\n",
      "Requirement already satisfied: wasabi<1.2.0,>=0.9.1 in d:\\anaconda\\lib\\site-packages (from spacy) (1.1.3)\n",
      "Requirement already satisfied: srsly<3.0.0,>=2.4.3 in d:\\anaconda\\lib\\site-packages (from spacy) (2.4.8)\n",
      "Requirement already satisfied: catalogue<2.1.0,>=2.0.6 in d:\\anaconda\\lib\\site-packages (from spacy) (2.0.10)\n",
      "Requirement already satisfied: weasel<0.4.0,>=0.1.0 in d:\\anaconda\\lib\\site-packages (from spacy) (0.3.4)\n",
      "Requirement already satisfied: typer<0.10.0,>=0.3.0 in d:\\anaconda\\lib\\site-packages (from spacy) (0.9.4)\n",
      "Requirement already satisfied: smart-open<7.0.0,>=5.2.1 in d:\\anaconda\\lib\\site-packages (from spacy) (5.2.1)\n",
      "Requirement already satisfied: requests<3.0.0,>=2.13.0 in d:\\anaconda\\lib\\site-packages (from spacy) (2.31.0)\n",
      "Requirement already satisfied: pydantic!=1.8,!=1.8.1,<3.0.0,>=1.7.4 in d:\\anaconda\\lib\\site-packages (from spacy) (2.7.1)\n",
      "Requirement already satisfied: jinja2 in d:\\anaconda\\lib\\site-packages (from spacy) (3.1.3)\n",
      "Requirement already satisfied: setuptools in d:\\anaconda\\lib\\site-packages (from spacy) (68.2.2)\n",
      "Requirement already satisfied: packaging>=20.0 in d:\\anaconda\\lib\\site-packages (from spacy) (23.1)\n",
      "Requirement already satisfied: langcodes<4.0.0,>=3.2.0 in d:\\anaconda\\lib\\site-packages (from spacy) (3.4.0)\n",
      "Requirement already satisfied: numpy>=1.19.0 in d:\\anaconda\\lib\\site-packages (from spacy) (1.24.3)\n",
      "Requirement already satisfied: language-data>=1.2 in d:\\anaconda\\lib\\site-packages (from langcodes<4.0.0,>=3.2.0->spacy) (1.2.0)\n",
      "Requirement already satisfied: annotated-types>=0.4.0 in d:\\anaconda\\lib\\site-packages (from pydantic!=1.8,!=1.8.1,<3.0.0,>=1.7.4->spacy) (0.6.0)\n",
      "Requirement already satisfied: pydantic-core==2.18.2 in d:\\anaconda\\lib\\site-packages (from pydantic!=1.8,!=1.8.1,<3.0.0,>=1.7.4->spacy) (2.18.2)\n",
      "Requirement already satisfied: typing-extensions>=4.6.1 in d:\\anaconda\\lib\\site-packages (from pydantic!=1.8,!=1.8.1,<3.0.0,>=1.7.4->spacy) (4.9.0)\n",
      "Requirement already satisfied: charset-normalizer<4,>=2 in d:\\anaconda\\lib\\site-packages (from requests<3.0.0,>=2.13.0->spacy) (2.0.4)\n",
      "Requirement already satisfied: idna<4,>=2.5 in d:\\anaconda\\lib\\site-packages (from requests<3.0.0,>=2.13.0->spacy) (3.4)\n",
      "Requirement already satisfied: urllib3<3,>=1.21.1 in d:\\anaconda\\lib\\site-packages (from requests<3.0.0,>=2.13.0->spacy) (2.0.7)\n",
      "Requirement already satisfied: certifi>=2017.4.17 in d:\\anaconda\\lib\\site-packages (from requests<3.0.0,>=2.13.0->spacy) (2024.2.2)\n",
      "Requirement already satisfied: blis<0.8.0,>=0.7.8 in d:\\anaconda\\lib\\site-packages (from thinc<8.3.0,>=8.2.2->spacy) (0.7.11)\n",
      "Requirement already satisfied: confection<1.0.0,>=0.0.1 in d:\\anaconda\\lib\\site-packages (from thinc<8.3.0,>=8.2.2->spacy) (0.1.5)\n",
      "Requirement already satisfied: colorama in d:\\anaconda\\lib\\site-packages (from tqdm->nltk) (0.4.6)\n",
      "Requirement already satisfied: cloudpathlib<0.17.0,>=0.7.0 in d:\\anaconda\\lib\\site-packages (from weasel<0.4.0,>=0.1.0->spacy) (0.16.0)\n",
      "Requirement already satisfied: MarkupSafe>=2.0 in d:\\anaconda\\lib\\site-packages (from jinja2->spacy) (2.1.3)\n",
      "Requirement already satisfied: marisa-trie>=0.7.7 in d:\\anaconda\\lib\\site-packages (from language-data>=1.2->langcodes<4.0.0,>=3.2.0->spacy) (1.1.1)\n",
      "Note: you may need to restart the kernel to use updated packages.\n"
     ]
    }
   ],
   "source": [
    "pip install nltk spacy textblob -U"
   ]
  },
  {
   "cell_type": "code",
   "execution_count": 2,
   "id": "1e380273",
   "metadata": {},
   "outputs": [],
   "source": [
    "import nltk"
   ]
  },
  {
   "cell_type": "code",
   "execution_count": 4,
   "id": "44a1f3cc",
   "metadata": {},
   "outputs": [
    {
     "name": "stderr",
     "output_type": "stream",
     "text": [
      "[nltk_data] Downloading package punkt to C:\\Users\\Administrator.DAI-\n",
      "[nltk_data]     PC2\\AppData\\Roaming\\nltk_data...\n",
      "[nltk_data]   Package punkt is already up-to-date!\n",
      "[nltk_data] Downloading package stopwords to\n",
      "[nltk_data]     C:\\Users\\Administrator.DAI-\n",
      "[nltk_data]     PC2\\AppData\\Roaming\\nltk_data...\n",
      "[nltk_data]   Package stopwords is already up-to-date!\n",
      "[nltk_data] Downloading package averaged_perceptron_tagger to\n",
      "[nltk_data]     C:\\Users\\Administrator.DAI-\n",
      "[nltk_data]     PC2\\AppData\\Roaming\\nltk_data...\n",
      "[nltk_data]   Package averaged_perceptron_tagger is already up-to-\n",
      "[nltk_data]       date!\n",
      "[nltk_data] Downloading package wordnet to C:\\Users\\Administrator.DAI-\n",
      "[nltk_data]     PC2\\AppData\\Roaming\\nltk_data...\n",
      "[nltk_data]   Package wordnet is already up-to-date!\n",
      "[nltk_data] Downloading package omw-1.4 to C:\\Users\\Administrator.DAI-\n",
      "[nltk_data]     PC2\\AppData\\Roaming\\nltk_data...\n",
      "[nltk_data]   Package omw-1.4 is already up-to-date!\n",
      "[nltk_data] Downloading package indian to C:\\Users\\Administrator.DAI-\n",
      "[nltk_data]     PC2\\AppData\\Roaming\\nltk_data...\n",
      "[nltk_data]   Package indian is already up-to-date!\n",
      "[nltk_data] Downloading package maxent_ne_chunker to\n",
      "[nltk_data]     C:\\Users\\Administrator.DAI-\n",
      "[nltk_data]     PC2\\AppData\\Roaming\\nltk_data...\n",
      "[nltk_data]   Unzipping chunkers\\maxent_ne_chunker.zip.\n"
     ]
    },
    {
     "data": {
      "text/plain": [
       "True"
      ]
     },
     "execution_count": 4,
     "metadata": {},
     "output_type": "execute_result"
    }
   ],
   "source": [
    "nltk.download('punkt') #tokenization\n",
    "nltk.download('stopwords') #stopwords removal\n",
    "nltk.download('averaged_perceptron_tagger') #POS tagging\n",
    "nltk.download('wordnet') #wordnet database and lemmatization\n",
    "nltk.download('omw-1.4') #stemming  \n",
    "nltk.download('indian') #Indian Language POS tagging\n",
    "nltk.download('maxent_ne_chunker') #chunking"
   ]
  },
  {
   "cell_type": "markdown",
   "id": "0edfe906",
   "metadata": {},
   "source": [
    "# Sample Example"
   ]
  },
  {
   "cell_type": "code",
   "execution_count": 5,
   "id": "55091f86",
   "metadata": {},
   "outputs": [],
   "source": [
    "sent= 'They told that their ages are 25 27 and 31 respectively'"
   ]
  },
  {
   "cell_type": "code",
   "execution_count": 6,
   "id": "9bbce54c",
   "metadata": {},
   "outputs": [],
   "source": [
    "#find the average of ages mentioned in the above sentence"
   ]
  },
  {
   "cell_type": "code",
   "execution_count": 23,
   "id": "67e6ebf2",
   "metadata": {},
   "outputs": [],
   "source": [
    "ages=[]\n",
    "for word in sent.split():\n",
    "    if word.isdigit():\n",
    "        ages.append(int(word))\n"
   ]
  },
  {
   "cell_type": "code",
   "execution_count": 25,
   "id": "e76fab7f",
   "metadata": {},
   "outputs": [
    {
     "data": {
      "text/plain": [
       "27.666666666666668"
      ]
     },
     "execution_count": 25,
     "metadata": {},
     "output_type": "execute_result"
    }
   ],
   "source": [
    "sum(ages)/ len(ages)"
   ]
  },
  {
   "cell_type": "code",
   "execution_count": 26,
   "id": "f2f2c3ee",
   "metadata": {},
   "outputs": [
    {
     "data": {
      "text/plain": [
       "27.666666666666668"
      ]
     },
     "execution_count": 26,
     "metadata": {},
     "output_type": "execute_result"
    }
   ],
   "source": [
    "ages=[int(word) for word in sent.split() if word.isdigit()]\n",
    "sum(ages)/ len(ages)"
   ]
  },
  {
   "cell_type": "code",
   "execution_count": 27,
   "id": "fb0161e7",
   "metadata": {},
   "outputs": [],
   "source": [
    "import numpy as np"
   ]
  },
  {
   "cell_type": "code",
   "execution_count": 28,
   "id": "44b7c4aa",
   "metadata": {},
   "outputs": [
    {
     "data": {
      "text/plain": [
       "27.666666666666668"
      ]
     },
     "execution_count": 28,
     "metadata": {},
     "output_type": "execute_result"
    }
   ],
   "source": [
    "np.mean([int(word) for word in sent.split() if word.isdigit()])"
   ]
  },
  {
   "cell_type": "markdown",
   "id": "f0569b4c",
   "metadata": {},
   "source": [
    "# Tokenization"
   ]
  },
  {
   "cell_type": "code",
   "execution_count": 29,
   "id": "99721c7a",
   "metadata": {},
   "outputs": [],
   "source": [
    "sent= 'Hello friends! How are you? Welcome to Python Programming.'"
   ]
  },
  {
   "cell_type": "code",
   "execution_count": 30,
   "id": "848e7f9b",
   "metadata": {},
   "outputs": [],
   "source": [
    "#import the functions\n",
    "from nltk.tokenize import sent_tokenize\n",
    "from nltk.tokenize import word_tokenize"
   ]
  },
  {
   "cell_type": "code",
   "execution_count": 32,
   "id": "b50d066a",
   "metadata": {},
   "outputs": [
    {
     "data": {
      "text/plain": [
       "['Hello friends!', 'How are you?', 'Welcome to Python Programming.']"
      ]
     },
     "execution_count": 32,
     "metadata": {},
     "output_type": "execute_result"
    }
   ],
   "source": [
    "#segmentation\n",
    "#list of sentences are created\n",
    "sent_tokenize(sent)"
   ]
  },
  {
   "cell_type": "code",
   "execution_count": 37,
   "id": "ecdc18ae",
   "metadata": {},
   "outputs": [
    {
     "data": {
      "text/plain": [
       "['Hello',\n",
       " 'friends',\n",
       " '!',\n",
       " 'How',\n",
       " 'are',\n",
       " 'you',\n",
       " '?',\n",
       " 'Welcome',\n",
       " 'to',\n",
       " 'Python',\n",
       " 'Programming',\n",
       " '.']"
      ]
     },
     "execution_count": 37,
     "metadata": {},
     "output_type": "execute_result"
    }
   ],
   "source": [
    "word_tokenize(sent)\n"
   ]
  },
  {
   "cell_type": "code",
   "execution_count": 39,
   "id": "d414d651",
   "metadata": {},
   "outputs": [],
   "source": [
    "#Find the percentage of punctuation symbols present in it\n",
    "punct_count=len([word for word in word_tokenize(sent) if not word.isalnum()])"
   ]
  },
  {
   "cell_type": "code",
   "execution_count": 40,
   "id": "9704846a",
   "metadata": {},
   "outputs": [
    {
     "data": {
      "text/plain": [
       "0.25"
      ]
     },
     "execution_count": 40,
     "metadata": {},
     "output_type": "execute_result"
    }
   ],
   "source": [
    "punct_count/len(word_tokenize(sent))"
   ]
  },
  {
   "cell_type": "code",
   "execution_count": 42,
   "id": "ff7fbae2",
   "metadata": {},
   "outputs": [
    {
     "data": {
      "text/plain": [
       "35"
      ]
     },
     "execution_count": 42,
     "metadata": {},
     "output_type": "execute_result"
    }
   ],
   "source": [
    "#ASCII Values\n",
    "ord('a')\n",
    "ord('#')"
   ]
  },
  {
   "cell_type": "code",
   "execution_count": 53,
   "id": "c7b993d6",
   "metadata": {},
   "outputs": [
    {
     "data": {
      "text/plain": [
       "'C'"
      ]
     },
     "execution_count": 53,
     "metadata": {},
     "output_type": "execute_result"
    }
   ],
   "source": [
    "#Reverse of ord ---> chr\n",
    "chr(67)"
   ]
  },
  {
   "cell_type": "code",
   "execution_count": 47,
   "id": "bf4db848",
   "metadata": {},
   "outputs": [
    {
     "data": {
      "text/plain": [
       "50"
      ]
     },
     "execution_count": 47,
     "metadata": {},
     "output_type": "execute_result"
    }
   ],
   "source": [
    "#Return the size of object in bytes.\n",
    "import sys\n",
    "sys.getsizeof('=')"
   ]
  },
  {
   "cell_type": "code",
   "execution_count": 49,
   "id": "e290a1b9",
   "metadata": {},
   "outputs": [
    {
     "data": {
      "text/plain": [
       "56"
      ]
     },
     "execution_count": 49,
     "metadata": {},
     "output_type": "execute_result"
    }
   ],
   "source": [
    "char='abjjdgh'\n",
    "sys.getsizeof(char)"
   ]
  },
  {
   "cell_type": "code",
   "execution_count": 48,
   "id": "94c757f8",
   "metadata": {},
   "outputs": [
    {
     "name": "stdout",
     "output_type": "stream",
     "text": [
      "Help on built-in function getsizeof in module sys:\n",
      "\n",
      "getsizeof(...)\n",
      "    getsizeof(object [, default]) -> int\n",
      "    \n",
      "    Return the size of object in bytes.\n",
      "\n"
     ]
    }
   ],
   "source": [
    "help(sys.getsizeof)"
   ]
  },
  {
   "cell_type": "code",
   "execution_count": 55,
   "id": "54f255ec",
   "metadata": {},
   "outputs": [
    {
     "name": "stdout",
     "output_type": "stream",
     "text": [
      "वी\n"
     ]
    }
   ],
   "source": [
    "char='\\u0935\\u0940'\n",
    "print(char)"
   ]
  },
  {
   "cell_type": "code",
   "execution_count": 57,
   "id": "53a0590f",
   "metadata": {},
   "outputs": [
    {
     "data": {
      "text/plain": [
       "2357"
      ]
     },
     "execution_count": 57,
     "metadata": {},
     "output_type": "execute_result"
    }
   ],
   "source": [
    "ord('व')"
   ]
  },
  {
   "cell_type": "code",
   "execution_count": 59,
   "id": "961876d3",
   "metadata": {},
   "outputs": [
    {
     "data": {
      "text/plain": [
       "'श'"
      ]
     },
     "execution_count": 59,
     "metadata": {},
     "output_type": "execute_result"
    }
   ],
   "source": [
    "chr(2358)"
   ]
  },
  {
   "cell_type": "code",
   "execution_count": 61,
   "id": "9f707efb",
   "metadata": {},
   "outputs": [
    {
     "data": {
      "text/plain": [
       "'व'"
      ]
     },
     "execution_count": 61,
     "metadata": {},
     "output_type": "execute_result"
    }
   ],
   "source": [
    "#hexadecimal\n",
    "#0o for octal\n",
    "#0b for binary\n",
    "chr(0x935)"
   ]
  },
  {
   "cell_type": "code",
   "execution_count": 62,
   "id": "303aac52",
   "metadata": {},
   "outputs": [
    {
     "data": {
      "text/plain": [
       "76"
      ]
     },
     "execution_count": 62,
     "metadata": {},
     "output_type": "execute_result"
    }
   ],
   "source": [
    "sys.getsizeof('व')"
   ]
  },
  {
   "cell_type": "code",
   "execution_count": 65,
   "id": "7e201418",
   "metadata": {},
   "outputs": [],
   "source": [
    "#Try Google Input Tools online\n",
    "name= 'रूथ गायकवाड'"
   ]
  },
  {
   "cell_type": "code",
   "execution_count": 66,
   "id": "2b835f2f",
   "metadata": {},
   "outputs": [
    {
     "data": {
      "text/plain": [
       "['रूथ', 'गायकवाड']"
      ]
     },
     "execution_count": 66,
     "metadata": {},
     "output_type": "execute_result"
    }
   ],
   "source": [
    "name.split()"
   ]
  },
  {
   "cell_type": "code",
   "execution_count": 67,
   "id": "e10fa117",
   "metadata": {},
   "outputs": [
    {
     "data": {
      "text/plain": [
       "True"
      ]
     },
     "execution_count": 67,
     "metadata": {},
     "output_type": "execute_result"
    }
   ],
   "source": [
    "name.startswith('रू')"
   ]
  },
  {
   "cell_type": "code",
   "execution_count": 68,
   "id": "758ee832",
   "metadata": {},
   "outputs": [
    {
     "data": {
      "text/plain": [
       "'रू गायकवाड'"
      ]
     },
     "execution_count": 68,
     "metadata": {},
     "output_type": "execute_result"
    }
   ],
   "source": [
    "name.replace('थ','')"
   ]
  },
  {
   "cell_type": "code",
   "execution_count": 69,
   "id": "29a5067f",
   "metadata": {},
   "outputs": [
    {
     "data": {
      "text/plain": [
       "4"
      ]
     },
     "execution_count": 69,
     "metadata": {},
     "output_type": "execute_result"
    }
   ],
   "source": [
    "name.find('ग')"
   ]
  },
  {
   "cell_type": "code",
   "execution_count": 70,
   "id": "e45ca663",
   "metadata": {},
   "outputs": [
    {
     "data": {
      "text/plain": [
       "11"
      ]
     },
     "execution_count": 70,
     "metadata": {},
     "output_type": "execute_result"
    }
   ],
   "source": [
    "len(name)"
   ]
  },
  {
   "cell_type": "code",
   "execution_count": 71,
   "id": "fc90575b",
   "metadata": {},
   "outputs": [],
   "source": [
    "names=['रूथ' , 'श्वेता' , 'ऋतुजा' , 'मुस्कान' , 'स्नेहल' ,'प्रणव' , 'प्रतीक्षा']\n"
   ]
  },
  {
   "cell_type": "code",
   "execution_count": 74,
   "id": "09e40953",
   "metadata": {},
   "outputs": [
    {
     "name": "stdout",
     "output_type": "stream",
     "text": [
      "प्रणव\n",
      "प्रतीक्षा\n"
     ]
    }
   ],
   "source": [
    "for name in names:\n",
    "    if name.startswith('प्र'):\n",
    "        print(name)"
   ]
  },
  {
   "cell_type": "code",
   "execution_count": 75,
   "id": "ed23c031",
   "metadata": {},
   "outputs": [
    {
     "data": {
      "text/plain": [
       "'किल्ले रायगड हा महाराष्ट्रातील रायगड जिल्ह्यातील सह्याद्रीच्या पर्वतरांगांत असून समुद्रसपाटीपासून सुमारे ८२० मीटर (२७०० फूट) उंचीवर आहे. मराठी साम्राज्याच्या इतिहासामध्ये त्याची एक खास ओळख आहे. छत्रपती शिवाजीराजांनी रायगडचे स्थान आणि महत्त्व पाहून १६ व्या शतकात याला आपल्या राज्याची राजधानी बनविली. शिवराज्याभिषेक याच ठिकाणी झाला. इंग्रजांनी गड कब्जात घेतल्यानंतर लुटून त्याची नासधूस केली. सदर किल्ला हा महाराष्ट्र शासनाच्या पुरातत्त्व विभागाचे संरक्षित स्मारक आहे'"
      ]
     },
     "execution_count": 75,
     "metadata": {},
     "output_type": "execute_result"
    }
   ],
   "source": [
    "mtext = 'किल्ले रायगड हा महाराष्ट्रातील रायगड जिल्ह्यातील सह्याद्रीच्या पर्वतरांगांत असून समुद्रसपाटीपासून सुमारे ८२० मीटर (२७०० फूट) उंचीवर आहे. मराठी साम्राज्याच्या इतिहासामध्ये त्याची एक खास ओळख आहे. छत्रपती शिवाजीराजांनी रायगडचे स्थान आणि महत्त्व पाहून १६ व्या शतकात याला आपल्या राज्याची राजधानी बनविली. शिवराज्याभिषेक याच ठिकाणी झाला. इंग्रजांनी गड कब्जात घेतल्यानंतर लुटून त्याची नासधूस केली. सदर किल्ला हा महाराष्ट्र शासनाच्या पुरातत्त्व विभागाचे संरक्षित स्मारक आहे'\n",
    "mtext"
   ]
  },
  {
   "cell_type": "code",
   "execution_count": 76,
   "id": "4d57527a",
   "metadata": {},
   "outputs": [
    {
     "data": {
      "text/plain": [
       "['किल्ले',\n",
       " 'रायगड',\n",
       " 'हा',\n",
       " 'महाराष्ट्रातील',\n",
       " 'रायगड',\n",
       " 'जिल्ह्यातील',\n",
       " 'सह्याद्रीच्या',\n",
       " 'पर्वतरांगांत',\n",
       " 'असून',\n",
       " 'समुद्रसपाटीपासून',\n",
       " 'सुमारे',\n",
       " '८२०',\n",
       " 'मीटर',\n",
       " '(',\n",
       " '२७००',\n",
       " 'फूट',\n",
       " ')',\n",
       " 'उंचीवर',\n",
       " 'आहे',\n",
       " '.',\n",
       " 'मराठी',\n",
       " 'साम्राज्याच्या',\n",
       " 'इतिहासामध्ये',\n",
       " 'त्याची',\n",
       " 'एक',\n",
       " 'खास',\n",
       " 'ओळख',\n",
       " 'आहे',\n",
       " '.',\n",
       " 'छत्रपती',\n",
       " 'शिवाजीराजांनी',\n",
       " 'रायगडचे',\n",
       " 'स्थान',\n",
       " 'आणि',\n",
       " 'महत्त्व',\n",
       " 'पाहून',\n",
       " '१६',\n",
       " 'व्या',\n",
       " 'शतकात',\n",
       " 'याला',\n",
       " 'आपल्या',\n",
       " 'राज्याची',\n",
       " 'राजधानी',\n",
       " 'बनविली',\n",
       " '.',\n",
       " 'शिवराज्याभिषेक',\n",
       " 'याच',\n",
       " 'ठिकाणी',\n",
       " 'झाला',\n",
       " '.',\n",
       " 'इंग्रजांनी',\n",
       " 'गड',\n",
       " 'कब्जात',\n",
       " 'घेतल्यानंतर',\n",
       " 'लुटून',\n",
       " 'त्याची',\n",
       " 'नासधूस',\n",
       " 'केली',\n",
       " '.',\n",
       " 'सदर',\n",
       " 'किल्ला',\n",
       " 'हा',\n",
       " 'महाराष्ट्र',\n",
       " 'शासनाच्या',\n",
       " 'पुरातत्त्व',\n",
       " 'विभागाचे',\n",
       " 'संरक्षित',\n",
       " 'स्मारक',\n",
       " 'आहे']"
      ]
     },
     "execution_count": 76,
     "metadata": {},
     "output_type": "execute_result"
    }
   ],
   "source": [
    "word_tokenize(mtext)"
   ]
  },
  {
   "cell_type": "markdown",
   "id": "5482448e",
   "metadata": {},
   "source": [
    "# Space Tokenizer"
   ]
  },
  {
   "cell_type": "code",
   "execution_count": 95,
   "id": "6ec22437",
   "metadata": {},
   "outputs": [],
   "source": [
    "f = open(\"mydata.txt\",\"r\")\n",
    "data = f.read()"
   ]
  },
  {
   "cell_type": "code",
   "execution_count": 96,
   "id": "6d5402a7",
   "metadata": {},
   "outputs": [
    {
     "data": {
      "text/plain": [
       "['Hello',\n",
       " 'Friends!',\n",
       " 'How',\n",
       " 'are',\n",
       " 'you?\\nWelcome',\n",
       " 'to',\n",
       " 'the',\n",
       " 'world',\n",
       " 'of',\n",
       " 'Programming']"
      ]
     },
     "execution_count": 96,
     "metadata": {},
     "output_type": "execute_result"
    }
   ],
   "source": [
    "from nltk.tokenize import SpaceTokenizer\n",
    "\n",
    "#Create the object\n",
    "tk = SpaceTokenizer()\n",
    "\n",
    "#tokenize the data\n",
    "tk.tokenize(data)"
   ]
  },
  {
   "cell_type": "code",
   "execution_count": 85,
   "id": "891f620c",
   "metadata": {},
   "outputs": [
    {
     "name": "stdout",
     "output_type": "stream",
     "text": [
      "True\n"
     ]
    }
   ],
   "source": [
    "print(data.readable())"
   ]
  },
  {
   "cell_type": "code",
   "execution_count": 91,
   "id": "26aa4574",
   "metadata": {},
   "outputs": [
    {
     "name": "stdout",
     "output_type": "stream",
     "text": [
      "['Hello Friends! How are you?\\n', 'Welcome to the world of Programming']\n"
     ]
    }
   ],
   "source": [
    "data = open(\"mydata.txt\",\"r\")\n",
    "print(data.readlines())    #readlines"
   ]
  },
  {
   "cell_type": "code",
   "execution_count": 90,
   "id": "b484260e",
   "metadata": {},
   "outputs": [
    {
     "name": "stdout",
     "output_type": "stream",
     "text": [
      "Hello Friends! How are you?\n",
      "\n"
     ]
    }
   ],
   "source": [
    "data = open(\"mydata.txt\",\"r\")\n",
    "print(data.readline())\n"
   ]
  },
  {
   "cell_type": "markdown",
   "id": "30927c24",
   "metadata": {},
   "source": [
    "# Tab Tokenizer"
   ]
  },
  {
   "cell_type": "code",
   "execution_count": 98,
   "id": "c09436ef",
   "metadata": {},
   "outputs": [
    {
     "name": "stdout",
     "output_type": "stream",
     "text": [
      "Hello Friends!\t How are you?\n",
      "Welcome to the world of\t Programming.\n"
     ]
    }
   ],
   "source": [
    "f = open(\"mydata.txt\",\"r\")\n",
    "data = f.read()\n",
    "print(data)"
   ]
  },
  {
   "cell_type": "code",
   "execution_count": 99,
   "id": "4d49d190",
   "metadata": {},
   "outputs": [
    {
     "data": {
      "text/plain": [
       "['Hello Friends!', ' How are you?\\nWelcome to the world of', ' Programming.']"
      ]
     },
     "execution_count": 99,
     "metadata": {},
     "output_type": "execute_result"
    }
   ],
   "source": [
    "from nltk.tokenize import TabTokenizer\n",
    "\n",
    "#Create the object\n",
    "tk = TabTokenizer()\n",
    "\n",
    "#tokenize the data\n",
    "tk.tokenize(data)"
   ]
  },
  {
   "cell_type": "markdown",
   "id": "a09fc1a7",
   "metadata": {},
   "source": [
    "# Line Tokenizer"
   ]
  },
  {
   "cell_type": "code",
   "execution_count": 100,
   "id": "8892bbcc",
   "metadata": {},
   "outputs": [
    {
     "data": {
      "text/plain": [
       "['Hello Friends!\\t How are you?', 'Welcome to the world of\\t Programming.']"
      ]
     },
     "execution_count": 100,
     "metadata": {},
     "output_type": "execute_result"
    }
   ],
   "source": [
    "from nltk.tokenize import LineTokenizer\n",
    "\n",
    "#Create the object\n",
    "tk = LineTokenizer()\n",
    "\n",
    "#tokenize the data\n",
    "tk.tokenize(data)"
   ]
  },
  {
   "cell_type": "markdown",
   "id": "0a062082",
   "metadata": {},
   "source": [
    "# Whitespace Tokenizer"
   ]
  },
  {
   "cell_type": "code",
   "execution_count": 101,
   "id": "06cc5a22",
   "metadata": {},
   "outputs": [
    {
     "data": {
      "text/plain": [
       "['Hello',\n",
       " 'Friends!',\n",
       " 'How',\n",
       " 'are',\n",
       " 'you?',\n",
       " 'Welcome',\n",
       " 'to',\n",
       " 'the',\n",
       " 'world',\n",
       " 'of',\n",
       " 'Programming.']"
      ]
     },
     "execution_count": 101,
     "metadata": {},
     "output_type": "execute_result"
    }
   ],
   "source": [
    "from nltk.tokenize import WhitespaceTokenizer\n",
    "\n",
    "#Create the object\n",
    "tk = WhitespaceTokenizer()\n",
    "\n",
    "#tokenize the data\n",
    "tk.tokenize(data)"
   ]
  },
  {
   "cell_type": "markdown",
   "id": "6637916f",
   "metadata": {},
   "source": [
    "# MWE Tokenizer -> multiword expression"
   ]
  },
  {
   "cell_type": "code",
   "execution_count": 104,
   "id": "13ae1bb2",
   "metadata": {},
   "outputs": [
    {
     "name": "stdout",
     "output_type": "stream",
     "text": [
      "The Van Rossum is Python creater, visiting Pune this week. the development community is very eager to meet Van Rossum\n"
     ]
    }
   ],
   "source": [
    "sent1 = 'The Van Rossum is Python creater, visiting Pune this week. the development community is very eager to meet Van Rossum'\n",
    "print(sent1)\n"
   ]
  },
  {
   "cell_type": "code",
   "execution_count": 105,
   "id": "00f96b28",
   "metadata": {},
   "outputs": [
    {
     "data": {
      "text/plain": [
       "['The',\n",
       " 'Van',\n",
       " 'Rossum',\n",
       " 'is',\n",
       " 'Python',\n",
       " 'creater',\n",
       " ',',\n",
       " 'visiting',\n",
       " 'Pune',\n",
       " 'this',\n",
       " 'week',\n",
       " '.',\n",
       " 'the',\n",
       " 'development',\n",
       " 'community',\n",
       " 'is',\n",
       " 'very',\n",
       " 'eager',\n",
       " 'to',\n",
       " 'meet',\n",
       " 'Van',\n",
       " 'Rossum']"
      ]
     },
     "execution_count": 105,
     "metadata": {},
     "output_type": "execute_result"
    }
   ],
   "source": [
    "word_tokenize(sent1)"
   ]
  },
  {
   "cell_type": "code",
   "execution_count": 110,
   "id": "ce1f9486",
   "metadata": {},
   "outputs": [
    {
     "data": {
      "text/plain": [
       "['The',\n",
       " 'Van Rossum',\n",
       " 'is',\n",
       " 'Python',\n",
       " 'creater',\n",
       " ',',\n",
       " 'visiting',\n",
       " 'Pune',\n",
       " 'this',\n",
       " 'week',\n",
       " '.',\n",
       " 'the',\n",
       " 'development',\n",
       " 'community',\n",
       " 'is',\n",
       " 'very',\n",
       " 'eager',\n",
       " 'to',\n",
       " 'meet',\n",
       " 'Van Rossum']"
      ]
     },
     "execution_count": 110,
     "metadata": {},
     "output_type": "execute_result"
    }
   ],
   "source": [
    "from nltk.tokenize import MWETokenizer\n",
    "\n",
    "#Create the object\n",
    "tk = MWETokenizer(separator=' ')\n",
    "\n",
    "#add multiword expression\n",
    "tk.add_mwe(('Van','Rossum'))\n",
    "\n",
    "#tokenize the data\n",
    "tk.tokenize(word_tokenize(sent1))"
   ]
  },
  {
   "cell_type": "markdown",
   "id": "6d757276",
   "metadata": {},
   "source": [
    "# Tweet tokenizer"
   ]
  },
  {
   "cell_type": "code",
   "execution_count": 111,
   "id": "d056dc26",
   "metadata": {},
   "outputs": [
    {
     "name": "stdout",
     "output_type": "stream",
     "text": [
      "Hello Friends :)! How are you? Welcome to the world of Programming. :D\n"
     ]
    }
   ],
   "source": [
    "sent = 'Hello Friends :)! How are you? Welcome to the world of Programming. :D'\n",
    "print(sent)"
   ]
  },
  {
   "cell_type": "code",
   "execution_count": 112,
   "id": "c79c6499",
   "metadata": {},
   "outputs": [
    {
     "data": {
      "text/plain": [
       "['Hello',\n",
       " 'Friends',\n",
       " ':)',\n",
       " '!',\n",
       " 'How',\n",
       " 'are',\n",
       " 'you',\n",
       " '?',\n",
       " 'Welcome',\n",
       " 'to',\n",
       " 'the',\n",
       " 'world',\n",
       " 'of',\n",
       " 'Programming',\n",
       " '.',\n",
       " ':D']"
      ]
     },
     "execution_count": 112,
     "metadata": {},
     "output_type": "execute_result"
    }
   ],
   "source": [
    "from nltk.tokenize import TweetTokenizer\n",
    "\n",
    "#Create the object\n",
    "tk = TweetTokenizer()\n",
    "\n",
    "#tokenize the data\n",
    "tk.tokenize(sent)"
   ]
  },
  {
   "cell_type": "code",
   "execution_count": 116,
   "id": "ede00e20",
   "metadata": {},
   "outputs": [
    {
     "name": "stdout",
     "output_type": "stream",
     "text": [
      "Hello Friends!😊 How are you?🤗\n",
      "Welcome to the world🌍 of Programming.😣\n"
     ]
    }
   ],
   "source": [
    "f = open(\"mydata.txt\",encoding='utf-8')\n",
    "data = f.read()\n",
    "print(data)"
   ]
  },
  {
   "cell_type": "code",
   "execution_count": 118,
   "id": "03855f27",
   "metadata": {},
   "outputs": [
    {
     "data": {
      "text/plain": [
       "['Hello',\n",
       " 'Friends',\n",
       " '!',\n",
       " '😊',\n",
       " 'How',\n",
       " 'are',\n",
       " 'you',\n",
       " '?',\n",
       " '🤗',\n",
       " 'Welcome',\n",
       " 'to',\n",
       " 'the',\n",
       " 'world🌍',\n",
       " 'of',\n",
       " 'Programming.😣']"
      ]
     },
     "execution_count": 118,
     "metadata": {},
     "output_type": "execute_result"
    }
   ],
   "source": [
    "word_tokenize(data)"
   ]
  },
  {
   "cell_type": "code",
   "execution_count": 117,
   "id": "afaa18bc",
   "metadata": {},
   "outputs": [
    {
     "data": {
      "text/plain": [
       "['Hello',\n",
       " 'Friends',\n",
       " '!',\n",
       " '😊',\n",
       " 'How',\n",
       " 'are',\n",
       " 'you',\n",
       " '?',\n",
       " '🤗',\n",
       " 'Welcome',\n",
       " 'to',\n",
       " 'the',\n",
       " 'world',\n",
       " '🌍',\n",
       " 'of',\n",
       " 'Programming',\n",
       " '.',\n",
       " '😣']"
      ]
     },
     "execution_count": 117,
     "metadata": {},
     "output_type": "execute_result"
    }
   ],
   "source": [
    "tk.tokenize(data)"
   ]
  },
  {
   "cell_type": "markdown",
   "id": "a7487f85",
   "metadata": {},
   "source": [
    "# Custom Tokenizer"
   ]
  },
  {
   "cell_type": "code",
   "execution_count": 120,
   "id": "38f9946a",
   "metadata": {},
   "outputs": [
    {
     "name": "stdout",
     "output_type": "stream",
     "text": [
      "Tokens:\n",
      "This\n",
      "is\n",
      "some\n",
      "text\n",
      "with\n",
      "punctuation\n",
      ">\n",
      "Let's\n",
      "tokenize\n",
      "it\n",
      "Is\n",
      "it\n",
      "ok\n",
      "\n"
     ]
    }
   ],
   "source": [
    "import re\n",
    "\n",
    "def custom_tokenizer(text):\n",
    "    return re.split(r\"[.,;?!\\s]+\", text)\n",
    "\n",
    "text = \"This is some text with punctuation > Let's tokenize it. Is it ok?\"\n",
    "\n",
    "tokens = custom_tokenizer(text)\n",
    "\n",
    "print(\"Tokens:\")\n",
    "for token in tokens:\n",
    "    print(token)"
   ]
  },
  {
   "cell_type": "code",
   "execution_count": 127,
   "id": "3c790f68",
   "metadata": {},
   "outputs": [],
   "source": [
    "f = open('student3.tsv')\n",
    "data = f.read()"
   ]
  },
  {
   "cell_type": "code",
   "execution_count": 128,
   "id": "e1596c47",
   "metadata": {},
   "outputs": [
    {
     "name": "stdout",
     "output_type": "stream",
     "text": [
      "roll\tname\tclass\tmarks\tage\n",
      "1\tanil\tTE\t56.77\t22\n",
      "2\tamit\tTE\t59.77\t21\n",
      "3\taniket\tBE\t76.88\t19\n",
      "4\tajinkya\tTE\t69.66\t20\n",
      "5\tasha\tTE\t63.28\t20\n",
      "6\tayesha\tBE\t49.55\t20\n",
      "7\tamar\tBE\t65.34\t19\n",
      "8\tamita\tBE\t68.33\t23\n",
      "9\tamol\tTE\t56.75\t20\n",
      "10\tanmol\tBE\t78.66\t21\n",
      "\n"
     ]
    }
   ],
   "source": [
    "print(data)"
   ]
  },
  {
   "cell_type": "code",
   "execution_count": 137,
   "id": "e24354d8",
   "metadata": {},
   "outputs": [
    {
     "name": "stdout",
     "output_type": "stream",
     "text": [
      "[['roll', 'name', 'class', 'marks', 'age', '1', 'anil', 'TE', '56.77', '22', '2', 'amit', 'TE', '59.77', '21', '3', 'aniket', 'BE', '76.88', '19', '4', 'ajinkya', 'TE', '69.66', '20', '5', 'asha', 'TE', '63.28', '20', '6', 'ayesha', 'BE', '49.55', '20', '7', 'amar', 'BE', '65.34', '19', '8', 'amita', 'BE', '68.33', '23', '9', 'amol', 'TE', '56.75', '20', '10', 'anmol', 'BE', '78.66', '21'], ['roll', 'name', 'class', 'marks', 'age', '1', 'anil', 'TE', '56.77', '22', '2', 'amit', 'TE', '59.77', '21', '3', 'aniket', 'BE', '76.88', '19', '4', 'ajinkya', 'TE', '69.66', '20', '5', 'asha', 'TE', '63.28', '20', '6', 'ayesha', 'BE', '49.55', '20', '7', 'amar', 'BE', '65.34', '19', '8', 'amita', 'BE', '68.33', '23', '9', 'amol', 'TE', '56.75', '20', '10', 'anmol', 'BE', '78.66', '21'], ['roll', 'name', 'class', 'marks', 'age', '1', 'anil', 'TE', '56.77', '22', '2', 'amit', 'TE', '59.77', '21', '3', 'aniket', 'BE', '76.88', '19', '4', 'ajinkya', 'TE', '69.66', '20', '5', 'asha', 'TE', '63.28', '20', '6', 'ayesha', 'BE', '49.55', '20', '7', 'amar', 'BE', '65.34', '19', '8', 'amita', 'BE', '68.33', '23', '9', 'amol', 'TE', '56.75', '20', '10', 'anmol', 'BE', '78.66', '21'], ['roll', 'name', 'class', 'marks', 'age', '1', 'anil', 'TE', '56.77', '22', '2', 'amit', 'TE', '59.77', '21', '3', 'aniket', 'BE', '76.88', '19', '4', 'ajinkya', 'TE', '69.66', '20', '5', 'asha', 'TE', '63.28', '20', '6', 'ayesha', 'BE', '49.55', '20', '7', 'amar', 'BE', '65.34', '19', '8', 'amita', 'BE', '68.33', '23', '9', 'amol', 'TE', '56.75', '20', '10', 'anmol', 'BE', '78.66', '21'], ['roll', 'name', 'class', 'marks', 'age', '1', 'anil', 'TE', '56.77', '22', '2', 'amit', 'TE', '59.77', '21', '3', 'aniket', 'BE', '76.88', '19', '4', 'ajinkya', 'TE', '69.66', '20', '5', 'asha', 'TE', '63.28', '20', '6', 'ayesha', 'BE', '49.55', '20', '7', 'amar', 'BE', '65.34', '19', '8', 'amita', 'BE', '68.33', '23', '9', 'amol', 'TE', '56.75', '20', '10', 'anmol', 'BE', '78.66', '21'], ['roll', 'name', 'class', 'marks', 'age', '1', 'anil', 'TE', '56.77', '22', '2', 'amit', 'TE', '59.77', '21', '3', 'aniket', 'BE', '76.88', '19', '4', 'ajinkya', 'TE', '69.66', '20', '5', 'asha', 'TE', '63.28', '20', '6', 'ayesha', 'BE', '49.55', '20', '7', 'amar', 'BE', '65.34', '19', '8', 'amita', 'BE', '68.33', '23', '9', 'amol', 'TE', '56.75', '20', '10', 'anmol', 'BE', '78.66', '21'], ['roll', 'name', 'class', 'marks', 'age', '1', 'anil', 'TE', '56.77', '22', '2', 'amit', 'TE', '59.77', '21', '3', 'aniket', 'BE', '76.88', '19', '4', 'ajinkya', 'TE', '69.66', '20', '5', 'asha', 'TE', '63.28', '20', '6', 'ayesha', 'BE', '49.55', '20', '7', 'amar', 'BE', '65.34', '19', '8', 'amita', 'BE', '68.33', '23', '9', 'amol', 'TE', '56.75', '20', '10', 'anmol', 'BE', '78.66', '21'], ['roll', 'name', 'class', 'marks', 'age', '1', 'anil', 'TE', '56.77', '22', '2', 'amit', 'TE', '59.77', '21', '3', 'aniket', 'BE', '76.88', '19', '4', 'ajinkya', 'TE', '69.66', '20', '5', 'asha', 'TE', '63.28', '20', '6', 'ayesha', 'BE', '49.55', '20', '7', 'amar', 'BE', '65.34', '19', '8', 'amita', 'BE', '68.33', '23', '9', 'amol', 'TE', '56.75', '20', '10', 'anmol', 'BE', '78.66', '21'], ['roll', 'name', 'class', 'marks', 'age', '1', 'anil', 'TE', '56.77', '22', '2', 'amit', 'TE', '59.77', '21', '3', 'aniket', 'BE', '76.88', '19', '4', 'ajinkya', 'TE', '69.66', '20', '5', 'asha', 'TE', '63.28', '20', '6', 'ayesha', 'BE', '49.55', '20', '7', 'amar', 'BE', '65.34', '19', '8', 'amita', 'BE', '68.33', '23', '9', 'amol', 'TE', '56.75', '20', '10', 'anmol', 'BE', '78.66', '21'], ['roll', 'name', 'class', 'marks', 'age', '1', 'anil', 'TE', '56.77', '22', '2', 'amit', 'TE', '59.77', '21', '3', 'aniket', 'BE', '76.88', '19', '4', 'ajinkya', 'TE', '69.66', '20', '5', 'asha', 'TE', '63.28', '20', '6', 'ayesha', 'BE', '49.55', '20', '7', 'amar', 'BE', '65.34', '19', '8', 'amita', 'BE', '68.33', '23', '9', 'amol', 'TE', '56.75', '20', '10', 'anmol', 'BE', '78.66', '21'], ['roll', 'name', 'class', 'marks', 'age', '1', 'anil', 'TE', '56.77', '22', '2', 'amit', 'TE', '59.77', '21', '3', 'aniket', 'BE', '76.88', '19', '4', 'ajinkya', 'TE', '69.66', '20', '5', 'asha', 'TE', '63.28', '20', '6', 'ayesha', 'BE', '49.55', '20', '7', 'amar', 'BE', '65.34', '19', '8', 'amita', 'BE', '68.33', '23', '9', 'amol', 'TE', '56.75', '20', '10', 'anmol', 'BE', '78.66', '21'], ['roll', 'name', 'class', 'marks', 'age', '1', 'anil', 'TE', '56.77', '22', '2', 'amit', 'TE', '59.77', '21', '3', 'aniket', 'BE', '76.88', '19', '4', 'ajinkya', 'TE', '69.66', '20', '5', 'asha', 'TE', '63.28', '20', '6', 'ayesha', 'BE', '49.55', '20', '7', 'amar', 'BE', '65.34', '19', '8', 'amita', 'BE', '68.33', '23', '9', 'amol', 'TE', '56.75', '20', '10', 'anmol', 'BE', '78.66', '21'], ['roll', 'name', 'class', 'marks', 'age', '1', 'anil', 'TE', '56.77', '22', '2', 'amit', 'TE', '59.77', '21', '3', 'aniket', 'BE', '76.88', '19', '4', 'ajinkya', 'TE', '69.66', '20', '5', 'asha', 'TE', '63.28', '20', '6', 'ayesha', 'BE', '49.55', '20', '7', 'amar', 'BE', '65.34', '19', '8', 'amita', 'BE', '68.33', '23', '9', 'amol', 'TE', '56.75', '20', '10', 'anmol', 'BE', '78.66', '21'], ['roll', 'name', 'class', 'marks', 'age', '1', 'anil', 'TE', '56.77', '22', '2', 'amit', 'TE', '59.77', '21', '3', 'aniket', 'BE', '76.88', '19', '4', 'ajinkya', 'TE', '69.66', '20', '5', 'asha', 'TE', '63.28', '20', '6', 'ayesha', 'BE', '49.55', '20', '7', 'amar', 'BE', '65.34', '19', '8', 'amita', 'BE', '68.33', '23', '9', 'amol', 'TE', '56.75', '20', '10', 'anmol', 'BE', '78.66', '21'], ['roll', 'name', 'class', 'marks', 'age', '1', 'anil', 'TE', '56.77', '22', '2', 'amit', 'TE', '59.77', '21', '3', 'aniket', 'BE', '76.88', '19', '4', 'ajinkya', 'TE', '69.66', '20', '5', 'asha', 'TE', '63.28', '20', '6', 'ayesha', 'BE', '49.55', '20', '7', 'amar', 'BE', '65.34', '19', '8', 'amita', 'BE', '68.33', '23', '9', 'amol', 'TE', '56.75', '20', '10', 'anmol', 'BE', '78.66', '21'], ['roll', 'name', 'class', 'marks', 'age', '1', 'anil', 'TE', '56.77', '22', '2', 'amit', 'TE', '59.77', '21', '3', 'aniket', 'BE', '76.88', '19', '4', 'ajinkya', 'TE', '69.66', '20', '5', 'asha', 'TE', '63.28', '20', '6', 'ayesha', 'BE', '49.55', '20', '7', 'amar', 'BE', '65.34', '19', '8', 'amita', 'BE', '68.33', '23', '9', 'amol', 'TE', '56.75', '20', '10', 'anmol', 'BE', '78.66', '21'], ['roll', 'name', 'class', 'marks', 'age', '1', 'anil', 'TE', '56.77', '22', '2', 'amit', 'TE', '59.77', '21', '3', 'aniket', 'BE', '76.88', '19', '4', 'ajinkya', 'TE', '69.66', '20', '5', 'asha', 'TE', '63.28', '20', '6', 'ayesha', 'BE', '49.55', '20', '7', 'amar', 'BE', '65.34', '19', '8', 'amita', 'BE', '68.33', '23', '9', 'amol', 'TE', '56.75', '20', '10', 'anmol', 'BE', '78.66', '21'], ['roll', 'name', 'class', 'marks', 'age', '1', 'anil', 'TE', '56.77', '22', '2', 'amit', 'TE', '59.77', '21', '3', 'aniket', 'BE', '76.88', '19', '4', 'ajinkya', 'TE', '69.66', '20', '5', 'asha', 'TE', '63.28', '20', '6', 'ayesha', 'BE', '49.55', '20', '7', 'amar', 'BE', '65.34', '19', '8', 'amita', 'BE', '68.33', '23', '9', 'amol', 'TE', '56.75', '20', '10', 'anmol', 'BE', '78.66', '21'], ['roll', 'name', 'class', 'marks', 'age', '1', 'anil', 'TE', '56.77', '22', '2', 'amit', 'TE', '59.77', '21', '3', 'aniket', 'BE', '76.88', '19', '4', 'ajinkya', 'TE', '69.66', '20', '5', 'asha', 'TE', '63.28', '20', '6', 'ayesha', 'BE', '49.55', '20', '7', 'amar', 'BE', '65.34', '19', '8', 'amita', 'BE', '68.33', '23', '9', 'amol', 'TE', '56.75', '20', '10', 'anmol', 'BE', '78.66', '21'], ['roll', 'name', 'class', 'marks', 'age', '1', 'anil', 'TE', '56.77', '22', '2', 'amit', 'TE', '59.77', '21', '3', 'aniket', 'BE', '76.88', '19', '4', 'ajinkya', 'TE', '69.66', '20', '5', 'asha', 'TE', '63.28', '20', '6', 'ayesha', 'BE', '49.55', '20', '7', 'amar', 'BE', '65.34', '19', '8', 'amita', 'BE', '68.33', '23', '9', 'amol', 'TE', '56.75', '20', '10', 'anmol', 'BE', '78.66', '21'], ['roll', 'name', 'class', 'marks', 'age', '1', 'anil', 'TE', '56.77', '22', '2', 'amit', 'TE', '59.77', '21', '3', 'aniket', 'BE', '76.88', '19', '4', 'ajinkya', 'TE', '69.66', '20', '5', 'asha', 'TE', '63.28', '20', '6', 'ayesha', 'BE', '49.55', '20', '7', 'amar', 'BE', '65.34', '19', '8', 'amita', 'BE', '68.33', '23', '9', 'amol', 'TE', '56.75', '20', '10', 'anmol', 'BE', '78.66', '21'], ['roll', 'name', 'class', 'marks', 'age', '1', 'anil', 'TE', '56.77', '22', '2', 'amit', 'TE', '59.77', '21', '3', 'aniket', 'BE', '76.88', '19', '4', 'ajinkya', 'TE', '69.66', '20', '5', 'asha', 'TE', '63.28', '20', '6', 'ayesha', 'BE', '49.55', '20', '7', 'amar', 'BE', '65.34', '19', '8', 'amita', 'BE', '68.33', '23', '9', 'amol', 'TE', '56.75', '20', '10', 'anmol', 'BE', '78.66', '21'], ['roll', 'name', 'class', 'marks', 'age', '1', 'anil', 'TE', '56.77', '22', '2', 'amit', 'TE', '59.77', '21', '3', 'aniket', 'BE', '76.88', '19', '4', 'ajinkya', 'TE', '69.66', '20', '5', 'asha', 'TE', '63.28', '20', '6', 'ayesha', 'BE', '49.55', '20', '7', 'amar', 'BE', '65.34', '19', '8', 'amita', 'BE', '68.33', '23', '9', 'amol', 'TE', '56.75', '20', '10', 'anmol', 'BE', '78.66', '21'], ['roll', 'name', 'class', 'marks', 'age', '1', 'anil', 'TE', '56.77', '22', '2', 'amit', 'TE', '59.77', '21', '3', 'aniket', 'BE', '76.88', '19', '4', 'ajinkya', 'TE', '69.66', '20', '5', 'asha', 'TE', '63.28', '20', '6', 'ayesha', 'BE', '49.55', '20', '7', 'amar', 'BE', '65.34', '19', '8', 'amita', 'BE', '68.33', '23', '9', 'amol', 'TE', '56.75', '20', '10', 'anmol', 'BE', '78.66', '21'], ['roll', 'name', 'class', 'marks', 'age', '1', 'anil', 'TE', '56.77', '22', '2', 'amit', 'TE', '59.77', '21', '3', 'aniket', 'BE', '76.88', '19', '4', 'ajinkya', 'TE', '69.66', '20', '5', 'asha', 'TE', '63.28', '20', '6', 'ayesha', 'BE', '49.55', '20', '7', 'amar', 'BE', '65.34', '19', '8', 'amita', 'BE', '68.33', '23', '9', 'amol', 'TE', '56.75', '20', '10', 'anmol', 'BE', '78.66', '21'], ['roll', 'name', 'class', 'marks', 'age', '1', 'anil', 'TE', '56.77', '22', '2', 'amit', 'TE', '59.77', '21', '3', 'aniket', 'BE', '76.88', '19', '4', 'ajinkya', 'TE', '69.66', '20', '5', 'asha', 'TE', '63.28', '20', '6', 'ayesha', 'BE', '49.55', '20', '7', 'amar', 'BE', '65.34', '19', '8', 'amita', 'BE', '68.33', '23', '9', 'amol', 'TE', '56.75', '20', '10', 'anmol', 'BE', '78.66', '21'], ['roll', 'name', 'class', 'marks', 'age', '1', 'anil', 'TE', '56.77', '22', '2', 'amit', 'TE', '59.77', '21', '3', 'aniket', 'BE', '76.88', '19', '4', 'ajinkya', 'TE', '69.66', '20', '5', 'asha', 'TE', '63.28', '20', '6', 'ayesha', 'BE', '49.55', '20', '7', 'amar', 'BE', '65.34', '19', '8', 'amita', 'BE', '68.33', '23', '9', 'amol', 'TE', '56.75', '20', '10', 'anmol', 'BE', '78.66', '21'], ['roll', 'name', 'class', 'marks', 'age', '1', 'anil', 'TE', '56.77', '22', '2', 'amit', 'TE', '59.77', '21', '3', 'aniket', 'BE', '76.88', '19', '4', 'ajinkya', 'TE', '69.66', '20', '5', 'asha', 'TE', '63.28', '20', '6', 'ayesha', 'BE', '49.55', '20', '7', 'amar', 'BE', '65.34', '19', '8', 'amita', 'BE', '68.33', '23', '9', 'amol', 'TE', '56.75', '20', '10', 'anmol', 'BE', '78.66', '21'], ['roll', 'name', 'class', 'marks', 'age', '1', 'anil', 'TE', '56.77', '22', '2', 'amit', 'TE', '59.77', '21', '3', 'aniket', 'BE', '76.88', '19', '4', 'ajinkya', 'TE', '69.66', '20', '5', 'asha', 'TE', '63.28', '20', '6', 'ayesha', 'BE', '49.55', '20', '7', 'amar', 'BE', '65.34', '19', '8', 'amita', 'BE', '68.33', '23', '9', 'amol', 'TE', '56.75', '20', '10', 'anmol', 'BE', '78.66', '21'], ['roll', 'name', 'class', 'marks', 'age', '1', 'anil', 'TE', '56.77', '22', '2', 'amit', 'TE', '59.77', '21', '3', 'aniket', 'BE', '76.88', '19', '4', 'ajinkya', 'TE', '69.66', '20', '5', 'asha', 'TE', '63.28', '20', '6', 'ayesha', 'BE', '49.55', '20', '7', 'amar', 'BE', '65.34', '19', '8', 'amita', 'BE', '68.33', '23', '9', 'amol', 'TE', '56.75', '20', '10', 'anmol', 'BE', '78.66', '21'], ['roll', 'name', 'class', 'marks', 'age', '1', 'anil', 'TE', '56.77', '22', '2', 'amit', 'TE', '59.77', '21', '3', 'aniket', 'BE', '76.88', '19', '4', 'ajinkya', 'TE', '69.66', '20', '5', 'asha', 'TE', '63.28', '20', '6', 'ayesha', 'BE', '49.55', '20', '7', 'amar', 'BE', '65.34', '19', '8', 'amita', 'BE', '68.33', '23', '9', 'amol', 'TE', '56.75', '20', '10', 'anmol', 'BE', '78.66', '21'], ['roll', 'name', 'class', 'marks', 'age', '1', 'anil', 'TE', '56.77', '22', '2', 'amit', 'TE', '59.77', '21', '3', 'aniket', 'BE', '76.88', '19', '4', 'ajinkya', 'TE', '69.66', '20', '5', 'asha', 'TE', '63.28', '20', '6', 'ayesha', 'BE', '49.55', '20', '7', 'amar', 'BE', '65.34', '19', '8', 'amita', 'BE', '68.33', '23', '9', 'amol', 'TE', '56.75', '20', '10', 'anmol', 'BE', '78.66', '21'], ['roll', 'name', 'class', 'marks', 'age', '1', 'anil', 'TE', '56.77', '22', '2', 'amit', 'TE', '59.77', '21', '3', 'aniket', 'BE', '76.88', '19', '4', 'ajinkya', 'TE', '69.66', '20', '5', 'asha', 'TE', '63.28', '20', '6', 'ayesha', 'BE', '49.55', '20', '7', 'amar', 'BE', '65.34', '19', '8', 'amita', 'BE', '68.33', '23', '9', 'amol', 'TE', '56.75', '20', '10', 'anmol', 'BE', '78.66', '21'], ['roll', 'name', 'class', 'marks', 'age', '1', 'anil', 'TE', '56.77', '22', '2', 'amit', 'TE', '59.77', '21', '3', 'aniket', 'BE', '76.88', '19', '4', 'ajinkya', 'TE', '69.66', '20', '5', 'asha', 'TE', '63.28', '20', '6', 'ayesha', 'BE', '49.55', '20', '7', 'amar', 'BE', '65.34', '19', '8', 'amita', 'BE', '68.33', '23', '9', 'amol', 'TE', '56.75', '20', '10', 'anmol', 'BE', '78.66', '21'], ['roll', 'name', 'class', 'marks', 'age', '1', 'anil', 'TE', '56.77', '22', '2', 'amit', 'TE', '59.77', '21', '3', 'aniket', 'BE', '76.88', '19', '4', 'ajinkya', 'TE', '69.66', '20', '5', 'asha', 'TE', '63.28', '20', '6', 'ayesha', 'BE', '49.55', '20', '7', 'amar', 'BE', '65.34', '19', '8', 'amita', 'BE', '68.33', '23', '9', 'amol', 'TE', '56.75', '20', '10', 'anmol', 'BE', '78.66', '21'], ['roll', 'name', 'class', 'marks', 'age', '1', 'anil', 'TE', '56.77', '22', '2', 'amit', 'TE', '59.77', '21', '3', 'aniket', 'BE', '76.88', '19', '4', 'ajinkya', 'TE', '69.66', '20', '5', 'asha', 'TE', '63.28', '20', '6', 'ayesha', 'BE', '49.55', '20', '7', 'amar', 'BE', '65.34', '19', '8', 'amita', 'BE', '68.33', '23', '9', 'amol', 'TE', '56.75', '20', '10', 'anmol', 'BE', '78.66', '21'], ['roll', 'name', 'class', 'marks', 'age', '1', 'anil', 'TE', '56.77', '22', '2', 'amit', 'TE', '59.77', '21', '3', 'aniket', 'BE', '76.88', '19', '4', 'ajinkya', 'TE', '69.66', '20', '5', 'asha', 'TE', '63.28', '20', '6', 'ayesha', 'BE', '49.55', '20', '7', 'amar', 'BE', '65.34', '19', '8', 'amita', 'BE', '68.33', '23', '9', 'amol', 'TE', '56.75', '20', '10', 'anmol', 'BE', '78.66', '21'], ['roll', 'name', 'class', 'marks', 'age', '1', 'anil', 'TE', '56.77', '22', '2', 'amit', 'TE', '59.77', '21', '3', 'aniket', 'BE', '76.88', '19', '4', 'ajinkya', 'TE', '69.66', '20', '5', 'asha', 'TE', '63.28', '20', '6', 'ayesha', 'BE', '49.55', '20', '7', 'amar', 'BE', '65.34', '19', '8', 'amita', 'BE', '68.33', '23', '9', 'amol', 'TE', '56.75', '20', '10', 'anmol', 'BE', '78.66', '21'], ['roll', 'name', 'class', 'marks', 'age', '1', 'anil', 'TE', '56.77', '22', '2', 'amit', 'TE', '59.77', '21', '3', 'aniket', 'BE', '76.88', '19', '4', 'ajinkya', 'TE', '69.66', '20', '5', 'asha', 'TE', '63.28', '20', '6', 'ayesha', 'BE', '49.55', '20', '7', 'amar', 'BE', '65.34', '19', '8', 'amita', 'BE', '68.33', '23', '9', 'amol', 'TE', '56.75', '20', '10', 'anmol', 'BE', '78.66', '21'], ['roll', 'name', 'class', 'marks', 'age', '1', 'anil', 'TE', '56.77', '22', '2', 'amit', 'TE', '59.77', '21', '3', 'aniket', 'BE', '76.88', '19', '4', 'ajinkya', 'TE', '69.66', '20', '5', 'asha', 'TE', '63.28', '20', '6', 'ayesha', 'BE', '49.55', '20', '7', 'amar', 'BE', '65.34', '19', '8', 'amita', 'BE', '68.33', '23', '9', 'amol', 'TE', '56.75', '20', '10', 'anmol', 'BE', '78.66', '21'], ['roll', 'name', 'class', 'marks', 'age', '1', 'anil', 'TE', '56.77', '22', '2', 'amit', 'TE', '59.77', '21', '3', 'aniket', 'BE', '76.88', '19', '4', 'ajinkya', 'TE', '69.66', '20', '5', 'asha', 'TE', '63.28', '20', '6', 'ayesha', 'BE', '49.55', '20', '7', 'amar', 'BE', '65.34', '19', '8', 'amita', 'BE', '68.33', '23', '9', 'amol', 'TE', '56.75', '20', '10', 'anmol', 'BE', '78.66', '21'], ['roll', 'name', 'class', 'marks', 'age', '1', 'anil', 'TE', '56.77', '22', '2', 'amit', 'TE', '59.77', '21', '3', 'aniket', 'BE', '76.88', '19', '4', 'ajinkya', 'TE', '69.66', '20', '5', 'asha', 'TE', '63.28', '20', '6', 'ayesha', 'BE', '49.55', '20', '7', 'amar', 'BE', '65.34', '19', '8', 'amita', 'BE', '68.33', '23', '9', 'amol', 'TE', '56.75', '20', '10', 'anmol', 'BE', '78.66', '21'], ['roll', 'name', 'class', 'marks', 'age', '1', 'anil', 'TE', '56.77', '22', '2', 'amit', 'TE', '59.77', '21', '3', 'aniket', 'BE', '76.88', '19', '4', 'ajinkya', 'TE', '69.66', '20', '5', 'asha', 'TE', '63.28', '20', '6', 'ayesha', 'BE', '49.55', '20', '7', 'amar', 'BE', '65.34', '19', '8', 'amita', 'BE', '68.33', '23', '9', 'amol', 'TE', '56.75', '20', '10', 'anmol', 'BE', '78.66', '21'], ['roll', 'name', 'class', 'marks', 'age', '1', 'anil', 'TE', '56.77', '22', '2', 'amit', 'TE', '59.77', '21', '3', 'aniket', 'BE', '76.88', '19', '4', 'ajinkya', 'TE', '69.66', '20', '5', 'asha', 'TE', '63.28', '20', '6', 'ayesha', 'BE', '49.55', '20', '7', 'amar', 'BE', '65.34', '19', '8', 'amita', 'BE', '68.33', '23', '9', 'amol', 'TE', '56.75', '20', '10', 'anmol', 'BE', '78.66', '21'], ['roll', 'name', 'class', 'marks', 'age', '1', 'anil', 'TE', '56.77', '22', '2', 'amit', 'TE', '59.77', '21', '3', 'aniket', 'BE', '76.88', '19', '4', 'ajinkya', 'TE', '69.66', '20', '5', 'asha', 'TE', '63.28', '20', '6', 'ayesha', 'BE', '49.55', '20', '7', 'amar', 'BE', '65.34', '19', '8', 'amita', 'BE', '68.33', '23', '9', 'amol', 'TE', '56.75', '20', '10', 'anmol', 'BE', '78.66', '21'], ['roll', 'name', 'class', 'marks', 'age', '1', 'anil', 'TE', '56.77', '22', '2', 'amit', 'TE', '59.77', '21', '3', 'aniket', 'BE', '76.88', '19', '4', 'ajinkya', 'TE', '69.66', '20', '5', 'asha', 'TE', '63.28', '20', '6', 'ayesha', 'BE', '49.55', '20', '7', 'amar', 'BE', '65.34', '19', '8', 'amita', 'BE', '68.33', '23', '9', 'amol', 'TE', '56.75', '20', '10', 'anmol', 'BE', '78.66', '21'], ['roll', 'name', 'class', 'marks', 'age', '1', 'anil', 'TE', '56.77', '22', '2', 'amit', 'TE', '59.77', '21', '3', 'aniket', 'BE', '76.88', '19', '4', 'ajinkya', 'TE', '69.66', '20', '5', 'asha', 'TE', '63.28', '20', '6', 'ayesha', 'BE', '49.55', '20', '7', 'amar', 'BE', '65.34', '19', '8', 'amita', 'BE', '68.33', '23', '9', 'amol', 'TE', '56.75', '20', '10', 'anmol', 'BE', '78.66', '21'], ['roll', 'name', 'class', 'marks', 'age', '1', 'anil', 'TE', '56.77', '22', '2', 'amit', 'TE', '59.77', '21', '3', 'aniket', 'BE', '76.88', '19', '4', 'ajinkya', 'TE', '69.66', '20', '5', 'asha', 'TE', '63.28', '20', '6', 'ayesha', 'BE', '49.55', '20', '7', 'amar', 'BE', '65.34', '19', '8', 'amita', 'BE', '68.33', '23', '9', 'amol', 'TE', '56.75', '20', '10', 'anmol', 'BE', '78.66', '21'], ['roll', 'name', 'class', 'marks', 'age', '1', 'anil', 'TE', '56.77', '22', '2', 'amit', 'TE', '59.77', '21', '3', 'aniket', 'BE', '76.88', '19', '4', 'ajinkya', 'TE', '69.66', '20', '5', 'asha', 'TE', '63.28', '20', '6', 'ayesha', 'BE', '49.55', '20', '7', 'amar', 'BE', '65.34', '19', '8', 'amita', 'BE', '68.33', '23', '9', 'amol', 'TE', '56.75', '20', '10', 'anmol', 'BE', '78.66', '21'], ['roll', 'name', 'class', 'marks', 'age', '1', 'anil', 'TE', '56.77', '22', '2', 'amit', 'TE', '59.77', '21', '3', 'aniket', 'BE', '76.88', '19', '4', 'ajinkya', 'TE', '69.66', '20', '5', 'asha', 'TE', '63.28', '20', '6', 'ayesha', 'BE', '49.55', '20', '7', 'amar', 'BE', '65.34', '19', '8', 'amita', 'BE', '68.33', '23', '9', 'amol', 'TE', '56.75', '20', '10', 'anmol', 'BE', '78.66', '21'], ['roll', 'name', 'class', 'marks', 'age', '1', 'anil', 'TE', '56.77', '22', '2', 'amit', 'TE', '59.77', '21', '3', 'aniket', 'BE', '76.88', '19', '4', 'ajinkya', 'TE', '69.66', '20', '5', 'asha', 'TE', '63.28', '20', '6', 'ayesha', 'BE', '49.55', '20', '7', 'amar', 'BE', '65.34', '19', '8', 'amita', 'BE', '68.33', '23', '9', 'amol', 'TE', '56.75', '20', '10', 'anmol', 'BE', '78.66', '21'], ['roll', 'name', 'class', 'marks', 'age', '1', 'anil', 'TE', '56.77', '22', '2', 'amit', 'TE', '59.77', '21', '3', 'aniket', 'BE', '76.88', '19', '4', 'ajinkya', 'TE', '69.66', '20', '5', 'asha', 'TE', '63.28', '20', '6', 'ayesha', 'BE', '49.55', '20', '7', 'amar', 'BE', '65.34', '19', '8', 'amita', 'BE', '68.33', '23', '9', 'amol', 'TE', '56.75', '20', '10', 'anmol', 'BE', '78.66', '21'], ['roll', 'name', 'class', 'marks', 'age', '1', 'anil', 'TE', '56.77', '22', '2', 'amit', 'TE', '59.77', '21', '3', 'aniket', 'BE', '76.88', '19', '4', 'ajinkya', 'TE', '69.66', '20', '5', 'asha', 'TE', '63.28', '20', '6', 'ayesha', 'BE', '49.55', '20', '7', 'amar', 'BE', '65.34', '19', '8', 'amita', 'BE', '68.33', '23', '9', 'amol', 'TE', '56.75', '20', '10', 'anmol', 'BE', '78.66', '21'], ['roll', 'name', 'class', 'marks', 'age', '1', 'anil', 'TE', '56.77', '22', '2', 'amit', 'TE', '59.77', '21', '3', 'aniket', 'BE', '76.88', '19', '4', 'ajinkya', 'TE', '69.66', '20', '5', 'asha', 'TE', '63.28', '20', '6', 'ayesha', 'BE', '49.55', '20', '7', 'amar', 'BE', '65.34', '19', '8', 'amita', 'BE', '68.33', '23', '9', 'amol', 'TE', '56.75', '20', '10', 'anmol', 'BE', '78.66', '21'], ['roll', 'name', 'class', 'marks', 'age', '1', 'anil', 'TE', '56.77', '22', '2', 'amit', 'TE', '59.77', '21', '3', 'aniket', 'BE', '76.88', '19', '4', 'ajinkya', 'TE', '69.66', '20', '5', 'asha', 'TE', '63.28', '20', '6', 'ayesha', 'BE', '49.55', '20', '7', 'amar', 'BE', '65.34', '19', '8', 'amita', 'BE', '68.33', '23', '9', 'amol', 'TE', '56.75', '20', '10', 'anmol', 'BE', '78.66', '21']]\n"
     ]
    }
   ],
   "source": [
    "#d = data.split()\n",
    "list = []\n",
    "for i in d:\n",
    "    list.append(d)\n",
    "print(list)"
   ]
  },
  {
   "cell_type": "code",
   "execution_count": 148,
   "id": "fbee477f",
   "metadata": {},
   "outputs": [
    {
     "data": {
      "text/plain": [
       "[['roll', 'name', 'class', 'marks', 'age'],\n",
       " [1, 'anil', 'TE', 56.77, 22],\n",
       " [2, 'amit', 'TE', 59.77, 21],\n",
       " [3, 'aniket', 'BE', 76.88, 19],\n",
       " [4, 'ajinkya', 'TE', 69.66, 20],\n",
       " [5, 'asha', 'TE', 63.28, 20],\n",
       " [6, 'ayesha', 'BE', 49.55, 20],\n",
       " [7, 'amar', 'BE', 65.34, 19],\n",
       " [8, 'amita', 'BE', 68.33, 23],\n",
       " [9, 'amol', 'TE', 56.75, 20],\n",
       " [10, 'anmol', 'BE', 78.66, 21],\n",
       " ['']]"
      ]
     },
     "execution_count": 148,
     "metadata": {},
     "output_type": "execute_result"
    }
   ],
   "source": [
    "list = []\n",
    "for x in data.split('\\n'):\n",
    "    inner_list = []\n",
    "    for y in x.split('\\t'):\n",
    "        if y.isdigit():\n",
    "            inner_list.append(int(y))\n",
    "        elif y.find('.') > 0:\n",
    "            inner_list.append(float(y))\n",
    "        else:\n",
    "            inner_list.append(y)\n",
    "    list.append(inner_list)\n",
    "list"
   ]
  },
  {
   "cell_type": "code",
   "execution_count": null,
   "id": "4f6e3fea",
   "metadata": {},
   "outputs": [],
   "source": []
  }
 ],
 "metadata": {
  "kernelspec": {
   "display_name": "Python 3 (ipykernel)",
   "language": "python",
   "name": "python3"
  },
  "language_info": {
   "codemirror_mode": {
    "name": "ipython",
    "version": 3
   },
   "file_extension": ".py",
   "mimetype": "text/x-python",
   "name": "python",
   "nbconvert_exporter": "python",
   "pygments_lexer": "ipython3",
   "version": "3.11.7"
  }
 },
 "nbformat": 4,
 "nbformat_minor": 5
}
