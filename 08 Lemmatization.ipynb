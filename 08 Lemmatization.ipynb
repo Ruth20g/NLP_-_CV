{
 "cells": [
  {
   "cell_type": "markdown",
   "id": "38b4e04a",
   "metadata": {},
   "source": [
    "Declare the words"
   ]
  },
  {
   "cell_type": "code",
   "execution_count": 1,
   "id": "52671e4d",
   "metadata": {},
   "outputs": [],
   "source": [
    "words1 = 'managing', 'manage', 'managemnet', 'managerial', 'managed'\n",
    "words2= 'worked', 'workable', 'working', 'worked'\n",
    "words3 = 'big', 'bigger', 'biggest'\n",
    "words4 = 'go', 'gone', 'went', 'going'\n",
    "words5 = 'child','children'\n",
    "words6 = 'plays','playing','played','players'"
   ]
  },
  {
   "cell_type": "code",
   "execution_count": 2,
   "id": "987861fb",
   "metadata": {},
   "outputs": [],
   "source": [
    "from nltk.stem import WordNetLemmatizer"
   ]
  },
  {
   "cell_type": "code",
   "execution_count": 3,
   "id": "42a507be",
   "metadata": {},
   "outputs": [],
   "source": [
    "wnl = WordNetLemmatizer()"
   ]
  },
  {
   "cell_type": "markdown",
   "id": "ffb11554",
   "metadata": {},
   "source": [
    "v -> verb\n",
    "a -> adverb\n",
    "n -> noun"
   ]
  },
  {
   "cell_type": "code",
   "execution_count": 4,
   "id": "7892fb42",
   "metadata": {},
   "outputs": [
    {
     "data": {
      "text/plain": [
       "'manage'"
      ]
     },
     "execution_count": 4,
     "metadata": {},
     "output_type": "execute_result"
    }
   ],
   "source": [
    "wnl.lemmatize(words1[0], pos = 'v')"
   ]
  },
  {
   "cell_type": "code",
   "execution_count": 5,
   "id": "e462cb2b",
   "metadata": {},
   "outputs": [
    {
     "data": {
      "text/plain": [
       "'go'"
      ]
     },
     "execution_count": 5,
     "metadata": {},
     "output_type": "execute_result"
    }
   ],
   "source": [
    "wnl.lemmatize(words4[0], pos = 'v')"
   ]
  },
  {
   "cell_type": "code",
   "execution_count": 6,
   "id": "7a1e43eb",
   "metadata": {},
   "outputs": [
    {
     "data": {
      "text/plain": [
       "'work'"
      ]
     },
     "execution_count": 6,
     "metadata": {},
     "output_type": "execute_result"
    }
   ],
   "source": [
    "wnl.lemmatize(words2[0], pos = 'v')"
   ]
  },
  {
   "cell_type": "code",
   "execution_count": 8,
   "id": "de858383",
   "metadata": {},
   "outputs": [
    {
     "name": "stdout",
     "output_type": "stream",
     "text": [
      "went --> go\n"
     ]
    }
   ],
   "source": [
    "print(words4[2], '-->', wnl.lemmatize(words4[2], pos = 'v'))"
   ]
  },
  {
   "cell_type": "code",
   "execution_count": 15,
   "id": "e2e188d4",
   "metadata": {},
   "outputs": [
    {
     "name": "stdout",
     "output_type": "stream",
     "text": [
      "players --> player\n"
     ]
    }
   ],
   "source": [
    "print(words6[3], '-->', wnl.lemmatize(words6[3], pos = 'n'))"
   ]
  },
  {
   "cell_type": "code",
   "execution_count": 18,
   "id": "eeb418bc",
   "metadata": {},
   "outputs": [
    {
     "name": "stdout",
     "output_type": "stream",
     "text": [
      "managerial --> managerial\n"
     ]
    }
   ],
   "source": [
    "print(words1[3], '-->', wnl.lemmatize(words1[3], pos = 'a'))"
   ]
  },
  {
   "cell_type": "code",
   "execution_count": null,
   "id": "7f441069",
   "metadata": {},
   "outputs": [],
   "source": []
  }
 ],
 "metadata": {
  "kernelspec": {
   "display_name": "Python 3 (ipykernel)",
   "language": "python",
   "name": "python3"
  },
  "language_info": {
   "codemirror_mode": {
    "name": "ipython",
    "version": 3
   },
   "file_extension": ".py",
   "mimetype": "text/x-python",
   "name": "python",
   "nbconvert_exporter": "python",
   "pygments_lexer": "ipython3",
   "version": "3.11.7"
  }
 },
 "nbformat": 4,
 "nbformat_minor": 5
}
