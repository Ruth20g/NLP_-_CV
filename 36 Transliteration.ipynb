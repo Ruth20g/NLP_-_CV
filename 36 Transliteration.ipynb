{
 "cells": [
  {
   "cell_type": "markdown",
   "id": "62997c07",
   "metadata": {},
   "source": [
    "### Install the library"
   ]
  },
  {
   "cell_type": "code",
   "execution_count": 1,
   "id": "ec925f67",
   "metadata": {},
   "outputs": [
    {
     "name": "stdout",
     "output_type": "stream",
     "text": [
      "Collecting indic_transliteration\n",
      "  Downloading indic_transliteration-2.3.59-py3-none-any.whl.metadata (1.4 kB)\n",
      "Requirement already satisfied: backports.functools-lru-cache in d:\\anaconda\\lib\\site-packages (from indic_transliteration) (1.6.4)\n",
      "Requirement already satisfied: regex in d:\\anaconda\\lib\\site-packages (from indic_transliteration) (2023.10.3)\n",
      "Requirement already satisfied: typer in d:\\anaconda\\lib\\site-packages (from indic_transliteration) (0.9.4)\n",
      "Requirement already satisfied: toml in d:\\anaconda\\lib\\site-packages (from indic_transliteration) (0.10.2)\n",
      "Collecting roman (from indic_transliteration)\n",
      "  Downloading roman-4.2-py3-none-any.whl.metadata (3.6 kB)\n",
      "Requirement already satisfied: click<9.0.0,>=7.1.1 in d:\\anaconda\\lib\\site-packages (from typer->indic_transliteration) (8.1.7)\n",
      "Requirement already satisfied: typing-extensions>=3.7.4.3 in d:\\anaconda\\lib\\site-packages (from typer->indic_transliteration) (4.9.0)\n",
      "Requirement already satisfied: colorama in d:\\anaconda\\lib\\site-packages (from click<9.0.0,>=7.1.1->typer->indic_transliteration) (0.4.6)\n",
      "Downloading indic_transliteration-2.3.59-py3-none-any.whl (152 kB)\n",
      "   ---------------------------------------- 0.0/152.1 kB ? eta -:--:--\n",
      "   ------------------------------------- -- 143.4/152.1 kB 4.3 MB/s eta 0:00:01\n",
      "   ---------------------------------------- 152.1/152.1 kB 1.8 MB/s eta 0:00:00\n",
      "Downloading roman-4.2-py3-none-any.whl (5.5 kB)\n",
      "Installing collected packages: roman, indic_transliteration\n",
      "Successfully installed indic_transliteration-2.3.59 roman-4.2\n",
      "Note: you may need to restart the kernel to use updated packages.\n"
     ]
    }
   ],
   "source": [
    "pip install indic_transliteration"
   ]
  },
  {
   "cell_type": "markdown",
   "id": "772ae0bd",
   "metadata": {},
   "source": [
    "## Import library"
   ]
  },
  {
   "cell_type": "code",
   "execution_count": 2,
   "id": "ed0f2637",
   "metadata": {},
   "outputs": [],
   "source": [
    "from indic_transliteration import sanscript\n",
    "from indic_transliteration.sanscript import transliterate"
   ]
  },
  {
   "cell_type": "code",
   "execution_count": 6,
   "id": "57eb048e",
   "metadata": {},
   "outputs": [],
   "source": [
    "data= 'shwetA'"
   ]
  },
  {
   "cell_type": "code",
   "execution_count": 7,
   "id": "d51b4e15",
   "metadata": {},
   "outputs": [
    {
     "name": "stdout",
     "output_type": "stream",
     "text": [
      "श्वेता\n"
     ]
    }
   ],
   "source": [
    "print(transliterate(data, sanscript.ITRANS, sanscript.DEVANAGARI))"
   ]
  },
  {
   "cell_type": "code",
   "execution_count": 9,
   "id": "adbfec80",
   "metadata": {},
   "outputs": [
    {
     "name": "stdout",
     "output_type": "stream",
     "text": [
      "ভারতীয\n"
     ]
    }
   ],
   "source": [
    "print(transliterate(\"bhaaratIya\", sanscript.ITRANS, sanscript.BENGALI))"
   ]
  },
  {
   "cell_type": "code",
   "execution_count": 10,
   "id": "6fd401de",
   "metadata": {},
   "outputs": [
    {
     "name": "stdout",
     "output_type": "stream",
     "text": [
      "ਭਾਰਤੀਯ\n"
     ]
    }
   ],
   "source": [
    "print(transliterate(\"bhaaratIya\", sanscript.ITRANS, sanscript.GURMUKHI))"
   ]
  },
  {
   "cell_type": "code",
   "execution_count": 11,
   "id": "22c472c8",
   "metadata": {},
   "outputs": [
    {
     "name": "stdout",
     "output_type": "stream",
     "text": [
      "ભારતીય\n"
     ]
    }
   ],
   "source": [
    "print(transliterate(\"bhaaratIya\", sanscript.ITRANS, sanscript.GUJARATI))"
   ]
  },
  {
   "cell_type": "code",
   "execution_count": 12,
   "id": "ad8dcb75",
   "metadata": {},
   "outputs": [
    {
     "name": "stdout",
     "output_type": "stream",
     "text": [
      "பாரதீய\n"
     ]
    }
   ],
   "source": [
    "print(transliterate(\"bhaaratIya\", sanscript.ITRANS, sanscript.TAMIL))"
   ]
  },
  {
   "cell_type": "code",
   "execution_count": 13,
   "id": "a1414aca",
   "metadata": {},
   "outputs": [
    {
     "name": "stdout",
     "output_type": "stream",
     "text": [
      "ഭാരതീയ\n"
     ]
    }
   ],
   "source": [
    "print(transliterate(\"bhaaratIya\", sanscript.ITRANS, sanscript.MALAYALAM))"
   ]
  },
  {
   "cell_type": "code",
   "execution_count": 18,
   "id": "0253405a",
   "metadata": {},
   "outputs": [
    {
     "name": "stdout",
     "output_type": "stream",
     "text": [
      "Enter your name:puNe\n",
      "पुणे\n"
     ]
    }
   ],
   "source": [
    "data= input('Enter your name:')\n",
    "print(transliterate(data,sanscript.ITRANS, sanscript.DEVANAGARI))"
   ]
  },
  {
   "cell_type": "code",
   "execution_count": null,
   "id": "b4f06fec",
   "metadata": {},
   "outputs": [],
   "source": []
  }
 ],
 "metadata": {
  "kernelspec": {
   "display_name": "Python 3 (ipykernel)",
   "language": "python",
   "name": "python3"
  },
  "language_info": {
   "codemirror_mode": {
    "name": "ipython",
    "version": 3
   },
   "file_extension": ".py",
   "mimetype": "text/x-python",
   "name": "python",
   "nbconvert_exporter": "python",
   "pygments_lexer": "ipython3",
   "version": "3.11.7"
  }
 },
 "nbformat": 4,
 "nbformat_minor": 5
}
