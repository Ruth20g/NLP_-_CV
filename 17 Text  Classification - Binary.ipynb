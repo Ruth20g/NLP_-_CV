{
 "cells": [
  {
   "cell_type": "markdown",
   "id": "e3ca7db3",
   "metadata": {},
   "source": [
    "### Dataset"
   ]
  },
  {
   "cell_type": "code",
   "execution_count": 1,
   "id": "1224b550",
   "metadata": {},
   "outputs": [],
   "source": [
    "# SMSSpamCollection\n",
    "# Location: https://mitu.co.in/dataset"
   ]
  },
  {
   "cell_type": "markdown",
   "id": "cc53fa73",
   "metadata": {},
   "source": [
    "## Import Libraries"
   ]
  },
  {
   "cell_type": "code",
   "execution_count": 2,
   "id": "929557b7",
   "metadata": {},
   "outputs": [],
   "source": [
    "import pandas as pd\n",
    "import numpy as np\n",
    "import seaborn as sns\n",
    "import matplotlib.pyplot as plt"
   ]
  },
  {
   "cell_type": "markdown",
   "id": "1cdb36b2",
   "metadata": {},
   "source": [
    "## Read file"
   ]
  },
  {
   "cell_type": "code",
   "execution_count": 3,
   "id": "2eb5fbc6",
   "metadata": {},
   "outputs": [
    {
     "data": {
      "text/html": [
       "<div>\n",
       "<style scoped>\n",
       "    .dataframe tbody tr th:only-of-type {\n",
       "        vertical-align: middle;\n",
       "    }\n",
       "\n",
       "    .dataframe tbody tr th {\n",
       "        vertical-align: top;\n",
       "    }\n",
       "\n",
       "    .dataframe thead th {\n",
       "        text-align: right;\n",
       "    }\n",
       "</style>\n",
       "<table border=\"1\" class=\"dataframe\">\n",
       "  <thead>\n",
       "    <tr style=\"text-align: right;\">\n",
       "      <th></th>\n",
       "      <th>label</th>\n",
       "      <th>text</th>\n",
       "    </tr>\n",
       "  </thead>\n",
       "  <tbody>\n",
       "    <tr>\n",
       "      <th>0</th>\n",
       "      <td>ham</td>\n",
       "      <td>Go until jurong point, crazy.. Available only ...</td>\n",
       "    </tr>\n",
       "    <tr>\n",
       "      <th>1</th>\n",
       "      <td>ham</td>\n",
       "      <td>Ok lar... Joking wif u oni...</td>\n",
       "    </tr>\n",
       "    <tr>\n",
       "      <th>2</th>\n",
       "      <td>spam</td>\n",
       "      <td>Free entry in 2 a wkly comp to win FA Cup fina...</td>\n",
       "    </tr>\n",
       "    <tr>\n",
       "      <th>3</th>\n",
       "      <td>ham</td>\n",
       "      <td>U dun say so early hor... U c already then say...</td>\n",
       "    </tr>\n",
       "    <tr>\n",
       "      <th>4</th>\n",
       "      <td>ham</td>\n",
       "      <td>Nah I don't think he goes to usf, he lives aro...</td>\n",
       "    </tr>\n",
       "    <tr>\n",
       "      <th>...</th>\n",
       "      <td>...</td>\n",
       "      <td>...</td>\n",
       "    </tr>\n",
       "    <tr>\n",
       "      <th>5567</th>\n",
       "      <td>spam</td>\n",
       "      <td>This is the 2nd time we have tried 2 contact u...</td>\n",
       "    </tr>\n",
       "    <tr>\n",
       "      <th>5568</th>\n",
       "      <td>ham</td>\n",
       "      <td>Will ü b going to esplanade fr home?</td>\n",
       "    </tr>\n",
       "    <tr>\n",
       "      <th>5569</th>\n",
       "      <td>ham</td>\n",
       "      <td>Pity, * was in mood for that. So...any other s...</td>\n",
       "    </tr>\n",
       "    <tr>\n",
       "      <th>5570</th>\n",
       "      <td>ham</td>\n",
       "      <td>The guy did some bitching but I acted like i'd...</td>\n",
       "    </tr>\n",
       "    <tr>\n",
       "      <th>5571</th>\n",
       "      <td>ham</td>\n",
       "      <td>Rofl. Its true to its name</td>\n",
       "    </tr>\n",
       "  </tbody>\n",
       "</table>\n",
       "<p>5572 rows × 2 columns</p>\n",
       "</div>"
      ],
      "text/plain": [
       "     label                                               text\n",
       "0      ham  Go until jurong point, crazy.. Available only ...\n",
       "1      ham                      Ok lar... Joking wif u oni...\n",
       "2     spam  Free entry in 2 a wkly comp to win FA Cup fina...\n",
       "3      ham  U dun say so early hor... U c already then say...\n",
       "4      ham  Nah I don't think he goes to usf, he lives aro...\n",
       "...    ...                                                ...\n",
       "5567  spam  This is the 2nd time we have tried 2 contact u...\n",
       "5568   ham               Will ü b going to esplanade fr home?\n",
       "5569   ham  Pity, * was in mood for that. So...any other s...\n",
       "5570   ham  The guy did some bitching but I acted like i'd...\n",
       "5571   ham                         Rofl. Its true to its name\n",
       "\n",
       "[5572 rows x 2 columns]"
      ]
     },
     "execution_count": 3,
     "metadata": {},
     "output_type": "execute_result"
    }
   ],
   "source": [
    "df= pd.read_csv('SMSSpamCollection',sep='\\t',names=['label','text'])\n",
    "df"
   ]
  },
  {
   "cell_type": "code",
   "execution_count": 4,
   "id": "dbb33dbc",
   "metadata": {},
   "outputs": [
    {
     "data": {
      "text/plain": [
       "(5572, 2)"
      ]
     },
     "execution_count": 4,
     "metadata": {},
     "output_type": "execute_result"
    }
   ],
   "source": [
    "df.shape"
   ]
  },
  {
   "cell_type": "code",
   "execution_count": 5,
   "id": "399ed157",
   "metadata": {},
   "outputs": [
    {
     "data": {
      "text/plain": [
       "'U dun say so early hor... U c already then say...'"
      ]
     },
     "execution_count": 5,
     "metadata": {},
     "output_type": "execute_result"
    }
   ],
   "source": [
    "df.loc[3,'text']"
   ]
  },
  {
   "cell_type": "markdown",
   "id": "15df6721",
   "metadata": {},
   "source": [
    "#### Seperate input and output data"
   ]
  },
  {
   "cell_type": "code",
   "execution_count": 6,
   "id": "cdd6a86e",
   "metadata": {},
   "outputs": [],
   "source": [
    "#input \n",
    "x= df['text']\n",
    "\n",
    "#output\n",
    "y= df['label']"
   ]
  },
  {
   "cell_type": "code",
   "execution_count": 7,
   "id": "1da2e2a1",
   "metadata": {},
   "outputs": [
    {
     "data": {
      "image/png": "[encoded data removed]",
      "text/plain": [
       "<Figure size 640x480 with 1 Axes>"
      ]
     },
     "metadata": {},
     "output_type": "display_data"
    }
   ],
   "source": [
    "#Countplot\n",
    "sns.countplot(x=y);"
   ]
  },
  {
   "cell_type": "code",
   "execution_count": 8,
   "id": "30c3ce64",
   "metadata": {},
   "outputs": [
    {
     "data": {
      "text/plain": [
       "label\n",
       "ham     4825\n",
       "spam     747\n",
       "Name: count, dtype: int64"
      ]
     },
     "execution_count": 8,
     "metadata": {},
     "output_type": "execute_result"
    }
   ],
   "source": [
    "y.value_counts()"
   ]
  },
  {
   "cell_type": "code",
   "execution_count": 9,
   "id": "cdc5ec22",
   "metadata": {},
   "outputs": [
    {
     "data": {
      "text/plain": [
       "([<matplotlib.patches.Wedge at 0x29f21119690>,\n",
       "  <matplotlib.patches.Wedge at 0x29f21808650>],\n",
       " [Text(-1.0038714981945518, 0.4497132587689916, 'ham'),\n",
       "  Text(1.0038714771419537, -0.44971330576360763, 'spam')],\n",
       " [Text(-0.5475662717424827, 0.24529814114672266, '86.59%'),\n",
       "  Text(0.5475662602592474, -0.2452981667801496, '13.41%')])"
      ]
     },
     "execution_count": 9,
     "metadata": {},
     "output_type": "execute_result"
    },
    {
     "data": {
      "image/png": "[encoded data removed]",
      "text/plain": [
       "<Figure size 640x480 with 1 Axes>"
      ]
     },
     "metadata": {},
     "output_type": "display_data"
    }
   ],
   "source": [
    "plt.pie(y.value_counts(), labels = y.value_counts().index, autopct='%2.2f%%')"
   ]
  },
  {
   "cell_type": "code",
   "execution_count": null,
   "id": "ede9f83a",
   "metadata": {},
   "outputs": [],
   "source": [
    "pip install pip -U"
   ]
  },
  {
   "cell_type": "code",
   "execution_count": null,
   "id": "cac2075f",
   "metadata": {},
   "outputs": [],
   "source": [
    "pip install pillow wordcloud -U"
   ]
  },
  {
   "cell_type": "markdown",
   "id": "a691c1f4",
   "metadata": {},
   "source": [
    "## Filtered spam and not spam"
   ]
  },
  {
   "cell_type": "code",
   "execution_count": null,
   "id": "5626b35f",
   "metadata": {},
   "outputs": [],
   "source": [
    "spam=x[y=='spam']\n",
    "not_spam= x[y=='ham']"
   ]
  },
  {
   "cell_type": "code",
   "execution_count": null,
   "id": "43e638e2",
   "metadata": {},
   "outputs": [],
   "source": [
    "spam.shape"
   ]
  },
  {
   "cell_type": "code",
   "execution_count": null,
   "id": "89efeebb",
   "metadata": {},
   "outputs": [],
   "source": [
    "not_spam.shape"
   ]
  },
  {
   "cell_type": "code",
   "execution_count": null,
   "id": "da684425",
   "metadata": {},
   "outputs": [],
   "source": [
    "#spam.str.cat(sep=' ')\n",
    "spam=' '.join(spam)\n",
    "not_spam=' '.join(not_spam)"
   ]
  },
  {
   "cell_type": "code",
   "execution_count": null,
   "id": "831c9cef",
   "metadata": {},
   "outputs": [],
   "source": [
    "from wordcloud import WordCloud"
   ]
  },
  {
   "cell_type": "code",
   "execution_count": null,
   "id": "f59c2015",
   "metadata": {},
   "outputs": [],
   "source": [
    "wc_notspam= WordCloud(font_path='calibri.ttf',\n",
    "              background_color='white',\n",
    "             max_words=100).generate(not_spam)\n",
    "plt.figure(figsize=(16,9))\n",
    "plt.imshow(wc_notspam)"
   ]
  },
  {
   "cell_type": "code",
   "execution_count": null,
   "id": "d2f40be9",
   "metadata": {},
   "outputs": [],
   "source": [
    "wc_spam= WordCloud(font_path='calibri.ttf',\n",
    "              background_color='white',\n",
    "             max_words=100).generate(spam)\n",
    "plt.figure(figsize=(16,9))\n",
    "plt.imshow(wc_spam)"
   ]
  },
  {
   "cell_type": "code",
   "execution_count": null,
   "id": "5b7fbff5",
   "metadata": {},
   "outputs": [],
   "source": [
    "wc_spam.words_"
   ]
  },
  {
   "cell_type": "markdown",
   "id": "e53ac2d0",
   "metadata": {},
   "source": [
    "### Prepare the data"
   ]
  },
  {
   "cell_type": "code",
   "execution_count": null,
   "id": "df4d0109",
   "metadata": {},
   "outputs": [],
   "source": [
    "from nltk.tokenize import word_tokenize\n",
    "from nltk.corpus import stopwords\n",
    "from nltk.stem import PorterStemmer"
   ]
  },
  {
   "cell_type": "code",
   "execution_count": null,
   "id": "0dee1723",
   "metadata": {},
   "outputs": [],
   "source": [
    "sent= 'Hello friends! How are you? I like Python Programming'"
   ]
  },
  {
   "cell_type": "code",
   "execution_count": null,
   "id": "6cd83d13",
   "metadata": {},
   "outputs": [],
   "source": [
    "#Tokenize the text\n",
    "tokens1= word_tokenize(sent)"
   ]
  },
  {
   "cell_type": "code",
   "execution_count": null,
   "id": "89614501",
   "metadata": {},
   "outputs": [],
   "source": [
    "tokens1"
   ]
  },
  {
   "cell_type": "code",
   "execution_count": null,
   "id": "098f609f",
   "metadata": {},
   "outputs": [],
   "source": [
    "## 2. Remove the punctuations\n",
    "tokens2= [token for token in tokens1 if token.isalnum()]"
   ]
  },
  {
   "cell_type": "code",
   "execution_count": null,
   "id": "4e9519b1",
   "metadata": {},
   "outputs": [],
   "source": [
    "tokens2"
   ]
  },
  {
   "cell_type": "code",
   "execution_count": null,
   "id": "e95566ef",
   "metadata": {},
   "outputs": [],
   "source": [
    "##3. Remove the stop words\n",
    "swords= stopwords.words('english')"
   ]
  },
  {
   "cell_type": "code",
   "execution_count": null,
   "id": "e88b77bb",
   "metadata": {},
   "outputs": [],
   "source": [
    "tokens3= [token for token in tokens2 if token.lower() not in swords]"
   ]
  },
  {
   "cell_type": "code",
   "execution_count": null,
   "id": "55f1b7a3",
   "metadata": {},
   "outputs": [],
   "source": [
    "tokens3"
   ]
  },
  {
   "cell_type": "code",
   "execution_count": null,
   "id": "f2fdd7f7",
   "metadata": {},
   "outputs": [],
   "source": [
    "##4. remove the suffixes\n",
    "ps= PorterStemmer()\n",
    "tokens4=[ps.stem(token) for token in tokens3]\n",
    "tokens4"
   ]
  },
  {
   "cell_type": "code",
   "execution_count": null,
   "id": "402dc5f7",
   "metadata": {},
   "outputs": [],
   "source": [
    "# define analyzer function\n",
    "def clean_txt(sent):\n",
    "    #Tokenize the text\n",
    "    tokens1= word_tokenize(sent)\n",
    "    ## 2. Remove the punctuations\n",
    "    tokens2= [token for token in tokens1 if token.isalnum()]\n",
    "    ##3. Remove the stop words\n",
    "    tokens3= [token for token in tokens2 if token.lower() not in swords]\n",
    "    ##4. remove the suffixes\n",
    "    tokens4=[ps.stem(token) for token in tokens3]\n",
    "    return tokens4"
   ]
  },
  {
   "cell_type": "code",
   "execution_count": null,
   "id": "0da046e7",
   "metadata": {},
   "outputs": [],
   "source": [
    "clean_txt(sent)"
   ]
  },
  {
   "cell_type": "code",
   "execution_count": null,
   "id": "3ad1beb5",
   "metadata": {},
   "outputs": [],
   "source": [
    "sent1 ='It was the expected result on  that occassion.'"
   ]
  },
  {
   "cell_type": "code",
   "execution_count": null,
   "id": "845003fa",
   "metadata": {},
   "outputs": [],
   "source": [
    "clean_txt(sent1)"
   ]
  },
  {
   "cell_type": "code",
   "execution_count": null,
   "id": "83721fcd",
   "metadata": {},
   "outputs": [],
   "source": [
    "sent3=x.loc[400]\n",
    "sent3"
   ]
  },
  {
   "cell_type": "code",
   "execution_count": null,
   "id": "caa443eb",
   "metadata": {},
   "outputs": [],
   "source": [
    "clean_txt(sent3)"
   ]
  },
  {
   "cell_type": "code",
   "execution_count": null,
   "id": "7550b828",
   "metadata": {},
   "outputs": [],
   "source": [
    "#Extract from all rows\n",
    "x.apply(clean_txt)"
   ]
  },
  {
   "cell_type": "markdown",
   "id": "1aed9b4a",
   "metadata": {},
   "source": [
    "### TF*IDF Vectorizer"
   ]
  },
  {
   "cell_type": "code",
   "execution_count": null,
   "id": "8a09131c",
   "metadata": {},
   "outputs": [],
   "source": [
    "#import the class\n",
    "from sklearn.feature_extraction.text import TfidfVectorizer"
   ]
  },
  {
   "cell_type": "code",
   "execution_count": null,
   "id": "ed7eb03c",
   "metadata": {},
   "outputs": [],
   "source": [
    "#create the object\n",
    "tfidf= TfidfVectorizer(analyzer=clean_txt)"
   ]
  },
  {
   "cell_type": "code",
   "execution_count": null,
   "id": "6f5b0f8d",
   "metadata": {},
   "outputs": [],
   "source": [
    "#apply\n",
    "x_new= tfidf.fit_transform(x)"
   ]
  },
  {
   "cell_type": "code",
   "execution_count": null,
   "id": "a5f4a20e",
   "metadata": {},
   "outputs": [],
   "source": [
    "x_new"
   ]
  },
  {
   "cell_type": "markdown",
   "id": "a1601e12",
   "metadata": {},
   "source": [
    "### Cross Validation (Hold out method)"
   ]
  },
  {
   "cell_type": "code",
   "execution_count": null,
   "id": "dd5897da",
   "metadata": {},
   "outputs": [],
   "source": [
    "# split the data\n",
    "from sklearn.model_selection import train_test_split"
   ]
  },
  {
   "cell_type": "code",
   "execution_count": null,
   "id": "51997bae",
   "metadata": {},
   "outputs": [],
   "source": [
    "#seperate the training and testing\n",
    "X_train,X_test,y_train,y_test= train_test_split(x_new,y,\n",
    "                                               random_state=0)"
   ]
  },
  {
   "cell_type": "code",
   "execution_count": null,
   "id": "3ddcdf58",
   "metadata": {},
   "outputs": [],
   "source": [
    "X_train.shape, X_test.shape, y_train.shape, y_test.shape"
   ]
  },
  {
   "cell_type": "code",
   "execution_count": null,
   "id": "6ac042be",
   "metadata": {},
   "outputs": [],
   "source": [
    "tfidf.get_feature_names_out()"
   ]
  },
  {
   "cell_type": "markdown",
   "id": "ca3e49f9",
   "metadata": {},
   "source": [
    "### Build Machine learning classification model"
   ]
  },
  {
   "cell_type": "code",
   "execution_count": null,
   "id": "6940a079",
   "metadata": {},
   "outputs": [],
   "source": [
    "#import class\n",
    "from sklearn.svm import SVC\n",
    "from sklearn.metrics import accuracy_score, confusion_matrix, classification_report\n",
    "from sklearn.metrics import ConfusionMatrixDisplay"
   ]
  },
  {
   "cell_type": "code",
   "execution_count": null,
   "id": "bc9d8547",
   "metadata": {},
   "outputs": [],
   "source": [
    "#create the object\n",
    "svm= SVC(kernel='sigmoid', random_state=0)"
   ]
  },
  {
   "cell_type": "code",
   "execution_count": null,
   "id": "8c714a4c",
   "metadata": {},
   "outputs": [],
   "source": [
    "%%time  \n",
    "svm.fit(X_train, y_train)"
   ]
  },
  {
   "cell_type": "markdown",
   "id": "0476ebb3",
   "metadata": {},
   "source": [
    "## Perform Evaluation"
   ]
  },
  {
   "cell_type": "code",
   "execution_count": null,
   "id": "22700182",
   "metadata": {},
   "outputs": [],
   "source": [
    "y_pred= svm.predict(X_test)"
   ]
  },
  {
   "cell_type": "code",
   "execution_count": null,
   "id": "aa8f35f8",
   "metadata": {},
   "outputs": [],
   "source": [
    "print(confusion_matrix(y_test, y_pred))"
   ]
  },
  {
   "cell_type": "code",
   "execution_count": null,
   "id": "68bd9b91",
   "metadata": {},
   "outputs": [],
   "source": [
    "print(accuracy_score(y_test, y_pred))"
   ]
  },
  {
   "cell_type": "code",
   "execution_count": null,
   "id": "3ed3e460",
   "metadata": {},
   "outputs": [],
   "source": [
    "ConfusionMatrixDisplay.from_predictions(y_test,y_pred)"
   ]
  },
  {
   "cell_type": "code",
   "execution_count": null,
   "id": "4cd8c165",
   "metadata": {},
   "outputs": [],
   "source": [
    "print(classification_report(y_test, y_pred))"
   ]
  },
  {
   "cell_type": "code",
   "execution_count": null,
   "id": "b46a5c40",
   "metadata": {},
   "outputs": [],
   "source": [
    "### RBF --> 0.9798994974874372\n",
    "### Linear --> 0.9834888729361091\n",
    "### Poly --> 0.9361091170136396\n",
    "### Sigmoid --> 0.9806173725771715"
   ]
  },
  {
   "cell_type": "markdown",
   "id": "0570ec2c",
   "metadata": {},
   "source": [
    "### Prediction on unseen data"
   ]
  },
  {
   "cell_type": "code",
   "execution_count": null,
   "id": "0a06ae00",
   "metadata": {},
   "outputs": [],
   "source": [
    "f=open('sample.csv')"
   ]
  },
  {
   "cell_type": "code",
   "execution_count": null,
   "id": "a3d7a6ad",
   "metadata": {},
   "outputs": [],
   "source": [
    "data = f.readlines()"
   ]
  },
  {
   "cell_type": "code",
   "execution_count": null,
   "id": "56507c19",
   "metadata": {},
   "outputs": [],
   "source": [
    "data"
   ]
  },
  {
   "cell_type": "code",
   "execution_count": null,
   "id": "2b5f0069",
   "metadata": {},
   "outputs": [],
   "source": [
    "tfidf.transform(data)"
   ]
  },
  {
   "cell_type": "code",
   "execution_count": null,
   "id": "c05e0635",
   "metadata": {},
   "outputs": [],
   "source": [
    "svm.predict(tfidf.transform(data))"
   ]
  },
  {
   "cell_type": "code",
   "execution_count": null,
   "id": "9ab31c69",
   "metadata": {},
   "outputs": [],
   "source": []
  }
 ],
 "metadata": {
  "kernelspec": {
   "display_name": "Python 3 (ipykernel)",
   "language": "python",
   "name": "python3"
  },
  "language_info": {
   "codemirror_mode": {
    "name": "ipython",
    "version": 3
   },
   "file_extension": ".py",
   "mimetype": "text/x-python",
   "name": "python",
   "nbconvert_exporter": "python",
   "pygments_lexer": "ipython3",
   "version": "3.11.7"
  }
 },
 "nbformat": 4,
 "nbformat_minor": 5
}
