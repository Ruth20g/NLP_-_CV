{
 "cells": [
  {
   "cell_type": "code",
   "execution_count": 2,
   "id": "7393afe5",
   "metadata": {},
   "outputs": [],
   "source": [
    "from tkinter import *"
   ]
  },
  {
   "cell_type": "markdown",
   "id": "37bf1585",
   "metadata": {},
   "source": [
    "### Basic Application"
   ]
  },
  {
   "cell_type": "code",
   "execution_count": 4,
   "id": "8712818a",
   "metadata": {},
   "outputs": [],
   "source": [
    "top = Tk()  # start\n",
    "\n",
    "top.mainloop()  # end"
   ]
  },
  {
   "cell_type": "markdown",
   "id": "b23247ae",
   "metadata": {},
   "source": [
    "### Customization"
   ]
  },
  {
   "cell_type": "code",
   "execution_count": 8,
   "id": "04b12e95",
   "metadata": {},
   "outputs": [],
   "source": [
    "top = Tk()\n",
    "top.title('My first Application')\n",
    "top.geometry('500x300')\n",
    "\n",
    "top.mainloop()"
   ]
  },
  {
   "cell_type": "markdown",
   "id": "3b074adf",
   "metadata": {},
   "source": [
    "### Add widgets"
   ]
  },
  {
   "cell_type": "code",
   "execution_count": 13,
   "id": "caef6314",
   "metadata": {},
   "outputs": [],
   "source": [
    "top = Tk()\n",
    "top.title('My first Application')\n",
    "top.geometry('500x300')\n",
    "\n",
    "l = Label(top, text='Hello World')\n",
    "l.pack()     # pack-> add widgets sequentially\n",
    "\n",
    "top.mainloop()"
   ]
  },
  {
   "cell_type": "markdown",
   "id": "4a5b4575",
   "metadata": {},
   "source": [
    "#### Add submit button"
   ]
  },
  {
   "cell_type": "code",
   "execution_count": 14,
   "id": "889484af",
   "metadata": {},
   "outputs": [],
   "source": [
    "top = Tk()\n",
    "top.title('My first Application')\n",
    "top.geometry('500x300')\n",
    "\n",
    "l = Label(top, text='Hello World').pack()\n",
    "Entry(top).pack()\n",
    "Button(top, text=\"Submit\").pack()\n",
    "\n",
    "top.mainloop()"
   ]
  },
  {
   "cell_type": "markdown",
   "id": "7e1bfa6d",
   "metadata": {},
   "source": [
    "### Event Handling"
   ]
  },
  {
   "cell_type": "code",
   "execution_count": 17,
   "id": "6c4dd7bc",
   "metadata": {},
   "outputs": [
    {
     "name": "stdout",
     "output_type": "stream",
     "text": [
      "your name is:  SHWETA\n",
      "your name is:  PAWAR\n",
      "your name is:  PAWAR SHWETA\n"
     ]
    }
   ],
   "source": [
    "top = Tk()\n",
    "top.title('My first Application')\n",
    "top.geometry('500x300')\n",
    "\n",
    "def show():\n",
    "    name = str(e.get())\n",
    "    print('your name is: ', name.upper())\n",
    "Label(top, text='Enter your name: ').pack()\n",
    "e = Entry(top)\n",
    "e.pack()\n",
    "Button(top, text=\"Submit\", command = show).pack()\n",
    "\n",
    "top.mainloop()"
   ]
  },
  {
   "cell_type": "markdown",
   "id": "882dbbc6",
   "metadata": {},
   "source": [
    "### Add labels to display result in application"
   ]
  },
  {
   "cell_type": "code",
   "execution_count": 19,
   "id": "082aef18",
   "metadata": {},
   "outputs": [],
   "source": [
    "top = Tk()\n",
    "top.title('My first Application')\n",
    "top.geometry('500x300')\n",
    "\n",
    "def show():\n",
    "    name = str(e.get())\n",
    "    Label(top, text='Your name: '+str(e.get().upper())).pack()\n",
    "Label(top, text='Enter your name: ').pack()\n",
    "e = Entry(top)\n",
    "e.pack()\n",
    "Button(top, text=\"Submit\", command = show).pack()\n",
    "\n",
    "top.mainloop()"
   ]
  },
  {
   "cell_type": "markdown",
   "id": "c06fe9ff",
   "metadata": {},
   "source": [
    "### Interactive Application"
   ]
  },
  {
   "cell_type": "code",
   "execution_count": 54,
   "id": "89b119a3",
   "metadata": {},
   "outputs": [],
   "source": [
    "top = Tk()\n",
    "top.title('My first Application')\n",
    "top.geometry('500x300')\n",
    "\n",
    "def show():\n",
    "    num = int(e.get())  # read data in integer form\n",
    "    num **= 2            # take square\n",
    "    l.config(text='Square is: '+str(num))\n",
    "    l.place(x=50,y=150)\n",
    "Label(top, text='Enter your number: ').place(x=50,y=30)\n",
    "e = Entry(top)\n",
    "e.place(x=50,y=70)\n",
    "Button(top, text=\"Submit\", command = show).place(x=50,y=110)\n",
    "l = Label(top, text='Square is : ')\n",
    "top.mainloop()"
   ]
  },
  {
   "cell_type": "code",
   "execution_count": 57,
   "id": "832662ff",
   "metadata": {},
   "outputs": [],
   "source": [
    "top = Tk()\n",
    "top.title('Calculator')\n",
    "top.geometry('500x500')\n",
    "\n",
    "def add():\n",
    "    num1 = int(e1.get())\n",
    "    num2 = int(e2.get())\n",
    "    l.config(text ='Addition is : ' + str(num1 + num2))\n",
    "    l.place(x = 50, y = 150)  \n",
    "\n",
    "def sub():\n",
    "    num1 = int(e1.get())\n",
    "    num2 = int(e2.get())\n",
    "    l.config(text ='Subtraction is : ' + str(num1 - num2))\n",
    "    l.place(x = 50, y = 150)  \n",
    "\n",
    "def mul():\n",
    "    num1 = int(e1.get())\n",
    "    num2 = int(e2.get())\n",
    "    l.config(text ='Multiplication is : ' + str(num1 * num2))\n",
    "    l.place(x = 50, y = 150)  \n",
    "\n",
    "def div():\n",
    "    num1 = int(e1.get())\n",
    "    num2 = int(e2.get())\n",
    "    l.config(text ='Division is : ' + str(num1 + num2))\n",
    "    l.place(x = 50, y = 150)  \n",
    "    \n",
    "\n",
    "Label(top, text='Enter number 1:').place(x=50, y=30)\n",
    "e1 = Entry(top)\n",
    "e1.place(x = 50, y = 70)\n",
    "\n",
    "Label(top, text='Enter number 2:').place(x=200, y=30)\n",
    "e2 = Entry(top)\n",
    "e2.place(x = 200, y = 70)\n",
    "\n",
    "Button(top, text = ' + ', command = add).place(x = 70, y = 110)\n",
    "Button(top, text = ' - ', command = sub).place(x = 100, y = 110)\n",
    "Button(top, text = ' * ', command = mul).place(x = 130, y = 110)\n",
    "Button(top, text = ' / ', command = div).place(x = 170, y = 110)\n",
    "\n",
    "l = Label(top)\n",
    "\n",
    "top.mainloop()"
   ]
  },
  {
   "cell_type": "markdown",
   "id": "35a45a6b",
   "metadata": {},
   "source": [
    "## GUI for Spam Classifier"
   ]
  },
  {
   "cell_type": "code",
   "execution_count": 73,
   "id": "26128972",
   "metadata": {},
   "outputs": [
    {
     "name": "stderr",
     "output_type": "stream",
     "text": [
      "Exception in Tkinter callback\n",
      "Traceback (most recent call last):\n",
      "  File \"D:\\Anaconda\\Lib\\tkinter\\__init__.py\", line 1948, in __call__\n",
      "    return self.func(*args)\n",
      "           ^^^^^^^^^^^^^^^^\n",
      "  File \"C:\\Users\\Administrator.DAI-PC2\\AppData\\Local\\Temp\\ipykernel_26764\\3633880974.py\", line 22, in check\n",
      "    classifier = joblib.load('classifier.model')\n",
      "                 ^^^^^^^^^^^^^^^^^^^^^^^^^^^^^^^\n",
      "  File \"D:\\Anaconda\\Lib\\site-packages\\joblib\\numpy_pickle.py\", line 650, in load\n",
      "    with open(filename, 'rb') as f:\n",
      "         ^^^^^^^^^^^^^^^^^^^^\n",
      "FileNotFoundError: [Errno 2] No such file or directory: 'classifier.model'\n"
     ]
    }
   ],
   "source": [
    "import joblib\n",
    "from nltk.tokenize import word_tokenize\n",
    "from nltk.corpus import stopwords\n",
    "from nltk.stem import PorterStemmer\n",
    "\n",
    "swords= stopwords.words('english')\n",
    "\n",
    "ps= PorterStemmer()\n",
    "\n",
    "def clean_txt():\n",
    "    tokens1= word_tokenize()\n",
    "    tokens2= [token for token in tokens1 if token.isalnum()]\n",
    "    tokens3= [token for token in tokens2 if token.lower() not in swords]\n",
    "    tokens4=[ps.stem(token) for token in tokens3]\n",
    "    return tokens4\n",
    "\n",
    "top = Tk()\n",
    "top.title('Spam Classifier')\n",
    "top.geometry('800x800')\n",
    "\n",
    "def check():\n",
    "    classifier = joblib.load('classifier.model')\n",
    "    tfidf = joblib('preprocesssor.nodel')\n",
    "    message = str(t.get(\"1.0\", END))\n",
    "    result = classifier.predict(tfidf.transform([message]))\n",
    "    l.config(text='Square is: '+str(result[0]))\n",
    "    l.place(x=350,y=550)\n",
    "Label(top, text='Enter your message here: ').place(x=50,y=30)\n",
    "t = Text(top)\n",
    "t.place(x=50,y=70)\n",
    "Button(top, text=\"check\", command = check).place(x=350,y=500)\n",
    "l = Label(top, text='Message is : ')\n",
    "top.mainloop()"
   ]
  },
  {
   "cell_type": "code",
   "execution_count": null,
   "id": "c96dcfcc",
   "metadata": {},
   "outputs": [],
   "source": []
  },
  {
   "cell_type": "code",
   "execution_count": null,
   "id": "09df26a3",
   "metadata": {},
   "outputs": [],
   "source": []
  }
 ],
 "metadata": {
  "kernelspec": {
   "display_name": "Python 3 (ipykernel)",
   "language": "python",
   "name": "python3"
  },
  "language_info": {
   "codemirror_mode": {
    "name": "ipython",
    "version": 3
   },
   "file_extension": ".py",
   "mimetype": "text/x-python",
   "name": "python",
   "nbconvert_exporter": "python",
   "pygments_lexer": "ipython3",
   "version": "3.11.7"
  }
 },
 "nbformat": 4,
 "nbformat_minor": 5
}
