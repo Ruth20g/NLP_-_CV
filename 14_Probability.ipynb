{
 "cells": [
  {
   "cell_type": "markdown",
   "id": "f4b2551e-1abe-4918-9477-a5b41ba4ae21",
   "metadata": {},
   "source": [
    "# Theoritically prob:"
   ]
  },
  {
   "cell_type": "code",
   "execution_count": 1,
   "id": "9f803f42-700d-4781-80a0-64ecbe04eeae",
   "metadata": {},
   "outputs": [],
   "source": [
    "# For coin:\n",
    "def coin_flip_probability():\n",
    "    heads_probability = 1/2\n",
    "    return heads_probability\n",
    "\n",
    "# For dice:\n",
    "def rolling_dice_probability(number):\n",
    "    if number not in range(1,7):\n",
    "        raise valuError('number must be between 1 and 6')\n",
    "    probability = 1/6\n",
    "    return probability"
   ]
  },
  {
   "cell_type": "code",
   "execution_count": 2,
   "id": "2f178c32-8201-4122-a54c-354f01b8831f",
   "metadata": {},
   "outputs": [
    {
     "name": "stdout",
     "output_type": "stream",
     "text": [
      "Prob of header in a coint flip:  0.5\n",
      "Prob of rolling a 4 on a die :  0.16666666666666666\n"
     ]
    }
   ],
   "source": [
    "# example usage:\n",
    "\n",
    "coin_flip_result = coin_flip_probability()\n",
    "dice_roll_result = rolling_dice_probability(6)\n",
    "\n",
    "print('Prob of header in a coint flip: ', coin_flip_result)\n",
    "print('Prob of rolling a 4 on a die : ', dice_roll_result)"
   ]
  },
  {
   "cell_type": "markdown",
   "id": "a00a2922-abd7-4949-86fc-95354550c8b4",
   "metadata": {},
   "source": [
    "# Experimental Prob:"
   ]
  },
  {
   "cell_type": "code",
   "execution_count": 3,
   "id": "3dbd5d43-9ebb-431b-b35d-663f3eb86894",
   "metadata": {},
   "outputs": [],
   "source": [
    "import random\n",
    "import pandas as pd"
   ]
  },
  {
   "cell_type": "code",
   "execution_count": 4,
   "id": "f45df1b6-affc-4bcc-9452-b801735eba0d",
   "metadata": {},
   "outputs": [],
   "source": [
    "def simulate_coin_flips(num_flip):\n",
    "    results = []\n",
    "\n",
    "    for _ in range(num_flip):\n",
    "        flip = random.choice([\"heads\", \"tails\"])\n",
    "        results.append(flip)\n",
    "    return results"
   ]
  },
  {
   "cell_type": "code",
   "execution_count": 5,
   "id": "806c285a-6d1b-4aa6-bb60-05437fa50d2d",
   "metadata": {
    "scrolled": true
   },
   "outputs": [
    {
     "data": {
      "text/plain": [
       "['tails',\n",
       " 'heads',\n",
       " 'tails',\n",
       " 'heads',\n",
       " 'heads',\n",
       " 'heads',\n",
       " 'tails',\n",
       " 'tails',\n",
       " 'tails',\n",
       " 'heads',\n",
       " 'tails',\n",
       " 'heads',\n",
       " 'tails',\n",
       " 'tails',\n",
       " 'tails',\n",
       " 'tails',\n",
       " 'tails',\n",
       " 'tails',\n",
       " 'tails',\n",
       " 'tails',\n",
       " 'tails',\n",
       " 'heads',\n",
       " 'tails',\n",
       " 'heads',\n",
       " 'tails',\n",
       " 'heads',\n",
       " 'tails',\n",
       " 'tails',\n",
       " 'heads',\n",
       " 'heads',\n",
       " 'heads',\n",
       " 'tails',\n",
       " 'heads',\n",
       " 'tails',\n",
       " 'heads',\n",
       " 'tails',\n",
       " 'heads',\n",
       " 'heads',\n",
       " 'heads',\n",
       " 'heads',\n",
       " 'heads',\n",
       " 'tails',\n",
       " 'heads',\n",
       " 'heads',\n",
       " 'tails',\n",
       " 'heads',\n",
       " 'tails',\n",
       " 'heads',\n",
       " 'tails',\n",
       " 'tails',\n",
       " 'heads',\n",
       " 'tails',\n",
       " 'heads',\n",
       " 'heads',\n",
       " 'heads',\n",
       " 'heads',\n",
       " 'tails',\n",
       " 'tails',\n",
       " 'heads',\n",
       " 'tails',\n",
       " 'tails',\n",
       " 'heads',\n",
       " 'tails',\n",
       " 'tails',\n",
       " 'tails',\n",
       " 'heads',\n",
       " 'tails',\n",
       " 'tails',\n",
       " 'heads',\n",
       " 'heads',\n",
       " 'tails',\n",
       " 'heads',\n",
       " 'heads',\n",
       " 'tails',\n",
       " 'heads',\n",
       " 'heads',\n",
       " 'heads',\n",
       " 'tails',\n",
       " 'tails',\n",
       " 'tails',\n",
       " 'heads',\n",
       " 'heads',\n",
       " 'tails',\n",
       " 'heads',\n",
       " 'tails',\n",
       " 'heads',\n",
       " 'tails',\n",
       " 'tails',\n",
       " 'tails',\n",
       " 'heads',\n",
       " 'tails',\n",
       " 'heads',\n",
       " 'heads',\n",
       " 'heads',\n",
       " 'tails',\n",
       " 'heads',\n",
       " 'tails',\n",
       " 'heads',\n",
       " 'heads',\n",
       " 'tails']"
      ]
     },
     "execution_count": 5,
     "metadata": {},
     "output_type": "execute_result"
    }
   ],
   "source": [
    "simulate_coin_flips(100)"
   ]
  },
  {
   "cell_type": "code",
   "execution_count": 6,
   "id": "8132155b-b328-4251-9116-e4a05eee086e",
   "metadata": {},
   "outputs": [
    {
     "data": {
      "text/plain": [
       "tails    55\n",
       "heads    45\n",
       "Name: count, dtype: int64"
      ]
     },
     "execution_count": 6,
     "metadata": {},
     "output_type": "execute_result"
    }
   ],
   "source": [
    "# How many heads and tails are there:\n",
    "\n",
    "pd.Series(simulate_coin_flips(100)).value_counts()"
   ]
  },
  {
   "cell_type": "code",
   "execution_count": 7,
   "id": "57768360-6e21-44f4-8fd2-e98b71524a68",
   "metadata": {},
   "outputs": [],
   "source": [
    "def calculate_experimental_probability(results, event):\n",
    "    event_count = results.count(event)\n",
    "    total_flips = len(results)\n",
    "    probability = event_count / total_flips\n",
    "    return probability"
   ]
  },
  {
   "cell_type": "code",
   "execution_count": 8,
   "id": "18744b63-9a8d-450b-8f36-96f73ec1778c",
   "metadata": {},
   "outputs": [
    {
     "name": "stdout",
     "output_type": "stream",
     "text": [
      "Number of flips:  4000\n",
      "Heads prob: 0.4983\n",
      "Tails prob: 0.5018\n"
     ]
    }
   ],
   "source": [
    "# Example usage:\n",
    "\n",
    "num_flips = 4000\n",
    "simulate_results = simulate_coin_flips(num_flips)\n",
    "\n",
    "heads_probability = calculate_experimental_probability(simulate_results, \"heads\")\n",
    "tails_probability = calculate_experimental_probability(simulate_results, \"tails\")\n",
    "\n",
    "print(f'Number of flips:  {num_flips}')\n",
    "print(f'Heads prob: {heads_probability:.4f}')\n",
    "print(f'Tails prob: {tails_probability:.4f}')"
   ]
  },
  {
   "cell_type": "markdown",
   "id": "e763a4db-ad0b-401e-abf2-ff4b4e252465",
   "metadata": {},
   "source": [
    "##Linear Growth"
   ]
  },
  {
   "cell_type": "code",
   "execution_count": 9,
   "id": "9548c1c2-fa83-4760-8a1a-2a020ccaf5d4",
   "metadata": {},
   "outputs": [
    {
     "data": {
      "text/plain": [
       "array([0.  , 0.25, 0.5 , 0.75, 1.  , 1.25, 1.5 , 1.75, 2.  , 2.25, 2.5 ,\n",
       "       2.75, 3.  , 3.25, 3.5 , 3.75, 4.  , 4.25, 4.5 , 4.75, 5.  , 5.25,\n",
       "       5.5 , 5.75, 6.  , 6.25, 6.5 , 6.75, 7.  , 7.25, 7.5 , 7.75, 8.  ,\n",
       "       8.25, 8.5 , 8.75, 9.  , 9.25, 9.5 , 9.75])"
      ]
     },
     "execution_count": 9,
     "metadata": {},
     "output_type": "execute_result"
    }
   ],
   "source": [
    "import numpy as np\n",
    "x=np.arange(0,10,0.25)\n",
    "x"
   ]
  },
  {
   "cell_type": "code",
   "execution_count": 10,
   "id": "00e523b2-d42d-41e4-a72b-967091ec9102",
   "metadata": {},
   "outputs": [
    {
     "data": {
      "text/plain": [
       "array([15.32434, 15.41019, 15.49604, 15.58189, 15.66774, 15.75359,\n",
       "       15.83944, 15.92529, 16.01114, 16.09699, 16.18284, 16.26869,\n",
       "       16.35454, 16.44039, 16.52624, 16.61209, 16.69794, 16.78379,\n",
       "       16.86964, 16.95549, 17.04134, 17.12719, 17.21304, 17.29889,\n",
       "       17.38474, 17.47059, 17.55644, 17.64229, 17.72814, 17.81399,\n",
       "       17.89984, 17.98569, 18.07154, 18.15739, 18.24324, 18.32909,\n",
       "       18.41494, 18.50079, 18.58664, 18.67249])"
      ]
     },
     "execution_count": 10,
     "metadata": {},
     "output_type": "execute_result"
    }
   ],
   "source": [
    "y=x*0.3434+15.32434\n",
    "y"
   ]
  },
  {
   "cell_type": "code",
   "execution_count": 11,
   "id": "f5897ef6-b99f-4907-9cee-4563e9efe1e0",
   "metadata": {},
   "outputs": [
    {
     "data": {
      "text/plain": [
       "[<matplotlib.lines.Line2D at 0x26b52e67250>]"
      ]
     },
     "execution_count": 11,
     "metadata": {},
     "output_type": "execute_result"
    },
    {
     "data": {
      "image/png": "[encoded data removed]",
      "text/plain": [
       "<Figure size 640x480 with 1 Axes>"
      ]
     },
     "metadata": {},
     "output_type": "display_data"
    }
   ],
   "source": [
    "import matplotlib.pyplot as plt\n",
    "plt.plot(x,y)"
   ]
  },
  {
   "cell_type": "markdown",
   "id": "15fc06f3",
   "metadata": {},
   "source": [
    "Negative Slope"
   ]
  },
  {
   "cell_type": "code",
   "execution_count": 12,
   "id": "3c58ad77",
   "metadata": {},
   "outputs": [
    {
     "data": {
      "text/plain": [
       "[<matplotlib.lines.Line2D at 0x26b52fc36d0>]"
      ]
     },
     "execution_count": 12,
     "metadata": {},
     "output_type": "execute_result"
    },
    {
     "data": {
      "image/png": "[encoded data removed]",
      "text/plain": [
       "<Figure size 640x480 with 1 Axes>"
      ]
     },
     "metadata": {},
     "output_type": "display_data"
    }
   ],
   "source": [
    "y=x*-0.3434+15.32434\n",
    "y\n",
    "plt.plot(x,y)"
   ]
  },
  {
   "cell_type": "code",
   "execution_count": 13,
   "id": "287a7749",
   "metadata": {},
   "outputs": [
    {
     "data": {
      "text/plain": [
       "array([[ 1., -1.],\n",
       "       [-1.,  1.]])"
      ]
     },
     "execution_count": 13,
     "metadata": {},
     "output_type": "execute_result"
    }
   ],
   "source": [
    "np.corrcoef(x, y)  #To find correlation"
   ]
  },
  {
   "cell_type": "markdown",
   "id": "0f9a983f",
   "metadata": {},
   "source": [
    "# Exponential / Polynomial Growth"
   ]
  },
  {
   "cell_type": "code",
   "execution_count": 14,
   "id": "4b919bc6",
   "metadata": {},
   "outputs": [],
   "source": [
    "y = x ** 2 + 5.623"
   ]
  },
  {
   "cell_type": "code",
   "execution_count": 15,
   "id": "81fb6829",
   "metadata": {},
   "outputs": [
    {
     "data": {
      "text/plain": [
       "[<matplotlib.lines.Line2D at 0x26b53042110>]"
      ]
     },
     "execution_count": 15,
     "metadata": {},
     "output_type": "execute_result"
    },
    {
     "data": {
      "image/png": "[encoded data removed]",
      "text/plain": [
       "<Figure size 640x480 with 1 Axes>"
      ]
     },
     "metadata": {},
     "output_type": "display_data"
    }
   ],
   "source": [
    "plt.plot(x, y)"
   ]
  },
  {
   "cell_type": "markdown",
   "id": "4129fd36",
   "metadata": {},
   "source": [
    "# Logarithmic growth"
   ]
  },
  {
   "cell_type": "code",
   "execution_count": 17,
   "id": "f6638310",
   "metadata": {},
   "outputs": [
    {
     "name": "stderr",
     "output_type": "stream",
     "text": [
      "C:\\Users\\Administrator.DAI-PC2\\AppData\\Local\\Temp\\ipykernel_11580\\3875199829.py:1: RuntimeWarning: divide by zero encountered in log\n",
      "  plt.plot(x, np.log(x))   #inverse of polynomial growth\n"
     ]
    },
    {
     "data": {
      "text/plain": [
       "[<matplotlib.lines.Line2D at 0x26b5307e8d0>]"
      ]
     },
     "execution_count": 17,
     "metadata": {},
     "output_type": "execute_result"
    },
    {
     "data": {
      "image/png": "[encoded data removed]",
      "text/plain": [
       "<Figure size 640x480 with 1 Axes>"
      ]
     },
     "metadata": {},
     "output_type": "display_data"
    }
   ],
   "source": [
    "plt.plot(x, np.log(x))   #inverse of polynomial growth"
   ]
  },
  {
   "cell_type": "markdown",
   "id": "137282eb",
   "metadata": {},
   "source": [
    "# Logistic growth"
   ]
  },
  {
   "cell_type": "code",
   "execution_count": 18,
   "id": "2d66aafb",
   "metadata": {},
   "outputs": [],
   "source": [
    "x = np.arange(-5,5,0.25)"
   ]
  },
  {
   "cell_type": "code",
   "execution_count": 19,
   "id": "36a77adf",
   "metadata": {},
   "outputs": [
    {
     "data": {
      "text/plain": [
       "array([-5.  , -4.75, -4.5 , -4.25, -4.  , -3.75, -3.5 , -3.25, -3.  ,\n",
       "       -2.75, -2.5 , -2.25, -2.  , -1.75, -1.5 , -1.25, -1.  , -0.75,\n",
       "       -0.5 , -0.25,  0.  ,  0.25,  0.5 ,  0.75,  1.  ,  1.25,  1.5 ,\n",
       "        1.75,  2.  ,  2.25,  2.5 ,  2.75,  3.  ,  3.25,  3.5 ,  3.75,\n",
       "        4.  ,  4.25,  4.5 ,  4.75])"
      ]
     },
     "execution_count": 19,
     "metadata": {},
     "output_type": "execute_result"
    }
   ],
   "source": [
    "x"
   ]
  },
  {
   "cell_type": "code",
   "execution_count": 20,
   "id": "eee8b1c7",
   "metadata": {},
   "outputs": [
    {
     "data": {
      "text/plain": [
       "[<matplotlib.lines.Line2D at 0x26b53da7310>]"
      ]
     },
     "execution_count": 20,
     "metadata": {},
     "output_type": "execute_result"
    },
    {
     "data": {
      "image/png": "[encoded data removed]",
      "text/plain": [
       "<Figure size 640x480 with 1 Axes>"
      ]
     },
     "metadata": {},
     "output_type": "display_data"
    }
   ],
   "source": [
    "y = 1/(1+np.exp(-x))\n",
    "plt.plot(x,y)"
   ]
  },
  {
   "cell_type": "code",
   "execution_count": null,
   "id": "8ec7bddd",
   "metadata": {},
   "outputs": [],
   "source": []
  }
 ],
 "metadata": {
  "kernelspec": {
   "display_name": "Python 3 (ipykernel)",
   "language": "python",
   "name": "python3"
  },
  "language_info": {
   "codemirror_mode": {
    "name": "ipython",
    "version": 3
   },
   "file_extension": ".py",
   "mimetype": "text/x-python",
   "name": "python",
   "nbconvert_exporter": "python",
   "pygments_lexer": "ipython3",
   "version": "3.11.7"
  }
 },
 "nbformat": 4,
 "nbformat_minor": 5
}
