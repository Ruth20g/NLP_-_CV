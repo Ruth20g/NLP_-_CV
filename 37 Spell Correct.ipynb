{
 "cells": [
  {
   "cell_type": "code",
   "execution_count": 1,
   "id": "1c4bea86",
   "metadata": {},
   "outputs": [],
   "source": [
    "from textblob import TextBlob"
   ]
  },
  {
   "cell_type": "code",
   "execution_count": 2,
   "id": "e3620357",
   "metadata": {},
   "outputs": [],
   "source": [
    "text= TextBlob('computar')"
   ]
  },
  {
   "cell_type": "code",
   "execution_count": 3,
   "id": "90b1053b",
   "metadata": {},
   "outputs": [
    {
     "data": {
      "text/plain": [
       "TextBlob(\"computer\")"
      ]
     },
     "execution_count": 3,
     "metadata": {},
     "output_type": "execute_result"
    }
   ],
   "source": [
    "text.correct()"
   ]
  },
  {
   "cell_type": "code",
   "execution_count": 4,
   "id": "a37ad00a",
   "metadata": {},
   "outputs": [
    {
     "data": {
      "text/plain": [
       "TextBlob(\"computer\")"
      ]
     },
     "execution_count": 4,
     "metadata": {},
     "output_type": "execute_result"
    }
   ],
   "source": [
    "text= TextBlob('komputar')\n",
    "text.correct()"
   ]
  },
  {
   "cell_type": "code",
   "execution_count": 9,
   "id": "8fedfe20",
   "metadata": {},
   "outputs": [],
   "source": [
    "sent= 'They were plyaing onn the geround.'"
   ]
  },
  {
   "cell_type": "code",
   "execution_count": 10,
   "id": "3d6b3709",
   "metadata": {},
   "outputs": [
    {
     "data": {
      "text/plain": [
       "TextBlob(\"They were playing on the ground.\")"
      ]
     },
     "execution_count": 10,
     "metadata": {},
     "output_type": "execute_result"
    }
   ],
   "source": [
    "TextBlob(sent).correct()"
   ]
  },
  {
   "cell_type": "code",
   "execution_count": 11,
   "id": "cb35d557",
   "metadata": {},
   "outputs": [],
   "source": [
    "sent=TextBlob(sent)"
   ]
  },
  {
   "cell_type": "code",
   "execution_count": 12,
   "id": "9af0fbba",
   "metadata": {},
   "outputs": [
    {
     "data": {
      "text/plain": [
       "WordList(['They', 'were', 'plyaing', 'onn', 'the', 'geround', '.'])"
      ]
     },
     "execution_count": 12,
     "metadata": {},
     "output_type": "execute_result"
    }
   ],
   "source": [
    "sent.tokenize()"
   ]
  },
  {
   "cell_type": "code",
   "execution_count": 13,
   "id": "be41f48b",
   "metadata": {},
   "outputs": [
    {
     "data": {
      "text/plain": [
       "[('They', 'PRP'),\n",
       " ('were', 'VBD'),\n",
       " ('playing', 'VBG'),\n",
       " ('on', 'IN'),\n",
       " ('the', 'DT'),\n",
       " ('ground', 'NN')]"
      ]
     },
     "execution_count": 13,
     "metadata": {},
     "output_type": "execute_result"
    }
   ],
   "source": [
    "sent.correct().pos_tags"
   ]
  },
  {
   "cell_type": "code",
   "execution_count": null,
   "id": "3634c416",
   "metadata": {},
   "outputs": [],
   "source": []
  }
 ],
 "metadata": {
  "kernelspec": {
   "display_name": "Python 3 (ipykernel)",
   "language": "python",
   "name": "python3"
  },
  "language_info": {
   "codemirror_mode": {
    "name": "ipython",
    "version": 3
   },
   "file_extension": ".py",
   "mimetype": "text/x-python",
   "name": "python",
   "nbconvert_exporter": "python",
   "pygments_lexer": "ipython3",
   "version": "3.11.7"
  }
 },
 "nbformat": 4,
 "nbformat_minor": 5
}
