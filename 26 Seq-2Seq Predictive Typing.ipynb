{
 "cells": [
  {
   "cell_type": "markdown",
   "id": "f2d02250",
   "metadata": {},
   "source": [
    "## Import the libraries"
   ]
  },
  {
   "cell_type": "code",
   "execution_count": 1,
   "id": "8159b855",
   "metadata": {},
   "outputs": [
    {
     "name": "stdout",
     "output_type": "stream",
     "text": [
      "WARNING:tensorflow:From D:\\Anaconda\\Lib\\site-packages\\keras\\src\\losses.py:2976: The name tf.losses.sparse_softmax_cross_entropy is deprecated. Please use tf.compat.v1.losses.sparse_softmax_cross_entropy instead.\n",
      "\n"
     ]
    }
   ],
   "source": [
    "import numpy as np\n",
    "import keras\n",
    "from keras.preprocessing.text import Tokenizer\n",
    "from keras.preprocessing.sequence import pad_sequences\n",
    "from keras.models import Sequential\n",
    "from keras.layers import Embedding, LSTM, Dense"
   ]
  },
  {
   "cell_type": "markdown",
   "id": "4b260fc2",
   "metadata": {},
   "source": [
    "## Define the source data"
   ]
  },
  {
   "cell_type": "code",
   "execution_count": 2,
   "id": "4ce9faac",
   "metadata": {},
   "outputs": [],
   "source": [
    "# Sample text data\n",
    "text_data = [\n",
    "    \"hello how are you\",\n",
    "    \"hello how have you been\",\n",
    "    \"hi there\",\n",
    "    \"good morning\",\n",
    "    \"good night\",\n",
    "    \"have a nice day\",\n",
    "    \"how is it going\",\n",
    "    \"how have you been\",\n",
    "    \"nice to meet you\",\n",
    "    \"thank you\"\n",
    "]"
   ]
  },
  {
   "cell_type": "markdown",
   "id": "92b0c92d",
   "metadata": {},
   "source": [
    "## Create the tokenizer"
   ]
  },
  {
   "cell_type": "code",
   "execution_count": 3,
   "id": "ed7ffe76",
   "metadata": {},
   "outputs": [],
   "source": [
    "# Prepare the tokenizer\n",
    "tokenizer = Tokenizer()\n",
    "tokenizer.fit_on_texts(text_data)\n",
    "total_words = len(tokenizer.word_index) + 1"
   ]
  },
  {
   "cell_type": "code",
   "execution_count": 4,
   "id": "8070e835",
   "metadata": {},
   "outputs": [
    {
     "data": {
      "text/plain": [
       "21"
      ]
     },
     "execution_count": 4,
     "metadata": {},
     "output_type": "execute_result"
    }
   ],
   "source": [
    "total_words"
   ]
  },
  {
   "cell_type": "code",
   "execution_count": 5,
   "id": "7b2c4c9c",
   "metadata": {},
   "outputs": [
    {
     "data": {
      "text/plain": [
       "{'you': 1,\n",
       " 'how': 2,\n",
       " 'have': 3,\n",
       " 'hello': 4,\n",
       " 'been': 5,\n",
       " 'good': 6,\n",
       " 'nice': 7,\n",
       " 'are': 8,\n",
       " 'hi': 9,\n",
       " 'there': 10,\n",
       " 'morning': 11,\n",
       " 'night': 12,\n",
       " 'a': 13,\n",
       " 'day': 14,\n",
       " 'is': 15,\n",
       " 'it': 16,\n",
       " 'going': 17,\n",
       " 'to': 18,\n",
       " 'meet': 19,\n",
       " 'thank': 20}"
      ]
     },
     "execution_count": 5,
     "metadata": {},
     "output_type": "execute_result"
    }
   ],
   "source": [
    "tokenizer.word_index"
   ]
  },
  {
   "cell_type": "markdown",
   "id": "0e8012f5",
   "metadata": {},
   "source": [
    "## Prepare the input sequences"
   ]
  },
  {
   "cell_type": "code",
   "execution_count": 6,
   "id": "b031dbba",
   "metadata": {},
   "outputs": [],
   "source": [
    "# Create sequences of words\n",
    "input_sequences = []\n",
    "for line in text_data:\n",
    "    token_list = tokenizer.texts_to_sequences([line])[0]\n",
    "    for i in range(1, len(token_list)):\n",
    "        n_gram_sequence = token_list[:i+1]\n",
    "        input_sequences.append(n_gram_sequence)"
   ]
  },
  {
   "cell_type": "code",
   "execution_count": 7,
   "id": "7b53b8a9",
   "metadata": {},
   "outputs": [
    {
     "data": {
      "text/plain": [
       "[[4, 2],\n",
       " [4, 2, 8],\n",
       " [4, 2, 8, 1],\n",
       " [4, 2],\n",
       " [4, 2, 3],\n",
       " [4, 2, 3, 1],\n",
       " [4, 2, 3, 1, 5],\n",
       " [9, 10],\n",
       " [6, 11],\n",
       " [6, 12],\n",
       " [3, 13],\n",
       " [3, 13, 7],\n",
       " [3, 13, 7, 14],\n",
       " [2, 15],\n",
       " [2, 15, 16],\n",
       " [2, 15, 16, 17],\n",
       " [2, 3],\n",
       " [2, 3, 1],\n",
       " [2, 3, 1, 5],\n",
       " [7, 18],\n",
       " [7, 18, 19],\n",
       " [7, 18, 19, 1],\n",
       " [20, 1]]"
      ]
     },
     "execution_count": 7,
     "metadata": {},
     "output_type": "execute_result"
    }
   ],
   "source": [
    "input_sequences"
   ]
  },
  {
   "cell_type": "markdown",
   "id": "0a9e5b5a",
   "metadata": {},
   "source": [
    "## Padding of sequences"
   ]
  },
  {
   "cell_type": "code",
   "execution_count": 8,
   "id": "50bf7be7",
   "metadata": {},
   "outputs": [],
   "source": [
    "max_sequence_len = max([len(x) for x in input_sequences])\n",
    "input_sequences = pad_sequences(input_sequences, maxlen=max_sequence_len, padding='pre')"
   ]
  },
  {
   "cell_type": "code",
   "execution_count": 9,
   "id": "c68c0f8a",
   "metadata": {},
   "outputs": [
    {
     "data": {
      "text/plain": [
       "array([[ 0,  0,  0,  4,  2],\n",
       "       [ 0,  0,  4,  2,  8],\n",
       "       [ 0,  4,  2,  8,  1],\n",
       "       [ 0,  0,  0,  4,  2],\n",
       "       [ 0,  0,  4,  2,  3],\n",
       "       [ 0,  4,  2,  3,  1],\n",
       "       [ 4,  2,  3,  1,  5],\n",
       "       [ 0,  0,  0,  9, 10],\n",
       "       [ 0,  0,  0,  6, 11],\n",
       "       [ 0,  0,  0,  6, 12],\n",
       "       [ 0,  0,  0,  3, 13],\n",
       "       [ 0,  0,  3, 13,  7],\n",
       "       [ 0,  3, 13,  7, 14],\n",
       "       [ 0,  0,  0,  2, 15],\n",
       "       [ 0,  0,  2, 15, 16],\n",
       "       [ 0,  2, 15, 16, 17],\n",
       "       [ 0,  0,  0,  2,  3],\n",
       "       [ 0,  0,  2,  3,  1],\n",
       "       [ 0,  2,  3,  1,  5],\n",
       "       [ 0,  0,  0,  7, 18],\n",
       "       [ 0,  0,  7, 18, 19],\n",
       "       [ 0,  7, 18, 19,  1],\n",
       "       [ 0,  0,  0, 20,  1]])"
      ]
     },
     "execution_count": 9,
     "metadata": {},
     "output_type": "execute_result"
    }
   ],
   "source": [
    "input_sequences"
   ]
  },
  {
   "cell_type": "code",
   "execution_count": 10,
   "id": "b95c5ecb",
   "metadata": {},
   "outputs": [
    {
     "data": {
      "text/plain": [
       "(23, 5)"
      ]
     },
     "execution_count": 10,
     "metadata": {},
     "output_type": "execute_result"
    }
   ],
   "source": [
    "input_sequences.shape"
   ]
  },
  {
   "cell_type": "markdown",
   "id": "6d3eda65",
   "metadata": {},
   "source": [
    "## Split into features and labels "
   ]
  },
  {
   "cell_type": "code",
   "execution_count": 12,
   "id": "2474a914",
   "metadata": {},
   "outputs": [],
   "source": [
    "input_sequences = np.array(input_sequences)\n",
    "X, y = input_sequences[:,:-1], input_sequences[:,-1]\n",
    "y = keras.utils.to_categorical(y, num_classes=total_words)"
   ]
  },
  {
   "cell_type": "code",
   "execution_count": 13,
   "id": "261164c5",
   "metadata": {},
   "outputs": [
    {
     "data": {
      "text/plain": [
       "array([ 2,  8,  1,  2,  3,  1,  5, 10, 11, 12, 13,  7, 14, 15, 16, 17,  3,\n",
       "        1,  5, 18, 19,  1,  1])"
      ]
     },
     "execution_count": 13,
     "metadata": {},
     "output_type": "execute_result"
    }
   ],
   "source": [
    "input_sequences[:,-1]"
   ]
  },
  {
   "cell_type": "code",
   "execution_count": 14,
   "id": "0fb4cf05",
   "metadata": {},
   "outputs": [
    {
     "data": {
      "text/plain": [
       "array([[0., 0., 1., 0., 0., 0., 0., 0., 0., 0., 0., 0., 0., 0., 0., 0.,\n",
       "        0., 0., 0., 0., 0.],\n",
       "       [0., 0., 0., 0., 0., 0., 0., 0., 1., 0., 0., 0., 0., 0., 0., 0.,\n",
       "        0., 0., 0., 0., 0.],\n",
       "       [0., 1., 0., 0., 0., 0., 0., 0., 0., 0., 0., 0., 0., 0., 0., 0.,\n",
       "        0., 0., 0., 0., 0.],\n",
       "       [0., 0., 1., 0., 0., 0., 0., 0., 0., 0., 0., 0., 0., 0., 0., 0.,\n",
       "        0., 0., 0., 0., 0.],\n",
       "       [0., 0., 0., 1., 0., 0., 0., 0., 0., 0., 0., 0., 0., 0., 0., 0.,\n",
       "        0., 0., 0., 0., 0.],\n",
       "       [0., 1., 0., 0., 0., 0., 0., 0., 0., 0., 0., 0., 0., 0., 0., 0.,\n",
       "        0., 0., 0., 0., 0.],\n",
       "       [0., 0., 0., 0., 0., 1., 0., 0., 0., 0., 0., 0., 0., 0., 0., 0.,\n",
       "        0., 0., 0., 0., 0.],\n",
       "       [0., 0., 0., 0., 0., 0., 0., 0., 0., 0., 1., 0., 0., 0., 0., 0.,\n",
       "        0., 0., 0., 0., 0.],\n",
       "       [0., 0., 0., 0., 0., 0., 0., 0., 0., 0., 0., 1., 0., 0., 0., 0.,\n",
       "        0., 0., 0., 0., 0.],\n",
       "       [0., 0., 0., 0., 0., 0., 0., 0., 0., 0., 0., 0., 1., 0., 0., 0.,\n",
       "        0., 0., 0., 0., 0.],\n",
       "       [0., 0., 0., 0., 0., 0., 0., 0., 0., 0., 0., 0., 0., 1., 0., 0.,\n",
       "        0., 0., 0., 0., 0.],\n",
       "       [0., 0., 0., 0., 0., 0., 0., 1., 0., 0., 0., 0., 0., 0., 0., 0.,\n",
       "        0., 0., 0., 0., 0.],\n",
       "       [0., 0., 0., 0., 0., 0., 0., 0., 0., 0., 0., 0., 0., 0., 1., 0.,\n",
       "        0., 0., 0., 0., 0.],\n",
       "       [0., 0., 0., 0., 0., 0., 0., 0., 0., 0., 0., 0., 0., 0., 0., 1.,\n",
       "        0., 0., 0., 0., 0.],\n",
       "       [0., 0., 0., 0., 0., 0., 0., 0., 0., 0., 0., 0., 0., 0., 0., 0.,\n",
       "        1., 0., 0., 0., 0.],\n",
       "       [0., 0., 0., 0., 0., 0., 0., 0., 0., 0., 0., 0., 0., 0., 0., 0.,\n",
       "        0., 1., 0., 0., 0.],\n",
       "       [0., 0., 0., 1., 0., 0., 0., 0., 0., 0., 0., 0., 0., 0., 0., 0.,\n",
       "        0., 0., 0., 0., 0.],\n",
       "       [0., 1., 0., 0., 0., 0., 0., 0., 0., 0., 0., 0., 0., 0., 0., 0.,\n",
       "        0., 0., 0., 0., 0.],\n",
       "       [0., 0., 0., 0., 0., 1., 0., 0., 0., 0., 0., 0., 0., 0., 0., 0.,\n",
       "        0., 0., 0., 0., 0.],\n",
       "       [0., 0., 0., 0., 0., 0., 0., 0., 0., 0., 0., 0., 0., 0., 0., 0.,\n",
       "        0., 0., 1., 0., 0.],\n",
       "       [0., 0., 0., 0., 0., 0., 0., 0., 0., 0., 0., 0., 0., 0., 0., 0.,\n",
       "        0., 0., 0., 1., 0.],\n",
       "       [0., 1., 0., 0., 0., 0., 0., 0., 0., 0., 0., 0., 0., 0., 0., 0.,\n",
       "        0., 0., 0., 0., 0.],\n",
       "       [0., 1., 0., 0., 0., 0., 0., 0., 0., 0., 0., 0., 0., 0., 0., 0.,\n",
       "        0., 0., 0., 0., 0.]], dtype=float32)"
      ]
     },
     "execution_count": 14,
     "metadata": {},
     "output_type": "execute_result"
    }
   ],
   "source": [
    "y"
   ]
  },
  {
   "cell_type": "markdown",
   "id": "e11d6ad7",
   "metadata": {},
   "source": [
    "## Build the RNN model "
   ]
  },
  {
   "cell_type": "code",
   "execution_count": 15,
   "id": "a09854da",
   "metadata": {},
   "outputs": [
    {
     "name": "stdout",
     "output_type": "stream",
     "text": [
      "WARNING:tensorflow:From D:\\Anaconda\\Lib\\site-packages\\keras\\src\\backend.py:873: The name tf.get_default_graph is deprecated. Please use tf.compat.v1.get_default_graph instead.\n",
      "\n"
     ]
    }
   ],
   "source": [
    "model = Sequential()\n",
    "model.add(Embedding(total_words, 10, input_length=max_sequence_len-1))\n",
    "model.add(LSTM(150, return_sequences=True))\n",
    "model.add(LSTM(100))\n",
    "model.add(Dense(total_words, activation='softmax'))"
   ]
  },
  {
   "cell_type": "code",
   "execution_count": 16,
   "id": "7dc14668",
   "metadata": {},
   "outputs": [
    {
     "name": "stdout",
     "output_type": "stream",
     "text": [
      "Model: \"sequential\"\n",
      "_________________________________________________________________\n",
      " Layer (type)                Output Shape              Param #   \n",
      "=================================================================\n",
      " embedding (Embedding)       (None, 4, 10)             210       \n",
      "                                                                 \n",
      " lstm (LSTM)                 (None, 4, 150)            96600     \n",
      "                                                                 \n",
      " lstm_1 (LSTM)               (None, 100)               100400    \n",
      "                                                                 \n",
      " dense (Dense)               (None, 21)                2121      \n",
      "                                                                 \n",
      "=================================================================\n",
      "Total params: 199331 (778.64 KB)\n",
      "Trainable params: 199331 (778.64 KB)\n",
      "Non-trainable params: 0 (0.00 Byte)\n",
      "_________________________________________________________________\n"
     ]
    }
   ],
   "source": [
    "model.summary()"
   ]
  },
  {
   "cell_type": "markdown",
   "id": "32a3b050",
   "metadata": {},
   "source": [
    "## Compile the model "
   ]
  },
  {
   "cell_type": "code",
   "execution_count": 17,
   "id": "2e72e469",
   "metadata": {},
   "outputs": [
    {
     "name": "stdout",
     "output_type": "stream",
     "text": [
      "WARNING:tensorflow:From D:\\Anaconda\\Lib\\site-packages\\keras\\src\\optimizers\\__init__.py:309: The name tf.train.Optimizer is deprecated. Please use tf.compat.v1.train.Optimizer instead.\n",
      "\n"
     ]
    }
   ],
   "source": [
    "model.compile(loss='categorical_crossentropy',optimizer='adam',metrics=['accuracy'])"
   ]
  },
  {
   "cell_type": "markdown",
   "id": "00de72a0",
   "metadata": {},
   "source": [
    "## Train the model "
   ]
  },
  {
   "cell_type": "code",
   "execution_count": 18,
   "id": "372f0f97",
   "metadata": {},
   "outputs": [
    {
     "name": "stdout",
     "output_type": "stream",
     "text": [
      "Epoch 1/200\n",
      "WARNING:tensorflow:From D:\\Anaconda\\Lib\\site-packages\\keras\\src\\utils\\tf_utils.py:492: The name tf.ragged.RaggedTensorValue is deprecated. Please use tf.compat.v1.ragged.RaggedTensorValue instead.\n",
      "\n",
      "WARNING:tensorflow:From D:\\Anaconda\\Lib\\site-packages\\keras\\src\\engine\\base_layer_utils.py:384: The name tf.executing_eagerly_outside_functions is deprecated. Please use tf.compat.v1.executing_eagerly_outside_functions instead.\n",
      "\n",
      "23/23 [==============================] - 4s 9ms/step - loss: 3.0435 - accuracy: 0.1739\n",
      "Epoch 2/200\n",
      "23/23 [==============================] - 0s 9ms/step - loss: 2.9959 - accuracy: 0.2174\n",
      "Epoch 3/200\n",
      "23/23 [==============================] - 0s 9ms/step - loss: 2.8556 - accuracy: 0.2174\n",
      "Epoch 4/200\n",
      "23/23 [==============================] - 0s 9ms/step - loss: 2.7289 - accuracy: 0.2174\n",
      "Epoch 5/200\n",
      "23/23 [==============================] - 0s 9ms/step - loss: 2.7083 - accuracy: 0.2174\n",
      "Epoch 6/200\n",
      "23/23 [==============================] - 0s 9ms/step - loss: 2.7008 - accuracy: 0.2174\n",
      "Epoch 7/200\n",
      "23/23 [==============================] - 0s 10ms/step - loss: 2.6182 - accuracy: 0.2174\n",
      "Epoch 8/200\n",
      "23/23 [==============================] - 0s 10ms/step - loss: 2.6081 - accuracy: 0.2174\n",
      "Epoch 9/200\n",
      "23/23 [==============================] - 0s 10ms/step - loss: 2.5818 - accuracy: 0.2174\n",
      "Epoch 10/200\n",
      "23/23 [==============================] - 0s 10ms/step - loss: 2.5608 - accuracy: 0.2174\n",
      "Epoch 11/200\n",
      "23/23 [==============================] - 0s 9ms/step - loss: 2.4966 - accuracy: 0.2174\n",
      "Epoch 12/200\n",
      "23/23 [==============================] - 0s 9ms/step - loss: 2.4357 - accuracy: 0.1739\n",
      "Epoch 13/200\n",
      "23/23 [==============================] - 0s 9ms/step - loss: 2.3676 - accuracy: 0.2174\n",
      "Epoch 14/200\n",
      "23/23 [==============================] - 0s 8ms/step - loss: 2.2946 - accuracy: 0.1739\n",
      "Epoch 15/200\n",
      "23/23 [==============================] - 0s 10ms/step - loss: 2.2383 - accuracy: 0.2609\n",
      "Epoch 16/200\n",
      "23/23 [==============================] - 0s 9ms/step - loss: 2.2747 - accuracy: 0.2174\n",
      "Epoch 17/200\n",
      "23/23 [==============================] - 0s 10ms/step - loss: 2.1138 - accuracy: 0.2609\n",
      "Epoch 18/200\n",
      "23/23 [==============================] - 0s 10ms/step - loss: 2.0467 - accuracy: 0.2609\n",
      "Epoch 19/200\n",
      "23/23 [==============================] - 0s 10ms/step - loss: 1.9974 - accuracy: 0.2609\n",
      "Epoch 20/200\n",
      "23/23 [==============================] - 0s 9ms/step - loss: 1.8810 - accuracy: 0.3478\n",
      "Epoch 21/200\n",
      "23/23 [==============================] - 0s 10ms/step - loss: 1.7917 - accuracy: 0.3913\n",
      "Epoch 22/200\n",
      "23/23 [==============================] - 0s 9ms/step - loss: 1.6784 - accuracy: 0.3913\n",
      "Epoch 23/200\n",
      "23/23 [==============================] - 0s 9ms/step - loss: 1.5892 - accuracy: 0.4783\n",
      "Epoch 24/200\n",
      "23/23 [==============================] - 0s 10ms/step - loss: 1.5059 - accuracy: 0.4348\n",
      "Epoch 25/200\n",
      "23/23 [==============================] - 0s 8ms/step - loss: 1.4367 - accuracy: 0.5217\n",
      "Epoch 26/200\n",
      "23/23 [==============================] - 0s 10ms/step - loss: 1.3194 - accuracy: 0.4783\n",
      "Epoch 27/200\n",
      "23/23 [==============================] - 0s 9ms/step - loss: 1.2367 - accuracy: 0.5652\n",
      "Epoch 28/200\n",
      "23/23 [==============================] - 0s 9ms/step - loss: 1.1675 - accuracy: 0.5652\n",
      "Epoch 29/200\n",
      "23/23 [==============================] - 0s 10ms/step - loss: 1.1183 - accuracy: 0.5652\n",
      "Epoch 30/200\n",
      "23/23 [==============================] - 0s 9ms/step - loss: 1.0112 - accuracy: 0.6087\n",
      "Epoch 31/200\n",
      "23/23 [==============================] - 0s 9ms/step - loss: 0.9514 - accuracy: 0.7391\n",
      "Epoch 32/200\n",
      "23/23 [==============================] - 0s 9ms/step - loss: 0.9002 - accuracy: 0.6522\n",
      "Epoch 33/200\n",
      "23/23 [==============================] - 0s 9ms/step - loss: 0.8665 - accuracy: 0.6522\n",
      "Epoch 34/200\n",
      "23/23 [==============================] - 0s 9ms/step - loss: 0.7795 - accuracy: 0.7826\n",
      "Epoch 35/200\n",
      "23/23 [==============================] - 0s 9ms/step - loss: 0.7825 - accuracy: 0.6957\n",
      "Epoch 36/200\n",
      "23/23 [==============================] - 0s 9ms/step - loss: 0.6893 - accuracy: 0.6957\n",
      "Epoch 37/200\n",
      "23/23 [==============================] - 0s 9ms/step - loss: 0.6772 - accuracy: 0.6522\n",
      "Epoch 38/200\n",
      "23/23 [==============================] - 0s 9ms/step - loss: 0.6038 - accuracy: 0.7391\n",
      "Epoch 39/200\n",
      "23/23 [==============================] - 0s 10ms/step - loss: 0.6146 - accuracy: 0.7391\n",
      "Epoch 40/200\n",
      "23/23 [==============================] - 0s 9ms/step - loss: 0.5697 - accuracy: 0.6957\n",
      "Epoch 41/200\n",
      "23/23 [==============================] - 0s 10ms/step - loss: 0.5665 - accuracy: 0.6957\n",
      "Epoch 42/200\n",
      "23/23 [==============================] - 0s 8ms/step - loss: 0.5406 - accuracy: 0.7391\n",
      "Epoch 43/200\n",
      "23/23 [==============================] - 0s 9ms/step - loss: 0.4957 - accuracy: 0.7391\n",
      "Epoch 44/200\n",
      "23/23 [==============================] - 0s 9ms/step - loss: 0.4875 - accuracy: 0.6957\n",
      "Epoch 45/200\n",
      "23/23 [==============================] - 0s 11ms/step - loss: 0.4772 - accuracy: 0.7391\n",
      "Epoch 46/200\n",
      "23/23 [==============================] - 0s 9ms/step - loss: 0.4833 - accuracy: 0.7826\n",
      "Epoch 47/200\n",
      "23/23 [==============================] - 0s 11ms/step - loss: 0.4479 - accuracy: 0.8696\n",
      "Epoch 48/200\n",
      "23/23 [==============================] - 0s 10ms/step - loss: 0.4718 - accuracy: 0.7391\n",
      "Epoch 49/200\n",
      "23/23 [==============================] - 0s 9ms/step - loss: 0.4618 - accuracy: 0.7826\n",
      "Epoch 50/200\n",
      "23/23 [==============================] - 0s 10ms/step - loss: 0.4382 - accuracy: 0.7391\n",
      "Epoch 51/200\n",
      "23/23 [==============================] - 0s 10ms/step - loss: 0.4230 - accuracy: 0.7391\n",
      "Epoch 52/200\n",
      "23/23 [==============================] - 0s 10ms/step - loss: 0.3971 - accuracy: 0.7826\n",
      "Epoch 53/200\n",
      "23/23 [==============================] - 0s 9ms/step - loss: 0.4191 - accuracy: 0.7826\n",
      "Epoch 54/200\n",
      "23/23 [==============================] - 0s 9ms/step - loss: 0.3852 - accuracy: 0.7826\n",
      "Epoch 55/200\n",
      "23/23 [==============================] - 0s 9ms/step - loss: 0.3576 - accuracy: 0.8696\n",
      "Epoch 56/200\n",
      "23/23 [==============================] - 0s 10ms/step - loss: 0.3710 - accuracy: 0.7826\n",
      "Epoch 57/200\n",
      "23/23 [==============================] - 0s 9ms/step - loss: 0.3492 - accuracy: 0.8261\n",
      "Epoch 58/200\n",
      "23/23 [==============================] - 0s 9ms/step - loss: 0.3492 - accuracy: 0.8261\n",
      "Epoch 59/200\n",
      "23/23 [==============================] - 0s 10ms/step - loss: 0.3446 - accuracy: 0.7391\n",
      "Epoch 60/200\n",
      "23/23 [==============================] - 0s 9ms/step - loss: 0.3497 - accuracy: 0.7391\n",
      "Epoch 61/200\n",
      "23/23 [==============================] - 0s 9ms/step - loss: 0.3652 - accuracy: 0.8696\n",
      "Epoch 62/200\n",
      "23/23 [==============================] - 0s 9ms/step - loss: 0.3817 - accuracy: 0.8261\n",
      "Epoch 63/200\n",
      "23/23 [==============================] - 0s 9ms/step - loss: 0.3299 - accuracy: 0.8696\n",
      "Epoch 64/200\n",
      "23/23 [==============================] - 0s 9ms/step - loss: 0.3110 - accuracy: 0.7826\n",
      "Epoch 65/200\n",
      "23/23 [==============================] - 0s 9ms/step - loss: 0.3015 - accuracy: 0.8696\n",
      "Epoch 66/200\n",
      "23/23 [==============================] - 0s 10ms/step - loss: 0.3010 - accuracy: 0.8261\n",
      "Epoch 67/200\n",
      "23/23 [==============================] - 0s 9ms/step - loss: 0.2780 - accuracy: 0.8261\n",
      "Epoch 68/200\n",
      "23/23 [==============================] - 0s 10ms/step - loss: 0.2898 - accuracy: 0.8261\n",
      "Epoch 69/200\n",
      "23/23 [==============================] - 0s 10ms/step - loss: 0.2732 - accuracy: 0.7826\n",
      "Epoch 70/200\n",
      "23/23 [==============================] - 0s 10ms/step - loss: 0.2714 - accuracy: 0.8261\n",
      "Epoch 71/200\n",
      "23/23 [==============================] - 0s 10ms/step - loss: 0.2694 - accuracy: 0.8261\n",
      "Epoch 72/200\n",
      "23/23 [==============================] - 0s 9ms/step - loss: 0.2746 - accuracy: 0.7826\n",
      "Epoch 73/200\n",
      "23/23 [==============================] - 0s 9ms/step - loss: 0.2607 - accuracy: 0.8261\n",
      "Epoch 74/200\n",
      "23/23 [==============================] - 0s 9ms/step - loss: 0.2553 - accuracy: 0.8261\n",
      "Epoch 75/200\n",
      "23/23 [==============================] - 0s 10ms/step - loss: 0.2675 - accuracy: 0.8261\n",
      "Epoch 76/200\n",
      "23/23 [==============================] - 0s 10ms/step - loss: 0.2522 - accuracy: 0.7391\n",
      "Epoch 77/200\n",
      "23/23 [==============================] - 0s 10ms/step - loss: 0.2563 - accuracy: 0.8696\n",
      "Epoch 78/200\n"
     ]
    },
    {
     "name": "stdout",
     "output_type": "stream",
     "text": [
      "23/23 [==============================] - 0s 10ms/step - loss: 0.2600 - accuracy: 0.8261\n",
      "Epoch 79/200\n",
      "23/23 [==============================] - 0s 10ms/step - loss: 0.2661 - accuracy: 0.7391\n",
      "Epoch 80/200\n",
      "23/23 [==============================] - 0s 10ms/step - loss: 0.2499 - accuracy: 0.8696\n",
      "Epoch 81/200\n",
      "23/23 [==============================] - 0s 9ms/step - loss: 0.2434 - accuracy: 0.8261\n",
      "Epoch 82/200\n",
      "23/23 [==============================] - 0s 10ms/step - loss: 0.2390 - accuracy: 0.8261\n",
      "Epoch 83/200\n",
      "23/23 [==============================] - 0s 10ms/step - loss: 0.2458 - accuracy: 0.7826\n",
      "Epoch 84/200\n",
      "23/23 [==============================] - 0s 10ms/step - loss: 0.2373 - accuracy: 0.8261\n",
      "Epoch 85/200\n",
      "23/23 [==============================] - 0s 10ms/step - loss: 0.2340 - accuracy: 0.7826\n",
      "Epoch 86/200\n",
      "23/23 [==============================] - 0s 9ms/step - loss: 0.2395 - accuracy: 0.8261\n",
      "Epoch 87/200\n",
      "23/23 [==============================] - 0s 10ms/step - loss: 0.2308 - accuracy: 0.8261\n",
      "Epoch 88/200\n",
      "23/23 [==============================] - 0s 9ms/step - loss: 0.2369 - accuracy: 0.7391\n",
      "Epoch 89/200\n",
      "23/23 [==============================] - 0s 10ms/step - loss: 0.2394 - accuracy: 0.8261\n",
      "Epoch 90/200\n",
      "23/23 [==============================] - 0s 9ms/step - loss: 0.2464 - accuracy: 0.7826\n",
      "Epoch 91/200\n",
      "23/23 [==============================] - 0s 10ms/step - loss: 0.2224 - accuracy: 0.8696\n",
      "Epoch 92/200\n",
      "23/23 [==============================] - 0s 9ms/step - loss: 0.2274 - accuracy: 0.8696\n",
      "Epoch 93/200\n",
      "23/23 [==============================] - 0s 9ms/step - loss: 0.2321 - accuracy: 0.8261\n",
      "Epoch 94/200\n",
      "23/23 [==============================] - 0s 9ms/step - loss: 0.2303 - accuracy: 0.8261\n",
      "Epoch 95/200\n",
      "23/23 [==============================] - 0s 9ms/step - loss: 0.2277 - accuracy: 0.8261\n",
      "Epoch 96/200\n",
      "23/23 [==============================] - 0s 10ms/step - loss: 0.2193 - accuracy: 0.8261\n",
      "Epoch 97/200\n",
      "23/23 [==============================] - 0s 7ms/step - loss: 0.2187 - accuracy: 0.7826\n",
      "Epoch 98/200\n",
      "23/23 [==============================] - 0s 8ms/step - loss: 0.2216 - accuracy: 0.8261\n",
      "Epoch 99/200\n",
      "23/23 [==============================] - 0s 9ms/step - loss: 0.2231 - accuracy: 0.8261\n",
      "Epoch 100/200\n",
      "23/23 [==============================] - 0s 9ms/step - loss: 0.2231 - accuracy: 0.7826\n",
      "Epoch 101/200\n",
      "23/23 [==============================] - 0s 10ms/step - loss: 0.2333 - accuracy: 0.7826\n",
      "Epoch 102/200\n",
      "23/23 [==============================] - 0s 9ms/step - loss: 0.2348 - accuracy: 0.7826\n",
      "Epoch 103/200\n",
      "23/23 [==============================] - 0s 9ms/step - loss: 0.2204 - accuracy: 0.7826\n",
      "Epoch 104/200\n",
      "23/23 [==============================] - 0s 9ms/step - loss: 0.2211 - accuracy: 0.7826\n",
      "Epoch 105/200\n",
      "23/23 [==============================] - 0s 9ms/step - loss: 0.2172 - accuracy: 0.8696\n",
      "Epoch 106/200\n",
      "23/23 [==============================] - 0s 9ms/step - loss: 0.2167 - accuracy: 0.8261\n",
      "Epoch 107/200\n",
      "23/23 [==============================] - 0s 9ms/step - loss: 0.2227 - accuracy: 0.8261\n",
      "Epoch 108/200\n",
      "23/23 [==============================] - 0s 9ms/step - loss: 0.2248 - accuracy: 0.8261\n",
      "Epoch 109/200\n",
      "23/23 [==============================] - 0s 9ms/step - loss: 0.2102 - accuracy: 0.8261\n",
      "Epoch 110/200\n",
      "23/23 [==============================] - 0s 10ms/step - loss: 0.2144 - accuracy: 0.7826\n",
      "Epoch 111/200\n",
      "23/23 [==============================] - 0s 9ms/step - loss: 0.2300 - accuracy: 0.8261\n",
      "Epoch 112/200\n",
      "23/23 [==============================] - 0s 9ms/step - loss: 0.2204 - accuracy: 0.8261\n",
      "Epoch 113/200\n",
      "23/23 [==============================] - 0s 10ms/step - loss: 0.2084 - accuracy: 0.8261\n",
      "Epoch 114/200\n",
      "23/23 [==============================] - 0s 9ms/step - loss: 0.2151 - accuracy: 0.8261\n",
      "Epoch 115/200\n",
      "23/23 [==============================] - 0s 9ms/step - loss: 0.2077 - accuracy: 0.7826\n",
      "Epoch 116/200\n",
      "23/23 [==============================] - 0s 9ms/step - loss: 0.2232 - accuracy: 0.7826\n",
      "Epoch 117/200\n",
      "23/23 [==============================] - 0s 10ms/step - loss: 0.2143 - accuracy: 0.8696\n",
      "Epoch 118/200\n",
      "23/23 [==============================] - 0s 10ms/step - loss: 0.2199 - accuracy: 0.7826\n",
      "Epoch 119/200\n",
      "23/23 [==============================] - 0s 10ms/step - loss: 0.2112 - accuracy: 0.8261\n",
      "Epoch 120/200\n",
      "23/23 [==============================] - 0s 10ms/step - loss: 0.2164 - accuracy: 0.7826\n",
      "Epoch 121/200\n",
      "23/23 [==============================] - 0s 9ms/step - loss: 0.2036 - accuracy: 0.8696\n",
      "Epoch 122/200\n",
      "23/23 [==============================] - 0s 10ms/step - loss: 0.2126 - accuracy: 0.7826\n",
      "Epoch 123/200\n",
      "23/23 [==============================] - 0s 8ms/step - loss: 0.2089 - accuracy: 0.7826\n",
      "Epoch 124/200\n",
      "23/23 [==============================] - 0s 9ms/step - loss: 0.2160 - accuracy: 0.7391\n",
      "Epoch 125/200\n",
      "23/23 [==============================] - 0s 9ms/step - loss: 0.2093 - accuracy: 0.8696\n",
      "Epoch 126/200\n",
      "23/23 [==============================] - 0s 8ms/step - loss: 0.2051 - accuracy: 0.8696\n",
      "Epoch 127/200\n",
      "23/23 [==============================] - 0s 8ms/step - loss: 0.2111 - accuracy: 0.7826\n",
      "Epoch 128/200\n",
      "23/23 [==============================] - 0s 9ms/step - loss: 0.2045 - accuracy: 0.8261\n",
      "Epoch 129/200\n",
      "23/23 [==============================] - 0s 9ms/step - loss: 0.2126 - accuracy: 0.8261\n",
      "Epoch 130/200\n",
      "23/23 [==============================] - 0s 9ms/step - loss: 0.2111 - accuracy: 0.7391\n",
      "Epoch 131/200\n",
      "23/23 [==============================] - 0s 9ms/step - loss: 0.2061 - accuracy: 0.7826\n",
      "Epoch 132/200\n",
      "23/23 [==============================] - 0s 10ms/step - loss: 0.2130 - accuracy: 0.7391\n",
      "Epoch 133/200\n",
      "23/23 [==============================] - 0s 9ms/step - loss: 0.2044 - accuracy: 0.8261\n",
      "Epoch 134/200\n",
      "23/23 [==============================] - 0s 8ms/step - loss: 0.2224 - accuracy: 0.7391\n",
      "Epoch 135/200\n",
      "23/23 [==============================] - 0s 9ms/step - loss: 0.2067 - accuracy: 0.7826\n",
      "Epoch 136/200\n",
      "23/23 [==============================] - 0s 9ms/step - loss: 0.2102 - accuracy: 0.7826\n",
      "Epoch 137/200\n",
      "23/23 [==============================] - 0s 9ms/step - loss: 0.2055 - accuracy: 0.8696\n",
      "Epoch 138/200\n",
      "23/23 [==============================] - 0s 10ms/step - loss: 0.2024 - accuracy: 0.8696\n",
      "Epoch 139/200\n",
      "23/23 [==============================] - 0s 10ms/step - loss: 0.2135 - accuracy: 0.8261\n",
      "Epoch 140/200\n",
      "23/23 [==============================] - 0s 9ms/step - loss: 0.2078 - accuracy: 0.8261\n",
      "Epoch 141/200\n",
      "23/23 [==============================] - 0s 9ms/step - loss: 0.2104 - accuracy: 0.7826\n",
      "Epoch 142/200\n",
      "23/23 [==============================] - 0s 9ms/step - loss: 0.2090 - accuracy: 0.8261\n",
      "Epoch 143/200\n",
      "23/23 [==============================] - 0s 9ms/step - loss: 0.2067 - accuracy: 0.8261\n",
      "Epoch 144/200\n",
      "23/23 [==============================] - 0s 9ms/step - loss: 0.2035 - accuracy: 0.7826\n",
      "Epoch 145/200\n",
      "23/23 [==============================] - 0s 9ms/step - loss: 0.2049 - accuracy: 0.8696\n",
      "Epoch 146/200\n",
      "23/23 [==============================] - 0s 9ms/step - loss: 0.2036 - accuracy: 0.8261\n",
      "Epoch 147/200\n",
      "23/23 [==============================] - 0s 9ms/step - loss: 0.2077 - accuracy: 0.7826\n",
      "Epoch 148/200\n",
      "23/23 [==============================] - 0s 10ms/step - loss: 0.2072 - accuracy: 0.8261\n",
      "Epoch 149/200\n",
      "23/23 [==============================] - 0s 8ms/step - loss: 0.2043 - accuracy: 0.7826\n",
      "Epoch 150/200\n",
      "23/23 [==============================] - 0s 9ms/step - loss: 0.1963 - accuracy: 0.8261\n",
      "Epoch 151/200\n",
      "23/23 [==============================] - 0s 10ms/step - loss: 0.2014 - accuracy: 0.8261\n",
      "Epoch 152/200\n",
      "23/23 [==============================] - 0s 9ms/step - loss: 0.2000 - accuracy: 0.8261\n",
      "Epoch 153/200\n",
      "23/23 [==============================] - 0s 9ms/step - loss: 0.2103 - accuracy: 0.7391\n",
      "Epoch 154/200\n",
      "23/23 [==============================] - 0s 9ms/step - loss: 0.2028 - accuracy: 0.8261\n",
      "Epoch 155/200\n",
      "23/23 [==============================] - 0s 9ms/step - loss: 0.1984 - accuracy: 0.8696\n",
      "Epoch 156/200\n",
      "23/23 [==============================] - 0s 7ms/step - loss: 0.2165 - accuracy: 0.8261\n",
      "Epoch 157/200\n",
      "23/23 [==============================] - 0s 8ms/step - loss: 0.2054 - accuracy: 0.8696\n",
      "Epoch 158/200\n",
      "23/23 [==============================] - 0s 10ms/step - loss: 0.1999 - accuracy: 0.8261\n",
      "Epoch 159/200\n"
     ]
    },
    {
     "name": "stdout",
     "output_type": "stream",
     "text": [
      "23/23 [==============================] - 0s 10ms/step - loss: 0.2064 - accuracy: 0.8261\n",
      "Epoch 160/200\n",
      "23/23 [==============================] - 0s 9ms/step - loss: 0.2065 - accuracy: 0.7826\n",
      "Epoch 161/200\n",
      "23/23 [==============================] - 0s 9ms/step - loss: 0.1917 - accuracy: 0.8261\n",
      "Epoch 162/200\n",
      "23/23 [==============================] - 0s 9ms/step - loss: 0.2017 - accuracy: 0.8261\n",
      "Epoch 163/200\n",
      "23/23 [==============================] - 0s 10ms/step - loss: 0.2022 - accuracy: 0.8261\n",
      "Epoch 164/200\n",
      "23/23 [==============================] - 0s 7ms/step - loss: 0.1997 - accuracy: 0.8696\n",
      "Epoch 165/200\n",
      "23/23 [==============================] - 0s 9ms/step - loss: 0.1990 - accuracy: 0.8696\n",
      "Epoch 166/200\n",
      "23/23 [==============================] - 0s 10ms/step - loss: 0.1915 - accuracy: 0.8696\n",
      "Epoch 167/200\n",
      "23/23 [==============================] - 0s 10ms/step - loss: 0.2026 - accuracy: 0.8261\n",
      "Epoch 168/200\n",
      "23/23 [==============================] - 0s 11ms/step - loss: 0.2014 - accuracy: 0.8696\n",
      "Epoch 169/200\n",
      "23/23 [==============================] - 0s 7ms/step - loss: 0.1972 - accuracy: 0.8261\n",
      "Epoch 170/200\n",
      "23/23 [==============================] - 0s 8ms/step - loss: 0.2049 - accuracy: 0.7826\n",
      "Epoch 171/200\n",
      "23/23 [==============================] - 0s 10ms/step - loss: 0.2001 - accuracy: 0.8261\n",
      "Epoch 172/200\n",
      "23/23 [==============================] - 0s 10ms/step - loss: 0.1916 - accuracy: 0.7826\n",
      "Epoch 173/200\n",
      "23/23 [==============================] - 0s 9ms/step - loss: 0.1976 - accuracy: 0.7826\n",
      "Epoch 174/200\n",
      "23/23 [==============================] - 0s 9ms/step - loss: 0.1960 - accuracy: 0.8261\n",
      "Epoch 175/200\n",
      "23/23 [==============================] - 0s 10ms/step - loss: 0.2014 - accuracy: 0.7826\n",
      "Epoch 176/200\n",
      "23/23 [==============================] - 0s 9ms/step - loss: 0.1953 - accuracy: 0.7391\n",
      "Epoch 177/200\n",
      "23/23 [==============================] - 0s 9ms/step - loss: 0.1972 - accuracy: 0.8696\n",
      "Epoch 178/200\n",
      "23/23 [==============================] - 0s 10ms/step - loss: 0.2069 - accuracy: 0.7826\n",
      "Epoch 179/200\n",
      "23/23 [==============================] - 0s 9ms/step - loss: 0.1969 - accuracy: 0.7391\n",
      "Epoch 180/200\n",
      "23/23 [==============================] - 0s 10ms/step - loss: 0.1987 - accuracy: 0.7826\n",
      "Epoch 181/200\n",
      "23/23 [==============================] - 0s 9ms/step - loss: 0.2076 - accuracy: 0.7391\n",
      "Epoch 182/200\n",
      "23/23 [==============================] - 0s 9ms/step - loss: 0.1961 - accuracy: 0.7826\n",
      "Epoch 183/200\n",
      "23/23 [==============================] - 0s 9ms/step - loss: 0.2080 - accuracy: 0.7391\n",
      "Epoch 184/200\n",
      "23/23 [==============================] - 0s 10ms/step - loss: 0.2053 - accuracy: 0.8261\n",
      "Epoch 185/200\n",
      "23/23 [==============================] - 0s 10ms/step - loss: 0.1966 - accuracy: 0.7826\n",
      "Epoch 186/200\n",
      "23/23 [==============================] - 0s 10ms/step - loss: 0.2064 - accuracy: 0.7391\n",
      "Epoch 187/200\n",
      "23/23 [==============================] - 0s 9ms/step - loss: 0.2037 - accuracy: 0.7826\n",
      "Epoch 188/200\n",
      "23/23 [==============================] - 0s 8ms/step - loss: 0.2030 - accuracy: 0.7826\n",
      "Epoch 189/200\n",
      "23/23 [==============================] - 0s 9ms/step - loss: 0.2146 - accuracy: 0.7826\n",
      "Epoch 190/200\n",
      "23/23 [==============================] - 0s 10ms/step - loss: 0.2007 - accuracy: 0.8261\n",
      "Epoch 191/200\n",
      "23/23 [==============================] - 0s 10ms/step - loss: 0.1924 - accuracy: 0.8696\n",
      "Epoch 192/200\n",
      "23/23 [==============================] - 0s 9ms/step - loss: 0.1933 - accuracy: 0.7826\n",
      "Epoch 193/200\n",
      "23/23 [==============================] - 0s 10ms/step - loss: 0.1985 - accuracy: 0.8261\n",
      "Epoch 194/200\n",
      "23/23 [==============================] - 0s 9ms/step - loss: 0.2048 - accuracy: 0.8261\n",
      "Epoch 195/200\n",
      "23/23 [==============================] - 0s 10ms/step - loss: 0.1964 - accuracy: 0.7391\n",
      "Epoch 196/200\n",
      "23/23 [==============================] - 0s 10ms/step - loss: 0.1943 - accuracy: 0.8261\n",
      "Epoch 197/200\n",
      "23/23 [==============================] - 0s 9ms/step - loss: 0.1952 - accuracy: 0.8261\n",
      "Epoch 198/200\n",
      "23/23 [==============================] - 0s 10ms/step - loss: 0.2009 - accuracy: 0.7391\n",
      "Epoch 199/200\n",
      "23/23 [==============================] - 0s 9ms/step - loss: 0.1929 - accuracy: 0.8261\n",
      "Epoch 200/200\n",
      "23/23 [==============================] - 0s 10ms/step - loss: 0.1978 - accuracy: 0.8261\n"
     ]
    },
    {
     "data": {
      "text/plain": [
       "<keras.src.callbacks.History at 0x26bddcae4d0>"
      ]
     },
     "execution_count": 18,
     "metadata": {},
     "output_type": "execute_result"
    }
   ],
   "source": [
    "model.fit(X, y, epochs=200, batch_size=1)"
   ]
  },
  {
   "cell_type": "markdown",
   "id": "a526e26f",
   "metadata": {},
   "source": [
    "## Prediction on new data"
   ]
  },
  {
   "cell_type": "code",
   "execution_count": 23,
   "id": "dc60c7c4",
   "metadata": {},
   "outputs": [],
   "source": [
    "new = 'nice'\n",
    "def predict_next_word(model, tokenizer, new, max_sequence_len):\n",
    "    tokenizer = Tokenizer()\n",
    "    tokenizer.fit_on_texts(new)\n",
    "    max_sequence_len = max([len(x) for x in input_sequences])\n",
    "    return model"
   ]
  },
  {
   "cell_type": "code",
   "execution_count": 25,
   "id": "93d0502b",
   "metadata": {},
   "outputs": [
    {
     "name": "stdout",
     "output_type": "stream",
     "text": [
      "Next word: <keras.src.engine.sequential.Sequential object at 0x0000026BD835A890>\n"
     ]
    },
    {
     "data": {
      "text/plain": [
       "<keras.src.engine.sequential.Sequential at 0x26bd835a890>"
      ]
     },
     "execution_count": 25,
     "metadata": {},
     "output_type": "execute_result"
    }
   ],
   "source": [
    "next_word = predict_next_word(model, tokenizer, new, max_sequence_len)\n",
    "print(f\"Next word: {next_word}\")\n",
    "next_word"
   ]
  },
  {
   "cell_type": "code",
   "execution_count": null,
   "id": "82acd045",
   "metadata": {},
   "outputs": [],
   "source": []
  }
 ],
 "metadata": {
  "kernelspec": {
   "display_name": "Python 3 (ipykernel)",
   "language": "python",
   "name": "python3"
  },
  "language_info": {
   "codemirror_mode": {
    "name": "ipython",
    "version": 3
   },
   "file_extension": ".py",
   "mimetype": "text/x-python",
   "name": "python",
   "nbconvert_exporter": "python",
   "pygments_lexer": "ipython3",
   "version": "3.11.7"
  }
 },
 "nbformat": 4,
 "nbformat_minor": 5
}
