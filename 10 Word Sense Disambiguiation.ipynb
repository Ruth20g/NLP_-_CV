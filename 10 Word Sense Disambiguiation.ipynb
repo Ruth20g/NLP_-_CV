{
 "cells": [
  {
   "cell_type": "code",
   "execution_count": 9,
   "id": "f4464d5d",
   "metadata": {},
   "outputs": [],
   "source": [
    "from nltk.wsd import lesk\n",
    "from nltk.tokenize import word_tokenize"
   ]
  },
  {
   "cell_type": "code",
   "execution_count": 10,
   "id": "c9b16550",
   "metadata": {},
   "outputs": [],
   "source": [
    "a1= lesk(word_tokenize('This device is used to jam the signal.'),'jam')"
   ]
  },
  {
   "cell_type": "code",
   "execution_count": 11,
   "id": "fae3bdf8",
   "metadata": {},
   "outputs": [
    {
     "data": {
      "text/plain": [
       "'deliberate radiation or reflection of electromagnetic energy for the purpose of disrupting enemy use of electronic devices or systems'"
      ]
     },
     "execution_count": 11,
     "metadata": {},
     "output_type": "execute_result"
    }
   ],
   "source": [
    "a1.definition()"
   ]
  },
  {
   "cell_type": "code",
   "execution_count": 12,
   "id": "0cecb407",
   "metadata": {},
   "outputs": [
    {
     "data": {
      "text/plain": [
       "'get stuck and immobilized'"
      ]
     },
     "execution_count": 12,
     "metadata": {},
     "output_type": "execute_result"
    }
   ],
   "source": [
    "a2= lesk(word_tokenize('We are stuck in a traffic jam.'), 'jam')\n",
    "a2.definition()"
   ]
  },
  {
   "cell_type": "code",
   "execution_count": 16,
   "id": "bb6572bb",
   "metadata": {},
   "outputs": [
    {
     "data": {
      "text/plain": [
       "'a superior quality of strong durable white writing paper; originally made for printing documents'"
      ]
     },
     "execution_count": 16,
     "metadata": {},
     "output_type": "execute_result"
    }
   ],
   "source": [
    "a3= lesk(word_tokenize('They made a bond.'), 'bond')\n",
    "a3.definition()"
   ]
  },
  {
   "cell_type": "code",
   "execution_count": 17,
   "id": "96d2fa81",
   "metadata": {},
   "outputs": [
    {
     "data": {
      "text/plain": [
       "'a kind of person'"
      ]
     },
     "execution_count": 17,
     "metadata": {},
     "output_type": "execute_result"
    }
   ],
   "source": [
    "a2= lesk(word_tokenize('The association is like a bad combination.'), 'like')\n",
    "a2.definition()"
   ]
  },
  {
   "cell_type": "code",
   "execution_count": 18,
   "id": "9f5c97ec",
   "metadata": {},
   "outputs": [
    {
     "data": {
      "text/plain": [
       "'prefer or wish to do something'"
      ]
     },
     "execution_count": 18,
     "metadata": {},
     "output_type": "execute_result"
    }
   ],
   "source": [
    "a2= lesk(word_tokenize('He like flowers.'), 'like')\n",
    "a2.definition()"
   ]
  },
  {
   "cell_type": "code",
   "execution_count": 19,
   "id": "05586f6d",
   "metadata": {},
   "outputs": [
    {
     "data": {
      "text/plain": [
       "'a slope in the turn of a road or track; the outside is higher than the inside in order to reduce the effects of centrifugal force'"
      ]
     },
     "execution_count": 19,
     "metadata": {},
     "output_type": "execute_result"
    }
   ],
   "source": [
    "a2= lesk(word_tokenize('His home is situated on the banks of river.'), 'banks')\n",
    "a2.definition()"
   ]
  },
  {
   "cell_type": "code",
   "execution_count": null,
   "id": "be877cb9",
   "metadata": {},
   "outputs": [],
   "source": []
  }
 ],
 "metadata": {
  "kernelspec": {
   "display_name": "Python 3 (ipykernel)",
   "language": "python",
   "name": "python3"
  },
  "language_info": {
   "codemirror_mode": {
    "name": "ipython",
    "version": 3
   },
   "file_extension": ".py",
   "mimetype": "text/x-python",
   "name": "python",
   "nbconvert_exporter": "python",
   "pygments_lexer": "ipython3",
   "version": "3.11.7"
  }
 },
 "nbformat": 4,
 "nbformat_minor": 5
}
