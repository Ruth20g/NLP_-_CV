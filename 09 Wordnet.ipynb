{
 "cells": [
  {
   "cell_type": "code",
   "execution_count": 1,
   "id": "17789ea9",
   "metadata": {},
   "outputs": [],
   "source": [
    "from nltk.corpus import wordnet"
   ]
  },
  {
   "cell_type": "code",
   "execution_count": 2,
   "id": "2660db36",
   "metadata": {},
   "outputs": [
    {
     "data": {
      "text/plain": [
       "<WordNetCorpusReader in 'C:\\\\Users\\\\Administrator.DAI-PC2\\\\AppData\\\\Roaming\\\\nltk_data\\\\corpora\\\\wordnet.zip/wordnet/'>"
      ]
     },
     "execution_count": 2,
     "metadata": {},
     "output_type": "execute_result"
    }
   ],
   "source": [
    "wordnet"
   ]
  },
  {
   "cell_type": "code",
   "execution_count": 9,
   "id": "cf192c48",
   "metadata": {},
   "outputs": [],
   "source": [
    "#Synonyms \n",
    "x = wordnet.synsets('create')"
   ]
  },
  {
   "cell_type": "code",
   "execution_count": 10,
   "id": "bc6cbc7d",
   "metadata": {},
   "outputs": [
    {
     "data": {
      "text/plain": [
       "[Synset('beautiful.a.01'), Synset('beautiful.s.02')]"
      ]
     },
     "execution_count": 10,
     "metadata": {},
     "output_type": "execute_result"
    }
   ],
   "source": [
    "x"
   ]
  },
  {
   "cell_type": "code",
   "execution_count": 5,
   "id": "4ed95247",
   "metadata": {},
   "outputs": [],
   "source": [
    "synonyms= set()\n",
    "for word in wordnet.synsets('create'):\n",
    "    synonyms.add(word.lemmas()[0].name())"
   ]
  },
  {
   "cell_type": "code",
   "execution_count": 6,
   "id": "7b8bfa71",
   "metadata": {},
   "outputs": [
    {
     "data": {
      "text/plain": [
       "{'create', 'make', 'produce'}"
      ]
     },
     "execution_count": 6,
     "metadata": {},
     "output_type": "execute_result"
    }
   ],
   "source": [
    "synonyms"
   ]
  },
  {
   "cell_type": "code",
   "execution_count": 14,
   "id": "f6abcb70",
   "metadata": {},
   "outputs": [
    {
     "name": "stdout",
     "output_type": "stream",
     "text": [
      "make\n",
      "create\n",
      "create\n",
      "create\n",
      "create\n",
      "produce\n"
     ]
    }
   ],
   "source": [
    "synonyms= set()\n",
    "for word in wordnet.synsets('create'):\n",
    "    print(word.lemmas()[0].name())"
   ]
  },
  {
   "cell_type": "code",
   "execution_count": 17,
   "id": "411654c7",
   "metadata": {},
   "outputs": [
    {
     "name": "stdout",
     "output_type": "stream",
     "text": [
      "good\n",
      "good\n",
      "good\n",
      "commodity\n",
      "good\n",
      "full\n",
      "good\n",
      "estimable\n",
      "beneficial\n",
      "good\n",
      "good\n",
      "adept\n",
      "good\n",
      "dear\n",
      "dependable\n",
      "good\n",
      "good\n",
      "effective\n",
      "good\n",
      "good\n",
      "good\n",
      "good\n",
      "good\n",
      "good\n",
      "good\n",
      "well\n",
      "thoroughly\n"
     ]
    }
   ],
   "source": [
    "synonyms= set()\n",
    "for word in wordnet.synsets('good'):\n",
    "    print(word.lemmas()[0].name())"
   ]
  },
  {
   "cell_type": "markdown",
   "id": "fab936eb",
   "metadata": {},
   "source": [
    " ### Definition and Examples"
   ]
  },
  {
   "cell_type": "code",
   "execution_count": 20,
   "id": "28c77a98",
   "metadata": {},
   "outputs": [
    {
     "name": "stdout",
     "output_type": "stream",
     "text": [
      "Word and Type: post.n.01\n",
      "Synonym: post\n",
      "The meaning of the word: the position where someone (as a guard or sentry) stands or is assigned to stand\n",
      "Example: ['a soldier manned the entrance post', 'a sentry station']\n"
     ]
    }
   ],
   "source": [
    "synset= wordnet.synsets('post')\n",
    "print('Word and Type: ' + synset[0].name())\n",
    "print('Synonym: '+ synset[0].lemmas()[0].name())\n",
    "print('The meaning of the word: '+ synset[0].definition())\n",
    "print('Example: '+ str(synset[0].examples()))"
   ]
  },
  {
   "cell_type": "code",
   "execution_count": 24,
   "id": "7f02b360",
   "metadata": {},
   "outputs": [
    {
     "name": "stdout",
     "output_type": "stream",
     "text": [
      "Word and Type: position.n.06\n",
      "Synonym: position\n",
      "The meaning of the word: a job in an organization\n",
      "Example: ['he occupied a post in the treasury']\n"
     ]
    }
   ],
   "source": [
    "synset= wordnet.synsets('post')\n",
    "print('Word and Type: ' + synset[2].name())\n",
    "print('Synonym: '+ synset[2].lemmas()[0].name())\n",
    "print('The meaning of the word: '+ synset[2].definition())\n",
    "print('Example: '+ str(synset[2].examples()))"
   ]
  },
  {
   "cell_type": "code",
   "execution_count": 25,
   "id": "77e01ff0",
   "metadata": {},
   "outputs": [
    {
     "name": "stdout",
     "output_type": "stream",
     "text": [
      "Word and Type: post.n.09\n",
      "Synonym: post\n",
      "The meaning of the word: a pole or stake set up to mark something (as the start or end of a race track)\n",
      "Example: ['a pair of posts marked the goal', 'the corner of the lot was indicated by a stake']\n"
     ]
    }
   ],
   "source": [
    "synset= wordnet.synsets('post')\n",
    "print('Word and Type: ' + synset[8].name())\n",
    "print('Synonym: '+ synset[8].lemmas()[0].name())\n",
    "print('The meaning of the word: '+ synset[8].definition())\n",
    "print('Example: '+ str(synset[8].examples()))"
   ]
  },
  {
   "cell_type": "code",
   "execution_count": 26,
   "id": "e21f322d",
   "metadata": {},
   "outputs": [
    {
     "name": "stdout",
     "output_type": "stream",
     "text": [
      "sound.n.01\n",
      "sound.n.02\n",
      "sound.n.03\n",
      "sound.n.04\n",
      "audio.n.01\n",
      "phone.n.02\n",
      "strait.n.01\n",
      "sound.n.08\n",
      "sound.v.01\n",
      "sound.v.02\n",
      "sound.v.03\n",
      "sound.v.04\n",
      "voice.v.02\n",
      "sound.v.06\n",
      "fathom.v.02\n",
      "sound.a.01\n",
      "healthy.s.04\n",
      "sound.a.03\n",
      "good.s.17\n",
      "reasoned.s.01\n",
      "legal.s.03\n",
      "sound.s.07\n",
      "heavy.s.26\n",
      "sound.s.09\n"
     ]
    }
   ],
   "source": [
    "for word in wordnet.synsets('sound'):\n",
    "    print(word.name())"
   ]
  },
  {
   "cell_type": "code",
   "execution_count": 27,
   "id": "759d1284",
   "metadata": {},
   "outputs": [
    {
     "name": "stdout",
     "output_type": "stream",
     "text": [
      "sound.v.01\n",
      "sound.v.02\n",
      "sound.v.03\n",
      "sound.v.04\n",
      "voice.v.02\n",
      "sound.v.06\n",
      "fathom.v.02\n"
     ]
    }
   ],
   "source": [
    "for word in wordnet.synsets('sound', pos='v'): ###only verb\n",
    "    print(word.name())"
   ]
  },
  {
   "cell_type": "code",
   "execution_count": 29,
   "id": "8983d2f0",
   "metadata": {},
   "outputs": [
    {
     "name": "stdout",
     "output_type": "stream",
     "text": [
      "sound.n.01\n",
      "sound.n.02\n",
      "sound.n.03\n",
      "sound.n.04\n",
      "audio.n.01\n",
      "phone.n.02\n",
      "strait.n.01\n",
      "sound.n.08\n"
     ]
    }
   ],
   "source": [
    "for word in wordnet.synsets('sound', pos='n'): ###only noun\n",
    "    print(word.name())"
   ]
  },
  {
   "cell_type": "code",
   "execution_count": 30,
   "id": "649c13b1",
   "metadata": {},
   "outputs": [],
   "source": [
    "## Read a word from user and print all meanings of it\n",
    "## Read a word from user and print all noun meanings of it"
   ]
  },
  {
   "cell_type": "code",
   "execution_count": 40,
   "id": "503a73e0",
   "metadata": {},
   "outputs": [
    {
     "name": "stdout",
     "output_type": "stream",
     "text": [
      "Enter the wordpeople\n",
      "Meaning of people are:\n",
      "people.n.01 ----> (plural) any group of human beings (men or women or children) collectively\n",
      "citizenry.n.01 ----> the body of citizens of a state or country\n",
      "people.n.03 ----> members of a family line\n",
      "multitude.n.03 ----> the common people generally\n",
      "people.v.01 ----> fill with people\n",
      "people.v.02 ----> furnish with people\n"
     ]
    }
   ],
   "source": [
    "word=input('Enter the word')\n",
    "print('Meaning of', word, 'are:')\n",
    "for word in wordnet.synsets(word):\n",
    "    print(word.name(), '---->',word.definition())"
   ]
  },
  {
   "cell_type": "code",
   "execution_count": 42,
   "id": "d4f40991",
   "metadata": {},
   "outputs": [
    {
     "name": "stdout",
     "output_type": "stream",
     "text": [
      "Enter the word: son\n",
      "Meaning of son are:\n",
      "son.n.01 ----> a male human offspring\n",
      "son.n.02 ----> the divine word of God; the second person in the Trinity (incarnate in Jesus)\n"
     ]
    }
   ],
   "source": [
    "w2=input('Enter the word: ')\n",
    "print('Meaning of', w2, 'are:')\n",
    "for w2 in wordnet.synsets(w2, pos='n'):\n",
    "    print(w2.name(), '---->',w2.definition() )"
   ]
  },
  {
   "cell_type": "markdown",
   "id": "2505610a",
   "metadata": {},
   "source": [
    "### Extract specific pos from word"
   ]
  },
  {
   "cell_type": "code",
   "execution_count": 43,
   "id": "efe23fee",
   "metadata": {},
   "outputs": [],
   "source": [
    "verbs= set()\n",
    "nouns= set()\n",
    "adj = set()\n",
    "for word in wordnet.synsets('sound', pos='n'):\n",
    "    nouns.add(word.lemmas()[0].name())\n",
    "for word in wordnet.synsets('sound', pos='v'):\n",
    "    verbs.add(word.lemmas()[0].name())\n",
    "for word in wordnet.synsets('sound', pos='a'):\n",
    "    adj.add(word.lemmas()[0].name())"
   ]
  },
  {
   "cell_type": "code",
   "execution_count": 44,
   "id": "b7e5298e",
   "metadata": {},
   "outputs": [
    {
     "data": {
      "text/plain": [
       "{'fathom', 'sound', 'voice'}"
      ]
     },
     "execution_count": 44,
     "metadata": {},
     "output_type": "execute_result"
    }
   ],
   "source": [
    "verbs\n"
   ]
  },
  {
   "cell_type": "code",
   "execution_count": 45,
   "id": "0656daa5",
   "metadata": {},
   "outputs": [
    {
     "data": {
      "text/plain": [
       "{'audio', 'phone', 'sound', 'strait'}"
      ]
     },
     "execution_count": 45,
     "metadata": {},
     "output_type": "execute_result"
    }
   ],
   "source": [
    "nouns"
   ]
  },
  {
   "cell_type": "code",
   "execution_count": 46,
   "id": "d3426e28",
   "metadata": {},
   "outputs": [
    {
     "data": {
      "text/plain": [
       "{'good', 'healthy', 'heavy', 'legal', 'reasoned', 'sound'}"
      ]
     },
     "execution_count": 46,
     "metadata": {},
     "output_type": "execute_result"
    }
   ],
   "source": [
    "adj"
   ]
  },
  {
   "cell_type": "markdown",
   "id": "e0242b68",
   "metadata": {},
   "source": [
    "### Find the antonyms of word"
   ]
  },
  {
   "cell_type": "code",
   "execution_count": 51,
   "id": "a3529c9e",
   "metadata": {},
   "outputs": [
    {
     "name": "stdout",
     "output_type": "stream",
     "text": [
      "Antonyms:  {'evil', 'badness', 'bad', 'evilness', 'ill'}\n"
     ]
    }
   ],
   "source": [
    "ant= set()\n",
    "for synset in wordnet.synsets('good'):\n",
    "    for lemma in synset.lemmas():\n",
    "        if lemma.antonyms():      #When antonyms are available, add them into the list\n",
    "            ant.add(lemma.antonyms()[0].name())\n",
    "print('Antonyms: ',ant)"
   ]
  },
  {
   "cell_type": "markdown",
   "id": "48fca506",
   "metadata": {},
   "source": [
    "### Extract the hypernyms"
   ]
  },
  {
   "cell_type": "code",
   "execution_count": 54,
   "id": "addb3ea2",
   "metadata": {},
   "outputs": [],
   "source": [
    "word= 'world'\n",
    "synsets= wordnet.synsets(word)"
   ]
  },
  {
   "cell_type": "code",
   "execution_count": 55,
   "id": "8ca05499",
   "metadata": {},
   "outputs": [
    {
     "name": "stdout",
     "output_type": "stream",
     "text": [
      "world is a hyponym of natural_object.n.01\n",
      "world is a hyponym of class.n.03\n",
      "world is a hyponym of experience.n.02\n",
      "world is a hyponym of people.n.01\n",
      "world is a hyponym of part.n.03\n",
      "world is a hyponym of concern.n.01\n",
      "world is a hyponym of group.n.01\n",
      "world is a hyponym of homo.n.02\n"
     ]
    }
   ],
   "source": [
    "for synset in synsets:\n",
    "    #get hypernyms\n",
    "    hypernyms= synset.hypernyms()\n",
    "    \n",
    "    #check if there are hypernyms\n",
    "    if hypernyms:\n",
    "        for hypernym in hypernyms:\n",
    "            print(f\"{word} is a hyponym of {hypernym.name()}\")"
   ]
  },
  {
   "cell_type": "code",
   "execution_count": 56,
   "id": "b569c19e",
   "metadata": {},
   "outputs": [
    {
     "name": "stdout",
     "output_type": "stream",
     "text": [
      "crop is a hyponym of output.n.02\n",
      "crop is a hyponym of plant.n.02\n",
      "crop is a hyponym of collection.n.01\n",
      "crop is a hyponym of end_product.n.01\n",
      "crop is a hyponym of handle.n.01\n",
      "crop is a hyponym of stomach.n.01\n",
      "crop is a hyponym of cut.v.32\n",
      "crop is a hyponym of fix.v.12\n",
      "crop is a hyponym of bear.v.05\n",
      "crop is a hyponym of feed.v.02\n",
      "crop is a hyponym of feed.v.06\n",
      "crop is a hyponym of thin_out.v.01\n"
     ]
    }
   ],
   "source": [
    "word= 'crop'\n",
    "synsets= wordnet.synsets(word)\n",
    "for synset in synsets:\n",
    "    #get hypernyms\n",
    "    hypernyms= synset.hypernyms()\n",
    "    \n",
    "    #check if there are hypernyms\n",
    "    if hypernyms:\n",
    "        for hypernym in hypernyms:\n",
    "            print(f\"{word} is a hyponym of {hypernym.name()}\")"
   ]
  },
  {
   "cell_type": "markdown",
   "id": "e8d6dd70",
   "metadata": {},
   "source": [
    "Extract the meronyms"
   ]
  },
  {
   "cell_type": "code",
   "execution_count": 59,
   "id": "2f0e4c26",
   "metadata": {},
   "outputs": [
    {
     "name": "stdout",
     "output_type": "stream",
     "text": [
      "house has a meronym: library.n.01\n",
      "house has a meronym: loft.n.02\n",
      "house has a meronym: porch.n.01\n",
      "house has a meronym: study.n.05\n",
      "house has a meronym: claque.n.01\n",
      "house has a meronym: box_office.n.02\n",
      "house has a meronym: circle.n.07\n",
      "house has a meronym: dressing_room.n.01\n",
      "house has a meronym: greenroom.n.01\n",
      "house has a meronym: orchestra.n.02\n",
      "house has a meronym: orchestra_pit.n.01\n",
      "house has a meronym: parquet.n.02\n",
      "house has a meronym: parquet_circle.n.01\n",
      "house has a meronym: stage.n.03\n",
      "house has a meronym: standing_room.n.01\n",
      "house has a meronym: theater_stage.n.01\n",
      "house has a meronym: tiered_seat.n.01\n"
     ]
    }
   ],
   "source": [
    "word = 'house'\n",
    "synsets = wordnet.synsets(word)\n",
    "for synset in synsets:\n",
    "    #get part meronyms(component parts)\n",
    "    meronyms= synset.part_meronyms()\n",
    "    \n",
    "    #check if there are meronyms\n",
    "    if meronyms:\n",
    "        #Print meronyms (can access name property for text)\n",
    "        for meronym in meronyms:\n",
    "            print(f\"{word} has a meronym: {meronym.name()}\")"
   ]
  },
  {
   "cell_type": "code",
   "execution_count": 63,
   "id": "b537a309",
   "metadata": {},
   "outputs": [
    {
     "name": "stdout",
     "output_type": "stream",
     "text": [
      "human has a meronym: arm.n.01\n",
      "human has a meronym: body_hair.n.01\n",
      "human has a meronym: face.n.01\n",
      "human has a meronym: foot.n.01\n",
      "human has a meronym: hand.n.01\n",
      "human has a meronym: human_body.n.01\n",
      "human has a meronym: human_head.n.01\n",
      "human has a meronym: loin.n.02\n",
      "human has a meronym: mane.n.02\n"
     ]
    }
   ],
   "source": [
    "word = 'human'\n",
    "synsets = wordnet.synsets(word)\n",
    "for synset in synsets:\n",
    "    #get part meronyms(component parts)\n",
    "    meronyms= synset.part_meronyms()\n",
    "    \n",
    "    #check if there are meronyms\n",
    "    if meronyms:\n",
    "        #Print meronyms (can access name property for text)\n",
    "        for meronym in meronyms:\n",
    "            print(f\"{word} has a meronym: {meronym.name()}\")"
   ]
  },
  {
   "cell_type": "code",
   "execution_count": null,
   "id": "987e22b4",
   "metadata": {},
   "outputs": [],
   "source": []
  }
 ],
 "metadata": {
  "kernelspec": {
   "display_name": "Python 3 (ipykernel)",
   "language": "python",
   "name": "python3"
  },
  "language_info": {
   "codemirror_mode": {
    "name": "ipython",
    "version": 3
   },
   "file_extension": ".py",
   "mimetype": "text/x-python",
   "name": "python",
   "nbconvert_exporter": "python",
   "pygments_lexer": "ipython3",
   "version": "3.11.7"
  }
 },
 "nbformat": 4,
 "nbformat_minor": 5
}
